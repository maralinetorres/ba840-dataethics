{
  "nbformat": 4,
  "nbformat_minor": 0,
  "metadata": {
    "colab": {
      "name": "compas.ipynb",
      "provenance": [],
      "collapsed_sections": []
    },
    "kernelspec": {
      "name": "python3",
      "display_name": "Python 3"
    },
    "language_info": {
      "name": "python"
    }
  },
  "cells": [
    {
      "cell_type": "markdown",
      "metadata": {
        "id": "WJ6aGETPNkLk"
      },
      "source": [
        "# Compas Fairness Assignment\n",
        "\n",
        "Antonio Moral, Maraline Torres, Jordan Grose, Sylar Guo, Christian Lawrence "
      ]
    },
    {
      "cell_type": "markdown",
      "metadata": {
        "id": "TxPi9yYFan7P"
      },
      "source": [
        "## FAIRNESS\n",
        "Fairness is a situation in which the people involved are treated in an equitable way and have the benefits and responsibilities that correspond to them.\n",
        "\n",
        "People marked as high risk are more likely to comit a repeat offense, regardless of race or group.\n",
        "\n",
        "Our hypothesis is that regardless of race, people with the same decile score, should have a similar probability of comitting another crime. \n",
        "\n",
        "Below we test this hypothesis.\n",
        "\n"
      ]
    },
    {
      "cell_type": "code",
      "metadata": {
        "id": "t9paOyVwZMtK"
      },
      "source": [
        "import numpy as np\n",
        "import pandas as pd\n",
        "import matplotlib.pyplot as plt\n",
        "import seaborn as sns"
      ],
      "execution_count": null,
      "outputs": []
    },
    {
      "cell_type": "code",
      "metadata": {
        "colab": {
          "base_uri": "https://localhost:8080/",
          "height": 280
        },
        "id": "2UoRbXQ5bO8L",
        "outputId": "8b5491f3-e059-4e93-9efd-1d8f63bd87c8"
      },
      "source": [
        "sns.countplot(x='decile_score', hue='is_recid', data=df);"
      ],
      "execution_count": null,
      "outputs": [
        {
          "output_type": "display_data",
          "data": {
            "image/png": "[encoded data removed]",
            "text/plain": [
              "<Figure size 432x288 with 1 Axes>"
            ]
          },
          "metadata": {
            "tags": [],
            "needs_background": "light"
          }
        }
      ]
    },
    {
      "cell_type": "markdown",
      "metadata": {
        "id": "K0mh0DmGDk9U"
      },
      "source": [
        "The above graph shows us the recidivism rates at all decile_score levels, for all races. At decile_score = 5, the recidivism rate is higher than 50% (there are more people who are repeat offenders than who aren't). We think that this might be a good threshold but to be sure we decided to run the precision and recall analysis on all possible thresholds.\n"
      ]
    },
    {
      "cell_type": "code",
      "metadata": {
        "colab": {
          "base_uri": "https://localhost:8080/"
        },
        "id": "hLF3p7LQ0Fl-",
        "outputId": "8a16a737-20f2-4e48-cb7d-995f5ba92e0e"
      },
      "source": [
        "df = pd.read_csv('cleanedCompasData.csv')[['race','decile_score','is_recid']]\n",
        "df2 = df.copy()\n",
        "for score in range(1,11):\n",
        "    prediction = []\n",
        "    for decile in df.decile_score:\n",
        "        if decile >= score:\n",
        "            prediction.append(1)\n",
        "        else: prediction.append(0)\n",
        "    df2[f'prediction_decile_{score}'] = prediction\n",
        "from sklearn.metrics import recall_score\n",
        "from sklearn.metrics import precision_score\n",
        "for x in range(3,13):\n",
        "    print(f'Decile Threshold: {x-2}')\n",
        "    recall = recall_score(df2.is_recid, df2.iloc[:,x])\n",
        "    precision = precision_score(df2.is_recid, df2.iloc[:,x])\n",
        "    print(f'Precision: {round(precision,2)}')\n",
        "    print(f'Recall: {round(recall,2)}')\n",
        "    print('-----------')"
      ],
      "execution_count": null,
      "outputs": [
        {
          "output_type": "stream",
          "text": [
            "Decile Threshold: 1\n",
            "Precision: 0.48\n",
            "Recall: 1.0\n",
            "-----------\n",
            "Decile Threshold: 2\n",
            "Precision: 0.55\n",
            "Recall: 0.9\n",
            "-----------\n",
            "Decile Threshold: 3\n",
            "Precision: 0.59\n",
            "Recall: 0.8\n",
            "-----------\n",
            "Decile Threshold: 4\n",
            "Precision: 0.62\n",
            "Recall: 0.71\n",
            "-----------\n",
            "Decile Threshold: 5\n",
            "Precision: 0.66\n",
            "Recall: 0.61\n",
            "-----------\n",
            "Decile Threshold: 6\n",
            "Precision: 0.7\n",
            "Recall: 0.51\n",
            "-----------\n",
            "Decile Threshold: 7\n",
            "Precision: 0.73\n",
            "Recall: 0.4\n",
            "-----------\n",
            "Decile Threshold: 8\n",
            "Precision: 0.77\n",
            "Recall: 0.29\n",
            "-----------\n",
            "Decile Threshold: 9\n",
            "Precision: 0.77\n",
            "Recall: 0.19\n",
            "-----------\n",
            "Decile Threshold: 10\n",
            "Precision: 0.82\n",
            "Recall: 0.08\n",
            "-----------\n"
          ],
          "name": "stdout"
        }
      ]
    },
    {
      "cell_type": "markdown",
      "metadata": {
        "id": "1zVVnLqUFeUT"
      },
      "source": [
        "Above we have the precision and recall stats for each threshold of decile_score. We'll use this to determine the best threshold based on factors we feel are most important. We think that recall is more important to maximize because we believe it is more valuable to society to keep a repeat offender in jail than falsely keep an innocent person in jail."
      ]
    },
    {
      "cell_type": "markdown",
      "metadata": {
        "id": "ZdOBtZM-N81m"
      },
      "source": [
        "For the confusion matrices below, we used the threshold of 4 for the Decile Score, meaning that any person listed with a decile score higher than 4 would be marked as high risk."
      ]
    },
    {
      "cell_type": "code",
      "metadata": {
        "colab": {
          "base_uri": "https://localhost:8080/"
        },
        "id": "6XZdUQwyzI9l",
        "outputId": "b32d4d73-4379-4d3b-f778-d89097125a1e"
      },
      "source": [
        "df_africanamerican = df.loc[df.race == 'African-American',]\n",
        "df_africanamerican['threshold'] = np.where(df_africanamerican.decile_score < 4, 0,1)\n",
        "confusion_matrix = pd.crosstab(df_africanamerican['is_recid'], df_africanamerican['threshold'], rownames=['Recidivism'], colnames=['High_Risk'], normalize=True)\n",
        "print(confusion_matrix)"
      ],
      "execution_count": null,
      "outputs": [
        {
          "output_type": "stream",
          "text": [
            "High_Risk          0         1\n",
            "Recidivism                    \n",
            "0           0.206299  0.235276\n",
            "1           0.111496  0.446929\n"
          ],
          "name": "stdout"
        },
        {
          "output_type": "stream",
          "text": [
            "/usr/local/lib/python3.7/dist-packages/ipykernel_launcher.py:2: SettingWithCopyWarning: \n",
            "A value is trying to be set on a copy of a slice from a DataFrame.\n",
            "Try using .loc[row_indexer,col_indexer] = value instead\n",
            "\n",
            "See the caveats in the documentation: https://pandas.pydata.org/pandas-docs/stable/user_guide/indexing.html#returning-a-view-versus-a-copy\n",
            "  \n"
          ],
          "name": "stderr"
        }
      ]
    },
    {
      "cell_type": "code",
      "metadata": {
        "colab": {
          "base_uri": "https://localhost:8080/"
        },
        "id": "gy518swA0CmX",
        "outputId": "043d7075-42da-4200-e312-17b8008bfdba"
      },
      "source": [
        "df_caucasian = df.loc[df.race =='Caucasian', ]\n",
        "df_caucasian['threshold'] = np.where(df_caucasian.decile_score < 4, 0,1)\n",
        "confusion_matrix = pd.crosstab(df_caucasian['is_recid'], df_caucasian['threshold'], rownames=['Recidivism'], colnames=['High_Risk'], normalize=True)\n",
        "print(confusion_matrix)"
      ],
      "execution_count": null,
      "outputs": [
        {
          "output_type": "stream",
          "text": [
            "High_Risk          0         1\n",
            "Recidivism                    \n",
            "0           0.393248  0.191155\n",
            "1           0.160247  0.255350\n"
          ],
          "name": "stdout"
        },
        {
          "output_type": "stream",
          "text": [
            "/usr/local/lib/python3.7/dist-packages/ipykernel_launcher.py:2: SettingWithCopyWarning: \n",
            "A value is trying to be set on a copy of a slice from a DataFrame.\n",
            "Try using .loc[row_indexer,col_indexer] = value instead\n",
            "\n",
            "See the caveats in the documentation: https://pandas.pydata.org/pandas-docs/stable/user_guide/indexing.html#returning-a-view-versus-a-copy\n",
            "  \n"
          ],
          "name": "stderr"
        }
      ]
    },
    {
      "cell_type": "markdown",
      "metadata": {
        "id": "E-kNS_sJ-0Zx"
      },
      "source": [
        "African American:  We see that for African-Americans, the rate of false positives is higher than that of Caucasians, which means that the decile score is biased against African Americans because it is predicting higher recividency rates incorrectly (predicting a future crime, when there isn't one).\n",
        "\n",
        "\n",
        "\n",
        "Caucasian:  We see that for Caucasians, the rate of false negatives is higher than that of African Americans, meaning that decile score is biased in favor of Caucasians because it is predicting low risk even in cases when a Caucasian ends up committing another crime.\n",
        "\n",
        "\n",
        "\n",
        "In summary, the decile score is a biased metric against the African-American population and is not fair based on our definition of fairness."
      ]
    },
    {
      "cell_type": "markdown",
      "metadata": {
        "id": "hzowxO0LOUfm"
      },
      "source": [
        "We believe one of the reasons why this process is unfair could be due to the different distributions within Decile Scores. In the bar graph below we can observe that for Caucasians, the number of people in each decile score decreases as decile score increases. However, for African-Americans the number of people in each decile score stays relatively the same, meaning that there are significantly more African-Americans in the higher decile scores. "
      ]
    },
    {
      "cell_type": "code",
      "metadata": {
        "colab": {
          "base_uri": "https://localhost:8080/",
          "height": 407
        },
        "id": "rXzONxbXbaQY",
        "outputId": "f5684847-125b-4854-96e0-9a41415b46e4"
      },
      "source": [
        "f, ax = plt.subplots(figsize=(5,6))\n",
        "sns.countplot(x='decile_score',hue = 'race',data = df)"
      ],
      "execution_count": null,
      "outputs": [
        {
          "output_type": "execute_result",
          "data": {
            "text/plain": [
              "<matplotlib.axes._subplots.AxesSubplot at 0x7ff49a619090>"
            ]
          },
          "metadata": {
            "tags": []
          },
          "execution_count": 96
        },
        {
          "output_type": "display_data",
          "data": {
            "image/png": "[encoded data removed]",
            "text/plain": [
              "<Figure size 360x432 with 1 Axes>"
            ]
          },
          "metadata": {
            "tags": [],
            "needs_background": "light"
          }
        }
      ]
    },
    {
      "cell_type": "markdown",
      "metadata": {
        "id": "Nyopz9baQKQQ"
      },
      "source": [
        "This is specially problematic given that, as seen below, people from both races tend to have similar recidivism rates per decile score."
      ]
    },
    {
      "cell_type": "code",
      "metadata": {
        "colab": {
          "base_uri": "https://localhost:8080/",
          "height": 228
        },
        "id": "1_Obv9yHbaIU",
        "outputId": "30390394-c6fc-4863-e9b1-7b0c3b2079bc"
      },
      "source": [
        "round(df2.groupby(['decile_score','race']).is_recid.value_counts(normalize=True, sort = False).to_frame().unstack(level=0).fillna(0),2)"
      ],
      "execution_count": null,
      "outputs": [
        {
          "output_type": "execute_result",
          "data": {
            "text/html": [
              "<div>\n",
              "<style scoped>\n",
              "    .dataframe tbody tr th:only-of-type {\n",
              "        vertical-align: middle;\n",
              "    }\n",
              "\n",
              "    .dataframe tbody tr th {\n",
              "        vertical-align: top;\n",
              "    }\n",
              "\n",
              "    .dataframe thead tr th {\n",
              "        text-align: left;\n",
              "    }\n",
              "\n",
              "    .dataframe thead tr:last-of-type th {\n",
              "        text-align: right;\n",
              "    }\n",
              "</style>\n",
              "<table border=\"1\" class=\"dataframe\">\n",
              "  <thead>\n",
              "    <tr>\n",
              "      <th></th>\n",
              "      <th></th>\n",
              "      <th colspan=\"10\" halign=\"left\">is_recid</th>\n",
              "    </tr>\n",
              "    <tr>\n",
              "      <th></th>\n",
              "      <th>decile_score</th>\n",
              "      <th>1</th>\n",
              "      <th>2</th>\n",
              "      <th>3</th>\n",
              "      <th>4</th>\n",
              "      <th>5</th>\n",
              "      <th>6</th>\n",
              "      <th>7</th>\n",
              "      <th>8</th>\n",
              "      <th>9</th>\n",
              "      <th>10</th>\n",
              "    </tr>\n",
              "    <tr>\n",
              "      <th>race</th>\n",
              "      <th>is_recid</th>\n",
              "      <th></th>\n",
              "      <th></th>\n",
              "      <th></th>\n",
              "      <th></th>\n",
              "      <th></th>\n",
              "      <th></th>\n",
              "      <th></th>\n",
              "      <th></th>\n",
              "      <th></th>\n",
              "      <th></th>\n",
              "    </tr>\n",
              "  </thead>\n",
              "  <tbody>\n",
              "    <tr>\n",
              "      <th rowspan=\"2\" valign=\"top\">African-American</th>\n",
              "      <th>0</th>\n",
              "      <td>0.75</td>\n",
              "      <td>0.65</td>\n",
              "      <td>0.53</td>\n",
              "      <td>0.49</td>\n",
              "      <td>0.47</td>\n",
              "      <td>0.37</td>\n",
              "      <td>0.35</td>\n",
              "      <td>0.25</td>\n",
              "      <td>0.25</td>\n",
              "      <td>0.15</td>\n",
              "    </tr>\n",
              "    <tr>\n",
              "      <th>1</th>\n",
              "      <td>0.25</td>\n",
              "      <td>0.35</td>\n",
              "      <td>0.47</td>\n",
              "      <td>0.51</td>\n",
              "      <td>0.53</td>\n",
              "      <td>0.63</td>\n",
              "      <td>0.65</td>\n",
              "      <td>0.75</td>\n",
              "      <td>0.75</td>\n",
              "      <td>0.85</td>\n",
              "    </tr>\n",
              "    <tr>\n",
              "      <th rowspan=\"2\" valign=\"top\">Caucasian</th>\n",
              "      <th>0</th>\n",
              "      <td>0.77</td>\n",
              "      <td>0.66</td>\n",
              "      <td>0.63</td>\n",
              "      <td>0.56</td>\n",
              "      <td>0.53</td>\n",
              "      <td>0.40</td>\n",
              "      <td>0.35</td>\n",
              "      <td>0.22</td>\n",
              "      <td>0.27</td>\n",
              "      <td>0.28</td>\n",
              "    </tr>\n",
              "    <tr>\n",
              "      <th>1</th>\n",
              "      <td>0.23</td>\n",
              "      <td>0.34</td>\n",
              "      <td>0.37</td>\n",
              "      <td>0.44</td>\n",
              "      <td>0.47</td>\n",
              "      <td>0.60</td>\n",
              "      <td>0.65</td>\n",
              "      <td>0.78</td>\n",
              "      <td>0.73</td>\n",
              "      <td>0.72</td>\n",
              "    </tr>\n",
              "  </tbody>\n",
              "</table>\n",
              "</div>"
            ],
            "text/plain": [
              "                          is_recid                    ...                        \n",
              "decile_score                    1     2     3     4   ...    7     8     9     10\n",
              "race             is_recid                             ...                        \n",
              "African-American 0            0.75  0.65  0.53  0.49  ...  0.35  0.25  0.25  0.15\n",
              "                 1            0.25  0.35  0.47  0.51  ...  0.65  0.75  0.75  0.85\n",
              "Caucasian        0            0.77  0.66  0.63  0.56  ...  0.35  0.22  0.27  0.28\n",
              "                 1            0.23  0.34  0.37  0.44  ...  0.65  0.78  0.73  0.72\n",
              "\n",
              "[4 rows x 10 columns]"
            ]
          },
          "metadata": {
            "tags": []
          },
          "execution_count": 41
        }
      ]
    },
    {
      "cell_type": "markdown",
      "metadata": {
        "id": "gTERhnPJRyq1"
      },
      "source": [
        "### Additional Analysis / Appendix"
      ]
    },
    {
      "cell_type": "code",
      "metadata": {
        "id": "H8n7-0yvbZ1g"
      },
      "source": [
        "df2 = df[(df['race']== 'African-American') | (df['race'] == 'Caucasian')]"
      ],
      "execution_count": null,
      "outputs": []
    },
    {
      "cell_type": "code",
      "metadata": {
        "colab": {
          "base_uri": "https://localhost:8080/"
        },
        "id": "UOkg6sw-bZ48",
        "outputId": "bd27289f-142e-4686-b910-d64c428a87db"
      },
      "source": [
        "df2.info()"
      ],
      "execution_count": null,
      "outputs": [
        {
          "output_type": "stream",
          "text": [
            "<class 'pandas.core.frame.DataFrame'>\n",
            "Int64Index: 5278 entries, 1 to 6170\n",
            "Data columns (total 14 columns):\n",
            " #   Column                   Non-Null Count  Dtype \n",
            "---  ------                   --------------  ----- \n",
            " 0   Unnamed: 0               5278 non-null   int64 \n",
            " 1   age                      5278 non-null   int64 \n",
            " 2   c_charge_degree          5278 non-null   object\n",
            " 3   race                     5278 non-null   object\n",
            " 4   age_cat                  5278 non-null   object\n",
            " 5   score_text               5278 non-null   object\n",
            " 6   sex                      5278 non-null   object\n",
            " 7   priors_count             5278 non-null   int64 \n",
            " 8   days_b_screening_arrest  5278 non-null   int64 \n",
            " 9   decile_score             5278 non-null   int64 \n",
            " 10  is_recid                 5278 non-null   int64 \n",
            " 11  two_year_recid           5278 non-null   int64 \n",
            " 12  c_jail_in                5278 non-null   object\n",
            " 13  c_jail_out               5278 non-null   object\n",
            "dtypes: int64(7), object(7)\n",
            "memory usage: 618.5+ KB\n"
          ],
          "name": "stdout"
        }
      ]
    },
    {
      "cell_type": "code",
      "metadata": {
        "colab": {
          "base_uri": "https://localhost:8080/",
          "height": 1000
        },
        "id": "4JFJf7YCbZ8K",
        "outputId": "d98b0c2e-d945-413d-e784-1b073cd54e7d"
      },
      "source": [
        "\n",
        "df2.groupby(['race','decile_score']).is_recid.value_counts(normalize=True).to_frame()"
      ],
      "execution_count": null,
      "outputs": [
        {
          "output_type": "execute_result",
          "data": {
            "text/html": [
              "<div>\n",
              "<style scoped>\n",
              "    .dataframe tbody tr th:only-of-type {\n",
              "        vertical-align: middle;\n",
              "    }\n",
              "\n",
              "    .dataframe tbody tr th {\n",
              "        vertical-align: top;\n",
              "    }\n",
              "\n",
              "    .dataframe thead th {\n",
              "        text-align: right;\n",
              "    }\n",
              "</style>\n",
              "<table border=\"1\" class=\"dataframe\">\n",
              "  <thead>\n",
              "    <tr style=\"text-align: right;\">\n",
              "      <th></th>\n",
              "      <th></th>\n",
              "      <th></th>\n",
              "      <th>is_recid</th>\n",
              "    </tr>\n",
              "    <tr>\n",
              "      <th>race</th>\n",
              "      <th>decile_score</th>\n",
              "      <th>is_recid</th>\n",
              "      <th></th>\n",
              "    </tr>\n",
              "  </thead>\n",
              "  <tbody>\n",
              "    <tr>\n",
              "      <th rowspan=\"20\" valign=\"top\">African-American</th>\n",
              "      <th rowspan=\"2\" valign=\"top\">1</th>\n",
              "      <th>0</th>\n",
              "      <td>0.745205</td>\n",
              "    </tr>\n",
              "    <tr>\n",
              "      <th>1</th>\n",
              "      <td>0.254795</td>\n",
              "    </tr>\n",
              "    <tr>\n",
              "      <th rowspan=\"2\" valign=\"top\">2</th>\n",
              "      <th>0</th>\n",
              "      <td>0.650289</td>\n",
              "    </tr>\n",
              "    <tr>\n",
              "      <th>1</th>\n",
              "      <td>0.349711</td>\n",
              "    </tr>\n",
              "    <tr>\n",
              "      <th rowspan=\"2\" valign=\"top\">3</th>\n",
              "      <th>0</th>\n",
              "      <td>0.530201</td>\n",
              "    </tr>\n",
              "    <tr>\n",
              "      <th>1</th>\n",
              "      <td>0.469799</td>\n",
              "    </tr>\n",
              "    <tr>\n",
              "      <th rowspan=\"2\" valign=\"top\">4</th>\n",
              "      <th>1</th>\n",
              "      <td>0.507418</td>\n",
              "    </tr>\n",
              "    <tr>\n",
              "      <th>0</th>\n",
              "      <td>0.492582</td>\n",
              "    </tr>\n",
              "    <tr>\n",
              "      <th rowspan=\"2\" valign=\"top\">5</th>\n",
              "      <th>1</th>\n",
              "      <td>0.529412</td>\n",
              "    </tr>\n",
              "    <tr>\n",
              "      <th>0</th>\n",
              "      <td>0.470588</td>\n",
              "    </tr>\n",
              "    <tr>\n",
              "      <th rowspan=\"2\" valign=\"top\">6</th>\n",
              "      <th>1</th>\n",
              "      <td>0.628931</td>\n",
              "    </tr>\n",
              "    <tr>\n",
              "      <th>0</th>\n",
              "      <td>0.371069</td>\n",
              "    </tr>\n",
              "    <tr>\n",
              "      <th rowspan=\"2\" valign=\"top\">7</th>\n",
              "      <th>1</th>\n",
              "      <td>0.647230</td>\n",
              "    </tr>\n",
              "    <tr>\n",
              "      <th>0</th>\n",
              "      <td>0.352770</td>\n",
              "    </tr>\n",
              "    <tr>\n",
              "      <th rowspan=\"2\" valign=\"top\">8</th>\n",
              "      <th>1</th>\n",
              "      <td>0.747508</td>\n",
              "    </tr>\n",
              "    <tr>\n",
              "      <th>0</th>\n",
              "      <td>0.252492</td>\n",
              "    </tr>\n",
              "    <tr>\n",
              "      <th rowspan=\"2\" valign=\"top\">9</th>\n",
              "      <th>1</th>\n",
              "      <td>0.747634</td>\n",
              "    </tr>\n",
              "    <tr>\n",
              "      <th>0</th>\n",
              "      <td>0.252366</td>\n",
              "    </tr>\n",
              "    <tr>\n",
              "      <th rowspan=\"2\" valign=\"top\">10</th>\n",
              "      <th>1</th>\n",
              "      <td>0.850220</td>\n",
              "    </tr>\n",
              "    <tr>\n",
              "      <th>0</th>\n",
              "      <td>0.149780</td>\n",
              "    </tr>\n",
              "    <tr>\n",
              "      <th rowspan=\"20\" valign=\"top\">Caucasian</th>\n",
              "      <th rowspan=\"2\" valign=\"top\">1</th>\n",
              "      <th>0</th>\n",
              "      <td>0.770248</td>\n",
              "    </tr>\n",
              "    <tr>\n",
              "      <th>1</th>\n",
              "      <td>0.229752</td>\n",
              "    </tr>\n",
              "    <tr>\n",
              "      <th rowspan=\"2\" valign=\"top\">2</th>\n",
              "      <th>0</th>\n",
              "      <td>0.657321</td>\n",
              "    </tr>\n",
              "    <tr>\n",
              "      <th>1</th>\n",
              "      <td>0.342679</td>\n",
              "    </tr>\n",
              "    <tr>\n",
              "      <th rowspan=\"2\" valign=\"top\">3</th>\n",
              "      <th>0</th>\n",
              "      <td>0.630252</td>\n",
              "    </tr>\n",
              "    <tr>\n",
              "      <th>1</th>\n",
              "      <td>0.369748</td>\n",
              "    </tr>\n",
              "    <tr>\n",
              "      <th rowspan=\"2\" valign=\"top\">4</th>\n",
              "      <th>0</th>\n",
              "      <td>0.559671</td>\n",
              "    </tr>\n",
              "    <tr>\n",
              "      <th>1</th>\n",
              "      <td>0.440329</td>\n",
              "    </tr>\n",
              "    <tr>\n",
              "      <th rowspan=\"2\" valign=\"top\">5</th>\n",
              "      <th>0</th>\n",
              "      <td>0.530000</td>\n",
              "    </tr>\n",
              "    <tr>\n",
              "      <th>1</th>\n",
              "      <td>0.470000</td>\n",
              "    </tr>\n",
              "    <tr>\n",
              "      <th rowspan=\"2\" valign=\"top\">6</th>\n",
              "      <th>1</th>\n",
              "      <td>0.600000</td>\n",
              "    </tr>\n",
              "    <tr>\n",
              "      <th>0</th>\n",
              "      <td>0.400000</td>\n",
              "    </tr>\n",
              "    <tr>\n",
              "      <th rowspan=\"2\" valign=\"top\">7</th>\n",
              "      <th>1</th>\n",
              "      <td>0.646018</td>\n",
              "    </tr>\n",
              "    <tr>\n",
              "      <th>0</th>\n",
              "      <td>0.353982</td>\n",
              "    </tr>\n",
              "    <tr>\n",
              "      <th rowspan=\"2\" valign=\"top\">8</th>\n",
              "      <th>1</th>\n",
              "      <td>0.781250</td>\n",
              "    </tr>\n",
              "    <tr>\n",
              "      <th>0</th>\n",
              "      <td>0.218750</td>\n",
              "    </tr>\n",
              "    <tr>\n",
              "      <th rowspan=\"2\" valign=\"top\">9</th>\n",
              "      <th>1</th>\n",
              "      <td>0.727273</td>\n",
              "    </tr>\n",
              "    <tr>\n",
              "      <th>0</th>\n",
              "      <td>0.272727</td>\n",
              "    </tr>\n",
              "    <tr>\n",
              "      <th rowspan=\"2\" valign=\"top\">10</th>\n",
              "      <th>1</th>\n",
              "      <td>0.720000</td>\n",
              "    </tr>\n",
              "    <tr>\n",
              "      <th>0</th>\n",
              "      <td>0.280000</td>\n",
              "    </tr>\n",
              "  </tbody>\n",
              "</table>\n",
              "</div>"
            ],
            "text/plain": [
              "                                        is_recid\n",
              "race             decile_score is_recid          \n",
              "African-American 1            0         0.745205\n",
              "                              1         0.254795\n",
              "                 2            0         0.650289\n",
              "                              1         0.349711\n",
              "                 3            0         0.530201\n",
              "                              1         0.469799\n",
              "                 4            1         0.507418\n",
              "                              0         0.492582\n",
              "                 5            1         0.529412\n",
              "                              0         0.470588\n",
              "                 6            1         0.628931\n",
              "                              0         0.371069\n",
              "                 7            1         0.647230\n",
              "                              0         0.352770\n",
              "                 8            1         0.747508\n",
              "                              0         0.252492\n",
              "                 9            1         0.747634\n",
              "                              0         0.252366\n",
              "                 10           1         0.850220\n",
              "                              0         0.149780\n",
              "Caucasian        1            0         0.770248\n",
              "                              1         0.229752\n",
              "                 2            0         0.657321\n",
              "                              1         0.342679\n",
              "                 3            0         0.630252\n",
              "                              1         0.369748\n",
              "                 4            0         0.559671\n",
              "                              1         0.440329\n",
              "                 5            0         0.530000\n",
              "                              1         0.470000\n",
              "                 6            1         0.600000\n",
              "                              0         0.400000\n",
              "                 7            1         0.646018\n",
              "                              0         0.353982\n",
              "                 8            1         0.781250\n",
              "                              0         0.218750\n",
              "                 9            1         0.727273\n",
              "                              0         0.272727\n",
              "                 10           1         0.720000\n",
              "                              0         0.280000"
            ]
          },
          "metadata": {
            "tags": []
          },
          "execution_count": 32
        }
      ]
    },
    {
      "cell_type": "code",
      "metadata": {
        "colab": {
          "base_uri": "https://localhost:8080/",
          "height": 297
        },
        "id": "xB-G6xiwh9ud",
        "outputId": "5ba11f95-da03-4d4a-bd15-c714b25300e9"
      },
      "source": [
        "sns.countplot(x='race', data=df2)"
      ],
      "execution_count": null,
      "outputs": [
        {
          "output_type": "execute_result",
          "data": {
            "text/plain": [
              "<matplotlib.axes._subplots.AxesSubplot at 0x7ff49c51c4d0>"
            ]
          },
          "metadata": {
            "tags": []
          },
          "execution_count": 33
        },
        {
          "output_type": "display_data",
          "data": {
            "image/png": "[encoded data removed]",
            "text/plain": [
              "<Figure size 432x288 with 1 Axes>"
            ]
          },
          "metadata": {
            "tags": [],
            "needs_background": "light"
          }
        }
      ]
    },
    {
      "cell_type": "code",
      "metadata": {
        "id": "BhqW1OP-hEd8"
      },
      "source": [
        "df2.groupby('decile_score')[['is_recid', 'race']].agg(is_recid='sum', race='count')"
      ],
      "execution_count": null,
      "outputs": []
    },
    {
      "cell_type": "code",
      "metadata": {
        "colab": {
          "base_uri": "https://localhost:8080/",
          "height": 625
        },
        "id": "y2f_dPKMbZ_5",
        "outputId": "77c7b04e-f4f5-4bc6-9b8f-b5a26f09a979"
      },
      "source": [
        "data = pd.melt(df2, id_vars=['race'], value_vars=['decile_score','is_recid'])\n",
        "plt.figure(figsize=(10, 10))\n",
        "sns.barplot(x='race', y='value',hue='variable', data = data)\n"
      ],
      "execution_count": null,
      "outputs": [
        {
          "output_type": "execute_result",
          "data": {
            "text/plain": [
              "<matplotlib.axes._subplots.AxesSubplot at 0x7ff49c486b50>"
            ]
          },
          "metadata": {
            "tags": []
          },
          "execution_count": 34
        },
        {
          "output_type": "display_data",
          "data": {
            "image/png": "[encoded data removed]",
            "text/plain": [
              "<Figure size 720x720 with 1 Axes>"
            ]
          },
          "metadata": {
            "tags": [],
            "needs_background": "light"
          }
        }
      ]
    },
    {
      "cell_type": "code",
      "metadata": {
        "colab": {
          "base_uri": "https://localhost:8080/",
          "height": 168
        },
        "id": "_z8vmTdvbaD0",
        "outputId": "e9e94fb1-e17d-4745-d7d4-1ed78161df7f"
      },
      "source": [
        "df3 = df.groupby('decile_score').is_recid.value_counts(normalize=True, sort = False).to_frame().unstack(level=0)\n",
        "df3"
      ],
      "execution_count": null,
      "outputs": [
        {
          "output_type": "execute_result",
          "data": {
            "text/html": [
              "<div>\n",
              "<style scoped>\n",
              "    .dataframe tbody tr th:only-of-type {\n",
              "        vertical-align: middle;\n",
              "    }\n",
              "\n",
              "    .dataframe tbody tr th {\n",
              "        vertical-align: top;\n",
              "    }\n",
              "\n",
              "    .dataframe thead tr th {\n",
              "        text-align: left;\n",
              "    }\n",
              "\n",
              "    .dataframe thead tr:last-of-type th {\n",
              "        text-align: right;\n",
              "    }\n",
              "</style>\n",
              "<table border=\"1\" class=\"dataframe\">\n",
              "  <thead>\n",
              "    <tr>\n",
              "      <th></th>\n",
              "      <th colspan=\"10\" halign=\"left\">is_recid</th>\n",
              "    </tr>\n",
              "    <tr>\n",
              "      <th>decile_score</th>\n",
              "      <th>1</th>\n",
              "      <th>2</th>\n",
              "      <th>3</th>\n",
              "      <th>4</th>\n",
              "      <th>5</th>\n",
              "      <th>6</th>\n",
              "      <th>7</th>\n",
              "      <th>8</th>\n",
              "      <th>9</th>\n",
              "      <th>10</th>\n",
              "    </tr>\n",
              "    <tr>\n",
              "      <th>is_recid</th>\n",
              "      <th></th>\n",
              "      <th></th>\n",
              "      <th></th>\n",
              "      <th></th>\n",
              "      <th></th>\n",
              "      <th></th>\n",
              "      <th></th>\n",
              "      <th></th>\n",
              "      <th></th>\n",
              "      <th></th>\n",
              "    </tr>\n",
              "  </thead>\n",
              "  <tbody>\n",
              "    <tr>\n",
              "      <th>0</th>\n",
              "      <td>0.766719</td>\n",
              "      <td>0.647202</td>\n",
              "      <td>0.584235</td>\n",
              "      <td>0.528529</td>\n",
              "      <td>0.487973</td>\n",
              "      <td>0.385633</td>\n",
              "      <td>0.360887</td>\n",
              "      <td>0.245238</td>\n",
              "      <td>0.259524</td>\n",
              "      <td>0.180921</td>\n",
              "    </tr>\n",
              "    <tr>\n",
              "      <th>1</th>\n",
              "      <td>0.233281</td>\n",
              "      <td>0.352798</td>\n",
              "      <td>0.415765</td>\n",
              "      <td>0.471471</td>\n",
              "      <td>0.512027</td>\n",
              "      <td>0.614367</td>\n",
              "      <td>0.639113</td>\n",
              "      <td>0.754762</td>\n",
              "      <td>0.740476</td>\n",
              "      <td>0.819079</td>\n",
              "    </tr>\n",
              "  </tbody>\n",
              "</table>\n",
              "</div>"
            ],
            "text/plain": [
              "              is_recid                      ...                              \n",
              "decile_score        1         2         3   ...        8         9         10\n",
              "is_recid                                    ...                              \n",
              "0             0.766719  0.647202  0.584235  ...  0.245238  0.259524  0.180921\n",
              "1             0.233281  0.352798  0.415765  ...  0.754762  0.740476  0.819079\n",
              "\n",
              "[2 rows x 10 columns]"
            ]
          },
          "metadata": {
            "tags": []
          },
          "execution_count": 39
        }
      ]
    },
    {
      "cell_type": "code",
      "metadata": {
        "colab": {
          "base_uri": "https://localhost:8080/",
          "height": 678
        },
        "id": "tdCcRuDPtvix",
        "outputId": "2cdc5036-e435-42a7-cdf5-5803bce3bccd"
      },
      "source": [
        "race_recid = df2.groupby(['race','decile_score']).is_recid.mean().to_frame()\n",
        "race_recid"
      ],
      "execution_count": null,
      "outputs": [
        {
          "output_type": "execute_result",
          "data": {
            "text/html": [
              "<div>\n",
              "<style scoped>\n",
              "    .dataframe tbody tr th:only-of-type {\n",
              "        vertical-align: middle;\n",
              "    }\n",
              "\n",
              "    .dataframe tbody tr th {\n",
              "        vertical-align: top;\n",
              "    }\n",
              "\n",
              "    .dataframe thead th {\n",
              "        text-align: right;\n",
              "    }\n",
              "</style>\n",
              "<table border=\"1\" class=\"dataframe\">\n",
              "  <thead>\n",
              "    <tr style=\"text-align: right;\">\n",
              "      <th></th>\n",
              "      <th></th>\n",
              "      <th>is_recid</th>\n",
              "    </tr>\n",
              "    <tr>\n",
              "      <th>race</th>\n",
              "      <th>decile_score</th>\n",
              "      <th></th>\n",
              "    </tr>\n",
              "  </thead>\n",
              "  <tbody>\n",
              "    <tr>\n",
              "      <th rowspan=\"10\" valign=\"top\">African-American</th>\n",
              "      <th>1</th>\n",
              "      <td>0.254795</td>\n",
              "    </tr>\n",
              "    <tr>\n",
              "      <th>2</th>\n",
              "      <td>0.349711</td>\n",
              "    </tr>\n",
              "    <tr>\n",
              "      <th>3</th>\n",
              "      <td>0.469799</td>\n",
              "    </tr>\n",
              "    <tr>\n",
              "      <th>4</th>\n",
              "      <td>0.507418</td>\n",
              "    </tr>\n",
              "    <tr>\n",
              "      <th>5</th>\n",
              "      <td>0.529412</td>\n",
              "    </tr>\n",
              "    <tr>\n",
              "      <th>6</th>\n",
              "      <td>0.628931</td>\n",
              "    </tr>\n",
              "    <tr>\n",
              "      <th>7</th>\n",
              "      <td>0.647230</td>\n",
              "    </tr>\n",
              "    <tr>\n",
              "      <th>8</th>\n",
              "      <td>0.747508</td>\n",
              "    </tr>\n",
              "    <tr>\n",
              "      <th>9</th>\n",
              "      <td>0.747634</td>\n",
              "    </tr>\n",
              "    <tr>\n",
              "      <th>10</th>\n",
              "      <td>0.850220</td>\n",
              "    </tr>\n",
              "    <tr>\n",
              "      <th rowspan=\"10\" valign=\"top\">Caucasian</th>\n",
              "      <th>1</th>\n",
              "      <td>0.229752</td>\n",
              "    </tr>\n",
              "    <tr>\n",
              "      <th>2</th>\n",
              "      <td>0.342679</td>\n",
              "    </tr>\n",
              "    <tr>\n",
              "      <th>3</th>\n",
              "      <td>0.369748</td>\n",
              "    </tr>\n",
              "    <tr>\n",
              "      <th>4</th>\n",
              "      <td>0.440329</td>\n",
              "    </tr>\n",
              "    <tr>\n",
              "      <th>5</th>\n",
              "      <td>0.470000</td>\n",
              "    </tr>\n",
              "    <tr>\n",
              "      <th>6</th>\n",
              "      <td>0.600000</td>\n",
              "    </tr>\n",
              "    <tr>\n",
              "      <th>7</th>\n",
              "      <td>0.646018</td>\n",
              "    </tr>\n",
              "    <tr>\n",
              "      <th>8</th>\n",
              "      <td>0.781250</td>\n",
              "    </tr>\n",
              "    <tr>\n",
              "      <th>9</th>\n",
              "      <td>0.727273</td>\n",
              "    </tr>\n",
              "    <tr>\n",
              "      <th>10</th>\n",
              "      <td>0.720000</td>\n",
              "    </tr>\n",
              "  </tbody>\n",
              "</table>\n",
              "</div>"
            ],
            "text/plain": [
              "                               is_recid\n",
              "race             decile_score          \n",
              "African-American 1             0.254795\n",
              "                 2             0.349711\n",
              "                 3             0.469799\n",
              "                 4             0.507418\n",
              "                 5             0.529412\n",
              "                 6             0.628931\n",
              "                 7             0.647230\n",
              "                 8             0.747508\n",
              "                 9             0.747634\n",
              "                 10            0.850220\n",
              "Caucasian        1             0.229752\n",
              "                 2             0.342679\n",
              "                 3             0.369748\n",
              "                 4             0.440329\n",
              "                 5             0.470000\n",
              "                 6             0.600000\n",
              "                 7             0.646018\n",
              "                 8             0.781250\n",
              "                 9             0.727273\n",
              "                 10            0.720000"
            ]
          },
          "metadata": {
            "tags": []
          },
          "execution_count": 65
        }
      ]
    },
    {
      "cell_type": "code",
      "metadata": {
        "colab": {
          "base_uri": "https://localhost:8080/",
          "height": 648
        },
        "id": "KeqFzvH-ve8L",
        "outputId": "1756d6ee-74cf-452d-fb1c-e2b18eeea196"
      },
      "source": [
        "race_recid.reset_index()"
      ],
      "execution_count": null,
      "outputs": [
        {
          "output_type": "execute_result",
          "data": {
            "text/html": [
              "<div>\n",
              "<style scoped>\n",
              "    .dataframe tbody tr th:only-of-type {\n",
              "        vertical-align: middle;\n",
              "    }\n",
              "\n",
              "    .dataframe tbody tr th {\n",
              "        vertical-align: top;\n",
              "    }\n",
              "\n",
              "    .dataframe thead th {\n",
              "        text-align: right;\n",
              "    }\n",
              "</style>\n",
              "<table border=\"1\" class=\"dataframe\">\n",
              "  <thead>\n",
              "    <tr style=\"text-align: right;\">\n",
              "      <th></th>\n",
              "      <th>race</th>\n",
              "      <th>decile_score</th>\n",
              "      <th>is_recid</th>\n",
              "    </tr>\n",
              "  </thead>\n",
              "  <tbody>\n",
              "    <tr>\n",
              "      <th>0</th>\n",
              "      <td>African-American</td>\n",
              "      <td>1</td>\n",
              "      <td>0.254795</td>\n",
              "    </tr>\n",
              "    <tr>\n",
              "      <th>1</th>\n",
              "      <td>African-American</td>\n",
              "      <td>2</td>\n",
              "      <td>0.349711</td>\n",
              "    </tr>\n",
              "    <tr>\n",
              "      <th>2</th>\n",
              "      <td>African-American</td>\n",
              "      <td>3</td>\n",
              "      <td>0.469799</td>\n",
              "    </tr>\n",
              "    <tr>\n",
              "      <th>3</th>\n",
              "      <td>African-American</td>\n",
              "      <td>4</td>\n",
              "      <td>0.507418</td>\n",
              "    </tr>\n",
              "    <tr>\n",
              "      <th>4</th>\n",
              "      <td>African-American</td>\n",
              "      <td>5</td>\n",
              "      <td>0.529412</td>\n",
              "    </tr>\n",
              "    <tr>\n",
              "      <th>5</th>\n",
              "      <td>African-American</td>\n",
              "      <td>6</td>\n",
              "      <td>0.628931</td>\n",
              "    </tr>\n",
              "    <tr>\n",
              "      <th>6</th>\n",
              "      <td>African-American</td>\n",
              "      <td>7</td>\n",
              "      <td>0.647230</td>\n",
              "    </tr>\n",
              "    <tr>\n",
              "      <th>7</th>\n",
              "      <td>African-American</td>\n",
              "      <td>8</td>\n",
              "      <td>0.747508</td>\n",
              "    </tr>\n",
              "    <tr>\n",
              "      <th>8</th>\n",
              "      <td>African-American</td>\n",
              "      <td>9</td>\n",
              "      <td>0.747634</td>\n",
              "    </tr>\n",
              "    <tr>\n",
              "      <th>9</th>\n",
              "      <td>African-American</td>\n",
              "      <td>10</td>\n",
              "      <td>0.850220</td>\n",
              "    </tr>\n",
              "    <tr>\n",
              "      <th>10</th>\n",
              "      <td>Caucasian</td>\n",
              "      <td>1</td>\n",
              "      <td>0.229752</td>\n",
              "    </tr>\n",
              "    <tr>\n",
              "      <th>11</th>\n",
              "      <td>Caucasian</td>\n",
              "      <td>2</td>\n",
              "      <td>0.342679</td>\n",
              "    </tr>\n",
              "    <tr>\n",
              "      <th>12</th>\n",
              "      <td>Caucasian</td>\n",
              "      <td>3</td>\n",
              "      <td>0.369748</td>\n",
              "    </tr>\n",
              "    <tr>\n",
              "      <th>13</th>\n",
              "      <td>Caucasian</td>\n",
              "      <td>4</td>\n",
              "      <td>0.440329</td>\n",
              "    </tr>\n",
              "    <tr>\n",
              "      <th>14</th>\n",
              "      <td>Caucasian</td>\n",
              "      <td>5</td>\n",
              "      <td>0.470000</td>\n",
              "    </tr>\n",
              "    <tr>\n",
              "      <th>15</th>\n",
              "      <td>Caucasian</td>\n",
              "      <td>6</td>\n",
              "      <td>0.600000</td>\n",
              "    </tr>\n",
              "    <tr>\n",
              "      <th>16</th>\n",
              "      <td>Caucasian</td>\n",
              "      <td>7</td>\n",
              "      <td>0.646018</td>\n",
              "    </tr>\n",
              "    <tr>\n",
              "      <th>17</th>\n",
              "      <td>Caucasian</td>\n",
              "      <td>8</td>\n",
              "      <td>0.781250</td>\n",
              "    </tr>\n",
              "    <tr>\n",
              "      <th>18</th>\n",
              "      <td>Caucasian</td>\n",
              "      <td>9</td>\n",
              "      <td>0.727273</td>\n",
              "    </tr>\n",
              "    <tr>\n",
              "      <th>19</th>\n",
              "      <td>Caucasian</td>\n",
              "      <td>10</td>\n",
              "      <td>0.720000</td>\n",
              "    </tr>\n",
              "  </tbody>\n",
              "</table>\n",
              "</div>"
            ],
            "text/plain": [
              "                race  decile_score  is_recid\n",
              "0   African-American             1  0.254795\n",
              "1   African-American             2  0.349711\n",
              "2   African-American             3  0.469799\n",
              "3   African-American             4  0.507418\n",
              "4   African-American             5  0.529412\n",
              "5   African-American             6  0.628931\n",
              "6   African-American             7  0.647230\n",
              "7   African-American             8  0.747508\n",
              "8   African-American             9  0.747634\n",
              "9   African-American            10  0.850220\n",
              "10         Caucasian             1  0.229752\n",
              "11         Caucasian             2  0.342679\n",
              "12         Caucasian             3  0.369748\n",
              "13         Caucasian             4  0.440329\n",
              "14         Caucasian             5  0.470000\n",
              "15         Caucasian             6  0.600000\n",
              "16         Caucasian             7  0.646018\n",
              "17         Caucasian             8  0.781250\n",
              "18         Caucasian             9  0.727273\n",
              "19         Caucasian            10  0.720000"
            ]
          },
          "metadata": {
            "tags": []
          },
          "execution_count": 68
        }
      ]
    },
    {
      "cell_type": "code",
      "metadata": {
        "colab": {
          "base_uri": "https://localhost:8080/",
          "height": 298
        },
        "id": "GXfxDsMvuFps",
        "outputId": "f3a53edd-aae0-4d50-db5b-bb6e05c54763"
      },
      "source": [
        "sns.pointplot(x='decile_score', y='is_recid', hue='race', data=race_recid.reset_index())"
      ],
      "execution_count": null,
      "outputs": [
        {
          "output_type": "execute_result",
          "data": {
            "text/plain": [
              "<matplotlib.axes._subplots.AxesSubplot at 0x7ff49a9df8d0>"
            ]
          },
          "metadata": {
            "tags": []
          },
          "execution_count": 69
        },
        {
          "output_type": "display_data",
          "data": {
            "image/png": "[encoded data removed]",
            "text/plain": [
              "<Figure size 432x288 with 1 Axes>"
            ]
          },
          "metadata": {
            "tags": [],
            "needs_background": "light"
          }
        }
      ]
    },
    {
      "cell_type": "code",
      "metadata": {
        "colab": {
          "base_uri": "https://localhost:8080/",
          "height": 378
        },
        "id": "0u2hCU6AbaMU",
        "outputId": "f9b136dd-ec24-4e46-e742-8ba8947a98a8"
      },
      "source": [
        "recid_race_rate = df2.pivot_table(index='decile_score', values='is_recid', columns=['race'], aggfunc='mean')\n",
        "recid_race_rate"
      ],
      "execution_count": null,
      "outputs": [
        {
          "output_type": "execute_result",
          "data": {
            "text/html": [
              "<div>\n",
              "<style scoped>\n",
              "    .dataframe tbody tr th:only-of-type {\n",
              "        vertical-align: middle;\n",
              "    }\n",
              "\n",
              "    .dataframe tbody tr th {\n",
              "        vertical-align: top;\n",
              "    }\n",
              "\n",
              "    .dataframe thead th {\n",
              "        text-align: right;\n",
              "    }\n",
              "</style>\n",
              "<table border=\"1\" class=\"dataframe\">\n",
              "  <thead>\n",
              "    <tr style=\"text-align: right;\">\n",
              "      <th>race</th>\n",
              "      <th>African-American</th>\n",
              "      <th>Caucasian</th>\n",
              "    </tr>\n",
              "    <tr>\n",
              "      <th>decile_score</th>\n",
              "      <th></th>\n",
              "      <th></th>\n",
              "    </tr>\n",
              "  </thead>\n",
              "  <tbody>\n",
              "    <tr>\n",
              "      <th>1</th>\n",
              "      <td>0.254795</td>\n",
              "      <td>0.229752</td>\n",
              "    </tr>\n",
              "    <tr>\n",
              "      <th>2</th>\n",
              "      <td>0.349711</td>\n",
              "      <td>0.342679</td>\n",
              "    </tr>\n",
              "    <tr>\n",
              "      <th>3</th>\n",
              "      <td>0.469799</td>\n",
              "      <td>0.369748</td>\n",
              "    </tr>\n",
              "    <tr>\n",
              "      <th>4</th>\n",
              "      <td>0.507418</td>\n",
              "      <td>0.440329</td>\n",
              "    </tr>\n",
              "    <tr>\n",
              "      <th>5</th>\n",
              "      <td>0.529412</td>\n",
              "      <td>0.470000</td>\n",
              "    </tr>\n",
              "    <tr>\n",
              "      <th>6</th>\n",
              "      <td>0.628931</td>\n",
              "      <td>0.600000</td>\n",
              "    </tr>\n",
              "    <tr>\n",
              "      <th>7</th>\n",
              "      <td>0.647230</td>\n",
              "      <td>0.646018</td>\n",
              "    </tr>\n",
              "    <tr>\n",
              "      <th>8</th>\n",
              "      <td>0.747508</td>\n",
              "      <td>0.781250</td>\n",
              "    </tr>\n",
              "    <tr>\n",
              "      <th>9</th>\n",
              "      <td>0.747634</td>\n",
              "      <td>0.727273</td>\n",
              "    </tr>\n",
              "    <tr>\n",
              "      <th>10</th>\n",
              "      <td>0.850220</td>\n",
              "      <td>0.720000</td>\n",
              "    </tr>\n",
              "  </tbody>\n",
              "</table>\n",
              "</div>"
            ],
            "text/plain": [
              "race          African-American  Caucasian\n",
              "decile_score                             \n",
              "1                     0.254795   0.229752\n",
              "2                     0.349711   0.342679\n",
              "3                     0.469799   0.369748\n",
              "4                     0.507418   0.440329\n",
              "5                     0.529412   0.470000\n",
              "6                     0.628931   0.600000\n",
              "7                     0.647230   0.646018\n",
              "8                     0.747508   0.781250\n",
              "9                     0.747634   0.727273\n",
              "10                    0.850220   0.720000"
            ]
          },
          "metadata": {
            "tags": []
          },
          "execution_count": 44
        }
      ]
    },
    {
      "cell_type": "code",
      "metadata": {
        "colab": {
          "base_uri": "https://localhost:8080/"
        },
        "id": "B6mSM_3nbaVW",
        "outputId": "ecab4cbc-ac60-4ac1-9864-b9942651d5f4"
      },
      "source": [
        "df = pd.read_csv('cleanedCompasData.csv')[['race','decile_score','is_recid']]\n",
        "df3 = df.copy()\n",
        "for score in range(1,11):\n",
        "    prediction = []\n",
        "    for decile in df.decile_score:\n",
        "        if decile >= score:\n",
        "            prediction.append(1)\n",
        "        else: prediction.append(0)\n",
        "    df3[f'prediction_decile_{score}'] = prediction\n",
        "from sklearn.metrics import confusion_matrix\n",
        "for x in range(3,13):\n",
        "    print(f'Decile Threshold: {x-2}')\n",
        "    print(confusion_matrix(df3.is_recid, df3.iloc[:,x], labels=[0,1]))\n",
        "    print('-----------')"
      ],
      "execution_count": null,
      "outputs": [
        {
          "output_type": "stream",
          "text": [
            "Decile Threshold: 1\n",
            "[[   0 3182]\n",
            " [   0 2990]]\n",
            "-----------\n",
            "Decile Threshold: 2\n",
            "[[ 986 2196]\n",
            " [ 300 2690]]\n",
            "-----------\n",
            "Decile Threshold: 3\n",
            "[[1518 1664]\n",
            " [ 590 2400]]\n",
            "-----------\n",
            "Decile Threshold: 4\n",
            "[[1896 1286]\n",
            " [ 859 2131]]\n",
            "-----------\n",
            "Decile Threshold: 5\n",
            "[[2248  934]\n",
            " [1173 1817]]\n",
            "-----------\n",
            "Decile Threshold: 6\n",
            "[[2532  650]\n",
            " [1471 1519]]\n",
            "-----------\n",
            "Decile Threshold: 7\n",
            "[[2736  446]\n",
            " [1796 1194]]\n",
            "-----------\n",
            "Decile Threshold: 8\n",
            "[[2915  267]\n",
            " [2113  877]]\n",
            "-----------\n",
            "Decile Threshold: 9\n",
            "[[3018  164]\n",
            " [2430  560]]\n",
            "-----------\n",
            "Decile Threshold: 10\n",
            "[[3127   55]\n",
            " [2741  249]]\n",
            "-----------\n"
          ],
          "name": "stdout"
        }
      ]
    },
    {
      "cell_type": "code",
      "metadata": {
        "id": "a9tvnkVQmaSV"
      },
      "source": [
        "df['high_risk'] = df['decile_score'].apply(lambda x: 1 if x > 5 else 0)"
      ],
      "execution_count": null,
      "outputs": []
    },
    {
      "cell_type": "code",
      "metadata": {
        "colab": {
          "base_uri": "https://localhost:8080/"
        },
        "id": "XJiFAiJimaV3",
        "outputId": "21e42f23-4fbd-403a-8355-22543ccbb2d6"
      },
      "source": [
        "df.info()"
      ],
      "execution_count": null,
      "outputs": [
        {
          "output_type": "stream",
          "text": [
            "<class 'pandas.core.frame.DataFrame'>\n",
            "RangeIndex: 6172 entries, 0 to 6171\n",
            "Data columns (total 4 columns):\n",
            " #   Column        Non-Null Count  Dtype \n",
            "---  ------        --------------  ----- \n",
            " 0   race          6172 non-null   object\n",
            " 1   decile_score  6172 non-null   int64 \n",
            " 2   is_recid      6172 non-null   int64 \n",
            " 3   high_risk     6172 non-null   int64 \n",
            "dtypes: int64(3), object(1)\n",
            "memory usage: 193.0+ KB\n"
          ],
          "name": "stdout"
        }
      ]
    },
    {
      "cell_type": "code",
      "metadata": {
        "id": "D6n7ggn8maY4"
      },
      "source": [
        "df = df[(df['race']=='African-American') | (df['race']=='Caucasian')]"
      ],
      "execution_count": null,
      "outputs": []
    },
    {
      "cell_type": "code",
      "metadata": {
        "id": "XdwpjeoYzEFR"
      },
      "source": [
        "df['high_risk'] = df['decile_score'].apply(lambda x: 1 if x > 5 else 0)"
      ],
      "execution_count": null,
      "outputs": []
    },
    {
      "cell_type": "code",
      "metadata": {
        "colab": {
          "base_uri": "https://localhost:8080/",
          "height": 228
        },
        "id": "WewrjRCkmabs",
        "outputId": "63d0b0db-6f37-4ff6-c2a4-e6fe3fa47ff3"
      },
      "source": [
        "df.groupby(['race','is_recid']).high_risk.value_counts(normalize =True).to_frame().unstack()"
      ],
      "execution_count": null,
      "outputs": [
        {
          "output_type": "execute_result",
          "data": {
            "text/html": [
              "<div>\n",
              "<style scoped>\n",
              "    .dataframe tbody tr th:only-of-type {\n",
              "        vertical-align: middle;\n",
              "    }\n",
              "\n",
              "    .dataframe tbody tr th {\n",
              "        vertical-align: top;\n",
              "    }\n",
              "\n",
              "    .dataframe thead tr th {\n",
              "        text-align: left;\n",
              "    }\n",
              "\n",
              "    .dataframe thead tr:last-of-type th {\n",
              "        text-align: right;\n",
              "    }\n",
              "</style>\n",
              "<table border=\"1\" class=\"dataframe\">\n",
              "  <thead>\n",
              "    <tr>\n",
              "      <th></th>\n",
              "      <th></th>\n",
              "      <th colspan=\"2\" halign=\"left\">high_risk</th>\n",
              "    </tr>\n",
              "    <tr>\n",
              "      <th></th>\n",
              "      <th>high_risk</th>\n",
              "      <th>0</th>\n",
              "      <th>1</th>\n",
              "    </tr>\n",
              "    <tr>\n",
              "      <th>race</th>\n",
              "      <th>is_recid</th>\n",
              "      <th></th>\n",
              "      <th></th>\n",
              "    </tr>\n",
              "  </thead>\n",
              "  <tbody>\n",
              "    <tr>\n",
              "      <th rowspan=\"2\" valign=\"top\">African-American</th>\n",
              "      <th>0</th>\n",
              "      <td>0.694009</td>\n",
              "      <td>0.305991</td>\n",
              "    </tr>\n",
              "    <tr>\n",
              "      <th>1</th>\n",
              "      <td>0.392555</td>\n",
              "      <td>0.607445</td>\n",
              "    </tr>\n",
              "    <tr>\n",
              "      <th rowspan=\"2\" valign=\"top\">Caucasian</th>\n",
              "      <th>0</th>\n",
              "      <td>0.869813</td>\n",
              "      <td>0.130187</td>\n",
              "    </tr>\n",
              "    <tr>\n",
              "      <th>1</th>\n",
              "      <td>0.615561</td>\n",
              "      <td>0.384439</td>\n",
              "    </tr>\n",
              "  </tbody>\n",
              "</table>\n",
              "</div>"
            ],
            "text/plain": [
              "                          high_risk          \n",
              "high_risk                         0         1\n",
              "race             is_recid                    \n",
              "African-American 0         0.694009  0.305991\n",
              "                 1         0.392555  0.607445\n",
              "Caucasian        0         0.869813  0.130187\n",
              "                 1         0.615561  0.384439"
            ]
          },
          "metadata": {
            "tags": []
          },
          "execution_count": 82
        }
      ]
    },
    {
      "cell_type": "code",
      "metadata": {
        "colab": {
          "base_uri": "https://localhost:8080/",
          "height": 228
        },
        "id": "qD7Hnh2wbaaJ",
        "outputId": "a7cb52a4-b33e-4910-8bb9-4a92c323875b"
      },
      "source": [
        "df.groupby(['race','is_recid']).high_risk.value_counts(normalize =True).to_frame().unstack()"
      ],
      "execution_count": null,
      "outputs": [
        {
          "output_type": "execute_result",
          "data": {
            "text/html": [
              "<div>\n",
              "<style scoped>\n",
              "    .dataframe tbody tr th:only-of-type {\n",
              "        vertical-align: middle;\n",
              "    }\n",
              "\n",
              "    .dataframe tbody tr th {\n",
              "        vertical-align: top;\n",
              "    }\n",
              "\n",
              "    .dataframe thead tr th {\n",
              "        text-align: left;\n",
              "    }\n",
              "\n",
              "    .dataframe thead tr:last-of-type th {\n",
              "        text-align: right;\n",
              "    }\n",
              "</style>\n",
              "<table border=\"1\" class=\"dataframe\">\n",
              "  <thead>\n",
              "    <tr>\n",
              "      <th></th>\n",
              "      <th></th>\n",
              "      <th colspan=\"2\" halign=\"left\">high_risk</th>\n",
              "    </tr>\n",
              "    <tr>\n",
              "      <th></th>\n",
              "      <th>high_risk</th>\n",
              "      <th>0</th>\n",
              "      <th>1</th>\n",
              "    </tr>\n",
              "    <tr>\n",
              "      <th>race</th>\n",
              "      <th>is_recid</th>\n",
              "      <th></th>\n",
              "      <th></th>\n",
              "    </tr>\n",
              "  </thead>\n",
              "  <tbody>\n",
              "    <tr>\n",
              "      <th rowspan=\"2\" valign=\"top\">African-American</th>\n",
              "      <th>0</th>\n",
              "      <td>0.694009</td>\n",
              "      <td>0.305991</td>\n",
              "    </tr>\n",
              "    <tr>\n",
              "      <th>1</th>\n",
              "      <td>0.392555</td>\n",
              "      <td>0.607445</td>\n",
              "    </tr>\n",
              "    <tr>\n",
              "      <th rowspan=\"2\" valign=\"top\">Caucasian</th>\n",
              "      <th>0</th>\n",
              "      <td>0.869813</td>\n",
              "      <td>0.130187</td>\n",
              "    </tr>\n",
              "    <tr>\n",
              "      <th>1</th>\n",
              "      <td>0.615561</td>\n",
              "      <td>0.384439</td>\n",
              "    </tr>\n",
              "  </tbody>\n",
              "</table>\n",
              "</div>"
            ],
            "text/plain": [
              "                          high_risk          \n",
              "high_risk                         0         1\n",
              "race             is_recid                    \n",
              "African-American 0         0.694009  0.305991\n",
              "                 1         0.392555  0.607445\n",
              "Caucasian        0         0.869813  0.130187\n",
              "                 1         0.615561  0.384439"
            ]
          },
          "metadata": {
            "tags": []
          },
          "execution_count": 84
        }
      ]
    }
  ]
}