{
 "cells": [
  {
   "cell_type": "markdown",
   "id": "hearing-banks",
   "metadata": {},
   "source": [
    "# BA840 - Data Ethics - Fairness\n",
    "\n",
    "Team members:\n",
    "\n",
    "1) Jordan Grose\n",
    "2) Christian Lawrence\n",
    "3) (Sylar)Jiajian Guo\n",
    "4) Antonio Moral Cevallos\n",
    "5) Maraline Torres\n",
    "\n",
    "\n",
    "Fairness Definition:\n",
    "\n",
    "Everyone is treated in an equitable way and have the benefits, opportunities and responsibilities that correspond to them. The algorithm should predict accurately the "
   ]
  },
  {
   "cell_type": "code",
   "execution_count": 1,
   "id": "standard-information",
   "metadata": {},
   "outputs": [
    {
     "data": {
      "text/plain": [
       "(6172, 14)"
      ]
     },
     "execution_count": 1,
     "metadata": {},
     "output_type": "execute_result"
    }
   ],
   "source": [
    "import pandas as pd\n",
    "import numpy as np\n",
    "import seaborn as sns\n",
    "import matplotlib.pyplot as plt\n",
    "import warnings\n",
    "warnings.filterwarnings(\"ignore\")\n",
    "\n",
    "\n",
    "\n",
    "df = pd.read_csv(\"cleanedCompasData.csv\")\n",
    "df.shape"
   ]
  },
  {
   "cell_type": "code",
   "execution_count": 2,
   "id": "parental-percentage",
   "metadata": {},
   "outputs": [
    {
     "name": "stdout",
     "output_type": "stream",
     "text": [
      "<class 'pandas.core.frame.DataFrame'>\n",
      "RangeIndex: 6172 entries, 0 to 6171\n",
      "Data columns (total 14 columns):\n",
      " #   Column                   Non-Null Count  Dtype \n",
      "---  ------                   --------------  ----- \n",
      " 0   Unnamed: 0               6172 non-null   int64 \n",
      " 1   age                      6172 non-null   int64 \n",
      " 2   c_charge_degree          6172 non-null   object\n",
      " 3   race                     6172 non-null   object\n",
      " 4   age_cat                  6172 non-null   object\n",
      " 5   score_text               6172 non-null   object\n",
      " 6   sex                      6172 non-null   object\n",
      " 7   priors_count             6172 non-null   int64 \n",
      " 8   days_b_screening_arrest  6172 non-null   int64 \n",
      " 9   decile_score             6172 non-null   int64 \n",
      " 10  is_recid                 6172 non-null   int64 \n",
      " 11  two_year_recid           6172 non-null   int64 \n",
      " 12  c_jail_in                6172 non-null   object\n",
      " 13  c_jail_out               6172 non-null   object\n",
      "dtypes: int64(7), object(7)\n",
      "memory usage: 675.2+ KB\n"
     ]
    }
   ],
   "source": [
    "df.info()"
   ]
  },
  {
   "cell_type": "code",
   "execution_count": 3,
   "id": "constant-washington",
   "metadata": {},
   "outputs": [
    {
     "data": {
      "text/html": [
       "<div>\n",
       "<style scoped>\n",
       "    .dataframe tbody tr th:only-of-type {\n",
       "        vertical-align: middle;\n",
       "    }\n",
       "\n",
       "    .dataframe tbody tr th {\n",
       "        vertical-align: top;\n",
       "    }\n",
       "\n",
       "    .dataframe thead th {\n",
       "        text-align: right;\n",
       "    }\n",
       "</style>\n",
       "<table border=\"1\" class=\"dataframe\">\n",
       "  <thead>\n",
       "    <tr style=\"text-align: right;\">\n",
       "      <th></th>\n",
       "      <th>Unnamed: 0</th>\n",
       "      <th>age</th>\n",
       "      <th>c_charge_degree</th>\n",
       "      <th>race</th>\n",
       "      <th>age_cat</th>\n",
       "      <th>score_text</th>\n",
       "      <th>sex</th>\n",
       "      <th>priors_count</th>\n",
       "      <th>days_b_screening_arrest</th>\n",
       "      <th>decile_score</th>\n",
       "      <th>is_recid</th>\n",
       "      <th>two_year_recid</th>\n",
       "      <th>c_jail_in</th>\n",
       "      <th>c_jail_out</th>\n",
       "    </tr>\n",
       "  </thead>\n",
       "  <tbody>\n",
       "    <tr>\n",
       "      <th>0</th>\n",
       "      <td>1</td>\n",
       "      <td>69</td>\n",
       "      <td>F</td>\n",
       "      <td>Other</td>\n",
       "      <td>Greater than 45</td>\n",
       "      <td>Low</td>\n",
       "      <td>Male</td>\n",
       "      <td>0</td>\n",
       "      <td>-1</td>\n",
       "      <td>1</td>\n",
       "      <td>0</td>\n",
       "      <td>0</td>\n",
       "      <td>2013-08-13 06:03:42</td>\n",
       "      <td>2013-08-14 05:41:20</td>\n",
       "    </tr>\n",
       "    <tr>\n",
       "      <th>1</th>\n",
       "      <td>2</td>\n",
       "      <td>34</td>\n",
       "      <td>F</td>\n",
       "      <td>African-American</td>\n",
       "      <td>25 - 45</td>\n",
       "      <td>Low</td>\n",
       "      <td>Male</td>\n",
       "      <td>0</td>\n",
       "      <td>-1</td>\n",
       "      <td>3</td>\n",
       "      <td>1</td>\n",
       "      <td>1</td>\n",
       "      <td>2013-01-26 03:45:27</td>\n",
       "      <td>2013-02-05 05:36:53</td>\n",
       "    </tr>\n",
       "    <tr>\n",
       "      <th>2</th>\n",
       "      <td>3</td>\n",
       "      <td>24</td>\n",
       "      <td>F</td>\n",
       "      <td>African-American</td>\n",
       "      <td>Less than 25</td>\n",
       "      <td>Low</td>\n",
       "      <td>Male</td>\n",
       "      <td>4</td>\n",
       "      <td>-1</td>\n",
       "      <td>4</td>\n",
       "      <td>1</td>\n",
       "      <td>1</td>\n",
       "      <td>2013-04-13 04:58:34</td>\n",
       "      <td>2013-04-14 07:02:04</td>\n",
       "    </tr>\n",
       "    <tr>\n",
       "      <th>3</th>\n",
       "      <td>4</td>\n",
       "      <td>44</td>\n",
       "      <td>M</td>\n",
       "      <td>Other</td>\n",
       "      <td>25 - 45</td>\n",
       "      <td>Low</td>\n",
       "      <td>Male</td>\n",
       "      <td>0</td>\n",
       "      <td>0</td>\n",
       "      <td>1</td>\n",
       "      <td>0</td>\n",
       "      <td>0</td>\n",
       "      <td>2013-11-30 04:50:18</td>\n",
       "      <td>2013-12-01 12:28:56</td>\n",
       "    </tr>\n",
       "    <tr>\n",
       "      <th>4</th>\n",
       "      <td>5</td>\n",
       "      <td>41</td>\n",
       "      <td>F</td>\n",
       "      <td>Caucasian</td>\n",
       "      <td>25 - 45</td>\n",
       "      <td>Medium</td>\n",
       "      <td>Male</td>\n",
       "      <td>14</td>\n",
       "      <td>-1</td>\n",
       "      <td>6</td>\n",
       "      <td>1</td>\n",
       "      <td>1</td>\n",
       "      <td>2014-02-18 05:08:24</td>\n",
       "      <td>2014-02-24 12:18:30</td>\n",
       "    </tr>\n",
       "  </tbody>\n",
       "</table>\n",
       "</div>"
      ],
      "text/plain": [
       "   Unnamed: 0  age c_charge_degree              race          age_cat  \\\n",
       "0           1   69               F             Other  Greater than 45   \n",
       "1           2   34               F  African-American          25 - 45   \n",
       "2           3   24               F  African-American     Less than 25   \n",
       "3           4   44               M             Other          25 - 45   \n",
       "4           5   41               F         Caucasian          25 - 45   \n",
       "\n",
       "  score_text   sex  priors_count  days_b_screening_arrest  decile_score  \\\n",
       "0        Low  Male             0                       -1             1   \n",
       "1        Low  Male             0                       -1             3   \n",
       "2        Low  Male             4                       -1             4   \n",
       "3        Low  Male             0                        0             1   \n",
       "4     Medium  Male            14                       -1             6   \n",
       "\n",
       "   is_recid  two_year_recid            c_jail_in           c_jail_out  \n",
       "0         0               0  2013-08-13 06:03:42  2013-08-14 05:41:20  \n",
       "1         1               1  2013-01-26 03:45:27  2013-02-05 05:36:53  \n",
       "2         1               1  2013-04-13 04:58:34  2013-04-14 07:02:04  \n",
       "3         0               0  2013-11-30 04:50:18  2013-12-01 12:28:56  \n",
       "4         1               1  2014-02-18 05:08:24  2014-02-24 12:18:30  "
      ]
     },
     "execution_count": 3,
     "metadata": {},
     "output_type": "execute_result"
    }
   ],
   "source": [
    "df.head()"
   ]
  },
  {
   "cell_type": "code",
   "execution_count": 5,
   "id": "contained-minneapolis",
   "metadata": {},
   "outputs": [
    {
     "data": {
      "image/png": "[encoded data removed]",
      "text/plain": [
       "<Figure size 576x360 with 1 Axes>"
      ]
     },
     "metadata": {
      "needs_background": "light"
     },
     "output_type": "display_data"
    }
   ],
   "source": [
    "plt.figure(figsize=(8, 5))\n",
    "sns.countplot(x='race', data= df);"
   ]
  },
  {
   "cell_type": "markdown",
   "id": "medical-strip",
   "metadata": {},
   "source": [
    "We have more observations for african americans than caucasians. From this, we can have an idea that the dataset could be inbalance and that could influence (possibly negatively) the algorithm results. \n",
    "\n",
    "We are going to run some confusion matrix by race for Caucasians and African-American to see if the decile score is fair or not regardless of race. \n",
    "\n",
    "- True positive: High Risk and Committed a crime\n",
    "- False positive: High Risk and Didn't commit a crime\n",
    "- False negative: Low Risk and Committed a crime\n",
    "- True negative: Low Risk and Didn't commit a crime"
   ]
  },
  {
   "cell_type": "code",
   "execution_count": 6,
   "id": "connected-above",
   "metadata": {},
   "outputs": [
    {
     "data": {
      "image/png": "[encoded data removed]",
      "text/plain": [
       "<Figure size 360x432 with 1 Axes>"
      ]
     },
     "metadata": {
      "needs_background": "light"
     },
     "output_type": "display_data"
    }
   ],
   "source": [
    "df_caucasian = df.loc[df.race =='Caucasian', ]\n",
    "f, ax = plt.subplots(figsize=(5,6))\n",
    "sns.countplot(x='decile_score',hue = 'is_recid',data = df_caucasian);"
   ]
  },
  {
   "cell_type": "markdown",
   "id": "advised-passage",
   "metadata": {},
   "source": [
    "We are going to consider high risk the caucasians with a decile score equal or higher than 5. "
   ]
  },
  {
   "cell_type": "code",
   "execution_count": 14,
   "id": "ambient-composer",
   "metadata": {},
   "outputs": [
    {
     "name": "stdout",
     "output_type": "stream",
     "text": [
      "High Risk          0         1\n",
      "Recidivism                    \n",
      "0           0.457917  0.126486\n",
      "1           0.211127  0.204470\n"
     ]
    }
   ],
   "source": [
    "df_caucasian['threshold'] = np.where(df_caucasian.decile_score < 5, 0,1)\n",
    "confusion_matrix = pd.crosstab(df_caucasian['is_recid'], df_caucasian['threshold'], rownames=['Recidivism'], colnames=['High Risk'], normalize=True)\n",
    "print(confusion_matrix)"
   ]
  },
  {
   "cell_type": "code",
   "execution_count": 15,
   "id": "religious-entity",
   "metadata": {},
   "outputs": [
    {
     "data": {
      "image/png": "[encoded data removed]",
      "text/plain": [
       "<Figure size 720x720 with 2 Axes>"
      ]
     },
     "metadata": {
      "needs_background": "light"
     },
     "output_type": "display_data"
    }
   ],
   "source": [
    "plt.figure(figsize=(10, 10))\n",
    "sns.heatmap(confusion_matrix, annot=True, fmt='.2%');"
   ]
  },
  {
   "cell_type": "markdown",
   "id": "cooked-phenomenon",
   "metadata": {},
   "source": [
    "20.45% of the high risk caucasians were correctly classified (true positive) and 45.79% of them were low risk and didn't commit a crime (true negative). We will do something similar for the African-American group. Important to note that the false positive (High risk and didn't commit a crime) is 12.65%. \n",
    "\n",
    "Let's see what happens with the african-american citizens. "
   ]
  },
  {
   "cell_type": "code",
   "execution_count": 9,
   "id": "acting-amplifier",
   "metadata": {},
   "outputs": [
    {
     "data": {
      "image/png": "[encoded data removed]",
      "text/plain": [
       "<Figure size 360x432 with 1 Axes>"
      ]
     },
     "metadata": {
      "needs_background": "light"
     },
     "output_type": "display_data"
    }
   ],
   "source": [
    "df_africanamerican = df.loc[df.race == 'African-American',]\n",
    "f, ax = plt.subplots(figsize=(5,6))\n",
    "sns.countplot(x='decile_score',hue = 'is_recid',data = df_africanamerican);"
   ]
  },
  {
   "cell_type": "markdown",
   "id": "stupid-stockholm",
   "metadata": {},
   "source": [
    "We are going to consider high risk the decile_score equal or higher than 5. Similar as the caucasians. "
   ]
  },
  {
   "cell_type": "code",
   "execution_count": 16,
   "id": "signed-wildlife",
   "metadata": {},
   "outputs": [
    {
     "name": "stdout",
     "output_type": "stream",
     "text": [
      "High_Risk          0         1\n",
      "Recidivism                    \n",
      "0           0.258583  0.182992\n",
      "1           0.165354  0.393071\n"
     ]
    }
   ],
   "source": [
    "df_africanamerican['threshold'] = np.where(df_africanamerican.decile_score < 5, 0,1)\n",
    "confusion_matrix = pd.crosstab(df_africanamerican['is_recid'], df_africanamerican['threshold'], rownames=['Recidivism'], colnames=['High_Risk'], normalize=True)\n",
    "print(confusion_matrix)"
   ]
  },
  {
   "cell_type": "code",
   "execution_count": 17,
   "id": "robust-accent",
   "metadata": {},
   "outputs": [
    {
     "data": {
      "image/png": "[encoded data removed]",
      "text/plain": [
       "<Figure size 720x720 with 2 Axes>"
      ]
     },
     "metadata": {
      "needs_background": "light"
     },
     "output_type": "display_data"
    }
   ],
   "source": [
    "plt.figure(figsize=(10, 10))\n",
    "sns.heatmap(confusion_matrix, annot=True, fmt='.2%');"
   ]
  },
  {
   "cell_type": "markdown",
   "id": "mysterious-practice",
   "metadata": {},
   "source": [
    "The plot presents that 39.31% of the high risks african americans were correctly classified (true positive) as they will commit another offense. \n",
    "More importantly, the false positive is higher for african-american compared to caucasians which means that it classifies african americans high risk when they actually don't commit a crime. "
   ]
  }
 ],
 "metadata": {
  "kernelspec": {
   "display_name": "Python 3",
   "language": "python",
   "name": "python3"
  },
  "language_info": {
   "codemirror_mode": {
    "name": "ipython",
    "version": 3
   },
   "file_extension": ".py",
   "mimetype": "text/x-python",
   "name": "python",
   "nbconvert_exporter": "python",
   "pygments_lexer": "ipython3",
   "version": "3.8.8"
  }
 },
 "nbformat": 4,
 "nbformat_minor": 5
}
