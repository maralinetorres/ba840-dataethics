{
 "cells": [
  {
   "cell_type": "markdown",
   "id": "lovely-amino",
   "metadata": {},
   "source": [
    "## Day 3 - Exercise - Create Risk Score\n",
    "\n",
    "Team members: \n",
    "\n",
    "1) Amber Wu\n",
    "2) Shamika Kalwe\n",
    "3) Xuanqi Liang\n",
    "4) Maraline Torres"
   ]
  },
  {
   "cell_type": "code",
   "execution_count": 1,
   "id": "posted-reality",
   "metadata": {},
   "outputs": [
    {
     "data": {
      "text/plain": [
       "(2000, 7)"
      ]
     },
     "execution_count": 1,
     "metadata": {},
     "output_type": "execute_result"
    }
   ],
   "source": [
    "import pandas as pd\n",
    "import numpy as np\n",
    "import seaborn as sns\n",
    "import matplotlib.pyplot as plt\n",
    "\n",
    "\n",
    "df = pd.read_csv('hiringData.csv')\n",
    "df.drop(columns='Unnamed: 0', inplace = True)\n",
    "df.shape"
   ]
  },
  {
   "cell_type": "code",
   "execution_count": 2,
   "id": "alternate-skating",
   "metadata": {},
   "outputs": [
    {
     "data": {
      "text/html": [
       "<div>\n",
       "<style scoped>\n",
       "    .dataframe tbody tr th:only-of-type {\n",
       "        vertical-align: middle;\n",
       "    }\n",
       "\n",
       "    .dataframe tbody tr th {\n",
       "        vertical-align: top;\n",
       "    }\n",
       "\n",
       "    .dataframe thead th {\n",
       "        text-align: right;\n",
       "    }\n",
       "</style>\n",
       "<table border=\"1\" class=\"dataframe\">\n",
       "  <thead>\n",
       "    <tr style=\"text-align: right;\">\n",
       "      <th></th>\n",
       "      <th>group</th>\n",
       "      <th>A</th>\n",
       "      <th>B</th>\n",
       "      <th>C</th>\n",
       "      <th>D</th>\n",
       "      <th>E</th>\n",
       "      <th>hired</th>\n",
       "    </tr>\n",
       "  </thead>\n",
       "  <tbody>\n",
       "    <tr>\n",
       "      <th>0</th>\n",
       "      <td>male</td>\n",
       "      <td>0.056369</td>\n",
       "      <td>0.0</td>\n",
       "      <td>1.000000</td>\n",
       "      <td>0.347826</td>\n",
       "      <td>0.406201</td>\n",
       "      <td>1</td>\n",
       "    </tr>\n",
       "    <tr>\n",
       "      <th>1</th>\n",
       "      <td>female</td>\n",
       "      <td>0.056369</td>\n",
       "      <td>0.0</td>\n",
       "      <td>1.000000</td>\n",
       "      <td>0.347826</td>\n",
       "      <td>0.406201</td>\n",
       "      <td>0</td>\n",
       "    </tr>\n",
       "    <tr>\n",
       "      <th>2</th>\n",
       "      <td>male</td>\n",
       "      <td>1.000000</td>\n",
       "      <td>1.0</td>\n",
       "      <td>0.000000</td>\n",
       "      <td>0.260870</td>\n",
       "      <td>0.000000</td>\n",
       "      <td>0</td>\n",
       "    </tr>\n",
       "    <tr>\n",
       "      <th>3</th>\n",
       "      <td>male</td>\n",
       "      <td>0.000000</td>\n",
       "      <td>0.0</td>\n",
       "      <td>0.813711</td>\n",
       "      <td>0.086957</td>\n",
       "      <td>1.000000</td>\n",
       "      <td>1</td>\n",
       "    </tr>\n",
       "    <tr>\n",
       "      <th>4</th>\n",
       "      <td>female</td>\n",
       "      <td>0.195270</td>\n",
       "      <td>0.5</td>\n",
       "      <td>0.934376</td>\n",
       "      <td>0.086957</td>\n",
       "      <td>0.477683</td>\n",
       "      <td>0</td>\n",
       "    </tr>\n",
       "  </tbody>\n",
       "</table>\n",
       "</div>"
      ],
      "text/plain": [
       "    group         A    B         C         D         E  hired\n",
       "0    male  0.056369  0.0  1.000000  0.347826  0.406201      1\n",
       "1  female  0.056369  0.0  1.000000  0.347826  0.406201      0\n",
       "2    male  1.000000  1.0  0.000000  0.260870  0.000000      0\n",
       "3    male  0.000000  0.0  0.813711  0.086957  1.000000      1\n",
       "4  female  0.195270  0.5  0.934376  0.086957  0.477683      0"
      ]
     },
     "execution_count": 2,
     "metadata": {},
     "output_type": "execute_result"
    }
   ],
   "source": [
    "df.head()"
   ]
  },
  {
   "cell_type": "markdown",
   "id": "sunrise-compatibility",
   "metadata": {},
   "source": [
    "## Using Linear Regression - Probability"
   ]
  },
  {
   "cell_type": "code",
   "execution_count": 26,
   "id": "northern-cooler",
   "metadata": {},
   "outputs": [],
   "source": [
    "X = df.iloc[:,1:6]\n",
    "y = df.iloc[:,6:7]"
   ]
  },
  {
   "cell_type": "markdown",
   "id": "parliamentary-cleveland",
   "metadata": {},
   "source": [
    "Predictors from A to E"
   ]
  },
  {
   "cell_type": "code",
   "execution_count": 28,
   "id": "unexpected-ultimate",
   "metadata": {},
   "outputs": [
    {
     "name": "stdout",
     "output_type": "stream",
     "text": [
      "Coefficients: \n",
      " [[ 0.77139506 -0.45318828  0.1510726   0.38169653  0.53856704]]\n",
      "Mean squared error: 0.17\n",
      "Coefficient of determination: 0.27\n"
     ]
    }
   ],
   "source": [
    "from sklearn.linear_model import LinearRegression\n",
    "from sklearn.model_selection import train_test_split\n",
    "from sklearn.metrics import mean_squared_error, r2_score\n",
    "\n",
    "model = LinearRegression()\n",
    "\n",
    "model.fit(X, y)\n",
    "\n",
    "y_pred = model.predict(X)\n",
    "\n",
    "# The coefficients\n",
    "print('Coefficients: \\n', model.coef_)\n",
    "# The mean squared error\n",
    "print('Mean squared error: %.2f'% mean_squared_error(y, y_pred))\n",
    "# The coefficient of determination: 1 is perfect prediction\n",
    "print('Coefficient of determination: %.2f' % r2_score(y,y_pred))"
   ]
  },
  {
   "cell_type": "markdown",
   "id": "processed-contact",
   "metadata": {},
   "source": [
    "Adding the group (female or male) to see if the risk score is bias. "
   ]
  },
  {
   "cell_type": "code",
   "execution_count": 29,
   "id": "brazilian-resolution",
   "metadata": {},
   "outputs": [
    {
     "data": {
      "text/html": [
       "<div>\n",
       "<style scoped>\n",
       "    .dataframe tbody tr th:only-of-type {\n",
       "        vertical-align: middle;\n",
       "    }\n",
       "\n",
       "    .dataframe tbody tr th {\n",
       "        vertical-align: top;\n",
       "    }\n",
       "\n",
       "    .dataframe thead th {\n",
       "        text-align: right;\n",
       "    }\n",
       "</style>\n",
       "<table border=\"1\" class=\"dataframe\">\n",
       "  <thead>\n",
       "    <tr style=\"text-align: right;\">\n",
       "      <th></th>\n",
       "      <th>group</th>\n",
       "      <th>A</th>\n",
       "      <th>B</th>\n",
       "      <th>C</th>\n",
       "      <th>D</th>\n",
       "      <th>E</th>\n",
       "      <th>hired</th>\n",
       "    </tr>\n",
       "  </thead>\n",
       "  <tbody>\n",
       "    <tr>\n",
       "      <th>0</th>\n",
       "      <td>0</td>\n",
       "      <td>0.056369</td>\n",
       "      <td>0.0</td>\n",
       "      <td>1.000000</td>\n",
       "      <td>0.347826</td>\n",
       "      <td>0.406201</td>\n",
       "      <td>1</td>\n",
       "    </tr>\n",
       "    <tr>\n",
       "      <th>1</th>\n",
       "      <td>1</td>\n",
       "      <td>0.056369</td>\n",
       "      <td>0.0</td>\n",
       "      <td>1.000000</td>\n",
       "      <td>0.347826</td>\n",
       "      <td>0.406201</td>\n",
       "      <td>0</td>\n",
       "    </tr>\n",
       "    <tr>\n",
       "      <th>2</th>\n",
       "      <td>0</td>\n",
       "      <td>1.000000</td>\n",
       "      <td>1.0</td>\n",
       "      <td>0.000000</td>\n",
       "      <td>0.260870</td>\n",
       "      <td>0.000000</td>\n",
       "      <td>0</td>\n",
       "    </tr>\n",
       "    <tr>\n",
       "      <th>3</th>\n",
       "      <td>0</td>\n",
       "      <td>0.000000</td>\n",
       "      <td>0.0</td>\n",
       "      <td>0.813711</td>\n",
       "      <td>0.086957</td>\n",
       "      <td>1.000000</td>\n",
       "      <td>1</td>\n",
       "    </tr>\n",
       "    <tr>\n",
       "      <th>4</th>\n",
       "      <td>1</td>\n",
       "      <td>0.195270</td>\n",
       "      <td>0.5</td>\n",
       "      <td>0.934376</td>\n",
       "      <td>0.086957</td>\n",
       "      <td>0.477683</td>\n",
       "      <td>0</td>\n",
       "    </tr>\n",
       "  </tbody>\n",
       "</table>\n",
       "</div>"
      ],
      "text/plain": [
       "   group         A    B         C         D         E  hired\n",
       "0      0  0.056369  0.0  1.000000  0.347826  0.406201      1\n",
       "1      1  0.056369  0.0  1.000000  0.347826  0.406201      0\n",
       "2      0  1.000000  1.0  0.000000  0.260870  0.000000      0\n",
       "3      0  0.000000  0.0  0.813711  0.086957  1.000000      1\n",
       "4      1  0.195270  0.5  0.934376  0.086957  0.477683      0"
      ]
     },
     "execution_count": 29,
     "metadata": {},
     "output_type": "execute_result"
    }
   ],
   "source": [
    "df2 = df.copy()\n",
    "df2['group'] = np.where(df2.group == 'female', 1, 0)\n",
    "df2.head()"
   ]
  },
  {
   "cell_type": "code",
   "execution_count": 32,
   "id": "split-rachel",
   "metadata": {},
   "outputs": [
    {
     "name": "stdout",
     "output_type": "stream",
     "text": [
      "Coefficients: \n",
      " [[ 0.02852583  0.77761617 -0.46986243  0.1460262   0.37841541  0.53875101]]\n",
      "Mean squared error: 0.17\n",
      "Coefficient of determination: 0.27\n"
     ]
    }
   ],
   "source": [
    "X = df2.iloc[:,0:6]\n",
    "y = df2.iloc[:,6:7]\n",
    "\n",
    "model = LinearRegression()\n",
    "\n",
    "model.fit(X, y)\n",
    "\n",
    "y_pred = model.predict(X)\n",
    "\n",
    "# The coefficients\n",
    "print('Coefficients: \\n', model.coef_)\n",
    "# The mean squared error\n",
    "print('Mean squared error: %.2f'% mean_squared_error(y, y_pred))\n",
    "# The coefficient of determination: 1 is perfect prediction\n",
    "print('Coefficient of determination: %.2f' % r2_score(y,y_pred))"
   ]
  },
  {
   "cell_type": "markdown",
   "id": "increasing-immunology",
   "metadata": {},
   "source": [
    "## Using Logistic Regression"
   ]
  },
  {
   "cell_type": "code",
   "execution_count": 33,
   "id": "stylish-cylinder",
   "metadata": {},
   "outputs": [
    {
     "data": {
      "text/html": [
       "<div>\n",
       "<style scoped>\n",
       "    .dataframe tbody tr th:only-of-type {\n",
       "        vertical-align: middle;\n",
       "    }\n",
       "\n",
       "    .dataframe tbody tr th {\n",
       "        vertical-align: top;\n",
       "    }\n",
       "\n",
       "    .dataframe thead th {\n",
       "        text-align: right;\n",
       "    }\n",
       "</style>\n",
       "<table border=\"1\" class=\"dataframe\">\n",
       "  <thead>\n",
       "    <tr style=\"text-align: right;\">\n",
       "      <th></th>\n",
       "      <th>group</th>\n",
       "      <th>A</th>\n",
       "      <th>B</th>\n",
       "      <th>C</th>\n",
       "      <th>D</th>\n",
       "      <th>E</th>\n",
       "      <th>hired</th>\n",
       "    </tr>\n",
       "  </thead>\n",
       "  <tbody>\n",
       "    <tr>\n",
       "      <th>0</th>\n",
       "      <td>0</td>\n",
       "      <td>0.056369</td>\n",
       "      <td>0.0</td>\n",
       "      <td>1.000000</td>\n",
       "      <td>0.347826</td>\n",
       "      <td>0.406201</td>\n",
       "      <td>1</td>\n",
       "    </tr>\n",
       "    <tr>\n",
       "      <th>1</th>\n",
       "      <td>1</td>\n",
       "      <td>0.056369</td>\n",
       "      <td>0.0</td>\n",
       "      <td>1.000000</td>\n",
       "      <td>0.347826</td>\n",
       "      <td>0.406201</td>\n",
       "      <td>0</td>\n",
       "    </tr>\n",
       "    <tr>\n",
       "      <th>2</th>\n",
       "      <td>0</td>\n",
       "      <td>1.000000</td>\n",
       "      <td>1.0</td>\n",
       "      <td>0.000000</td>\n",
       "      <td>0.260870</td>\n",
       "      <td>0.000000</td>\n",
       "      <td>0</td>\n",
       "    </tr>\n",
       "    <tr>\n",
       "      <th>3</th>\n",
       "      <td>0</td>\n",
       "      <td>0.000000</td>\n",
       "      <td>0.0</td>\n",
       "      <td>0.813711</td>\n",
       "      <td>0.086957</td>\n",
       "      <td>1.000000</td>\n",
       "      <td>1</td>\n",
       "    </tr>\n",
       "    <tr>\n",
       "      <th>4</th>\n",
       "      <td>1</td>\n",
       "      <td>0.195270</td>\n",
       "      <td>0.5</td>\n",
       "      <td>0.934376</td>\n",
       "      <td>0.086957</td>\n",
       "      <td>0.477683</td>\n",
       "      <td>0</td>\n",
       "    </tr>\n",
       "  </tbody>\n",
       "</table>\n",
       "</div>"
      ],
      "text/plain": [
       "   group         A    B         C         D         E  hired\n",
       "0      0  0.056369  0.0  1.000000  0.347826  0.406201      1\n",
       "1      1  0.056369  0.0  1.000000  0.347826  0.406201      0\n",
       "2      0  1.000000  1.0  0.000000  0.260870  0.000000      0\n",
       "3      0  0.000000  0.0  0.813711  0.086957  1.000000      1\n",
       "4      1  0.195270  0.5  0.934376  0.086957  0.477683      0"
      ]
     },
     "execution_count": 33,
     "metadata": {},
     "output_type": "execute_result"
    }
   ],
   "source": [
    "df3 = df.copy()\n",
    "df3['group'] = np.where(df3.group == 'female', 1, 0)\n",
    "df3.head()"
   ]
  },
  {
   "cell_type": "code",
   "execution_count": 36,
   "id": "worldwide-midnight",
   "metadata": {},
   "outputs": [
    {
     "name": "stderr",
     "output_type": "stream",
     "text": [
      "/Users/maralinetorres/opt/miniconda3/envs/msba/lib/python3.8/site-packages/sklearn/utils/validation.py:63: DataConversionWarning: A column-vector y was passed when a 1d array was expected. Please change the shape of y to (n_samples, ), for example using ravel().\n",
      "  return f(*args, **kwargs)\n"
     ]
    },
    {
     "name": "stdout",
     "output_type": "stream",
     "text": [
      "Coefficients: \n",
      " [[ 4.02298016 -2.50659046  0.83908604  1.72991685  2.51157688]]\n",
      "Mean squared error: 0.27\n",
      "Coefficient of determination: -0.14\n"
     ]
    }
   ],
   "source": [
    "from sklearn.linear_model import LogisticRegression\n",
    "\n",
    "X = df3.iloc[:,1:6]\n",
    "y = df3.iloc[:,6:7]\n",
    "\n",
    "\n",
    "model = LogisticRegression()\n",
    "\n",
    "model.fit(X, y)\n",
    "\n",
    "y_pred = model.predict(X)\n",
    "\n",
    "# The coefficients\n",
    "print('Coefficients: \\n', model.coef_)\n",
    "# The mean squared error\n",
    "print('Mean squared error: %.2f'% mean_squared_error(y, y_pred))\n",
    "# The coefficient of determination: 1 is perfect prediction\n",
    "print('Coefficient of determination: %.2f' % r2_score(y,y_pred))"
   ]
  },
  {
   "cell_type": "code",
   "execution_count": 37,
   "id": "sorted-depression",
   "metadata": {},
   "outputs": [
    {
     "name": "stdout",
     "output_type": "stream",
     "text": [
      "Coefficients: \n",
      " [[ 0.14653098  4.052127   -2.59153223  0.7975202   1.72276937  2.5244532 ]]\n",
      "Mean squared error: 0.27\n",
      "Coefficient of determination: -0.14\n"
     ]
    },
    {
     "name": "stderr",
     "output_type": "stream",
     "text": [
      "/Users/maralinetorres/opt/miniconda3/envs/msba/lib/python3.8/site-packages/sklearn/utils/validation.py:63: DataConversionWarning: A column-vector y was passed when a 1d array was expected. Please change the shape of y to (n_samples, ), for example using ravel().\n",
      "  return f(*args, **kwargs)\n"
     ]
    }
   ],
   "source": [
    "X = df3.iloc[:,0:6]\n",
    "y = df3.iloc[:,6:7]\n",
    "\n",
    "model = LogisticRegression()\n",
    "\n",
    "model.fit(X, y)\n",
    "\n",
    "y_pred = model.predict(X)\n",
    "\n",
    "# The coefficients\n",
    "print('Coefficients: \\n', model.coef_)\n",
    "# The mean squared error\n",
    "print('Mean squared error: %.2f'% mean_squared_error(y, y_pred))\n",
    "# The coefficient of determination: 1 is perfect prediction\n",
    "print('Coefficient of determination: %.2f' % r2_score(y,y_pred))"
   ]
  },
  {
   "cell_type": "code",
   "execution_count": 38,
   "id": "weird-adobe",
   "metadata": {},
   "outputs": [
    {
     "data": {
      "text/plain": [
       "(2000,)"
      ]
     },
     "execution_count": 38,
     "metadata": {},
     "output_type": "execute_result"
    }
   ],
   "source": [
    "y_pred.shape"
   ]
  },
  {
   "cell_type": "code",
   "execution_count": 39,
   "id": "dangerous-belarus",
   "metadata": {},
   "outputs": [
    {
     "data": {
      "text/plain": [
       "(400, 0)"
      ]
     },
     "execution_count": 39,
     "metadata": {},
     "output_type": "execute_result"
    }
   ],
   "source": [
    "y_test.shape"
   ]
  },
  {
   "cell_type": "code",
   "execution_count": 40,
   "id": "superior-playlist",
   "metadata": {},
   "outputs": [
    {
     "name": "stdout",
     "output_type": "stream",
     "text": [
      "                            OLS Regression Results                            \n",
      "==============================================================================\n",
      "Dep. Variable:                  hired   R-squared:                       0.271\n",
      "Model:                            OLS   Adj. R-squared:                  0.269\n",
      "Method:                 Least Squares   F-statistic:                     123.4\n",
      "Date:                Thu, 20 May 2021   Prob (F-statistic):          7.81e-133\n",
      "Time:                        07:50:58   Log-Likelihood:                -1091.1\n",
      "No. Observations:                2000   AIC:                             2196.\n",
      "Df Residuals:                    1993   BIC:                             2235.\n",
      "Df Model:                           6                                         \n",
      "Covariance Type:            nonrobust                                         \n",
      "==============================================================================\n",
      "                 coef    std err          t      P>|t|      [0.025      0.975]\n",
      "------------------------------------------------------------------------------\n",
      "const         -0.2461      0.033     -7.389      0.000      -0.311      -0.181\n",
      "group          0.0285      0.020      1.408      0.159      -0.011       0.068\n",
      "A              0.7776      0.039     19.727      0.000       0.700       0.855\n",
      "B             -0.4699      0.034    -14.001      0.000      -0.536      -0.404\n",
      "C              0.1460      0.038      3.871      0.000       0.072       0.220\n",
      "D              0.3784      0.033     11.308      0.000       0.313       0.444\n",
      "E              0.5388      0.042     12.786      0.000       0.456       0.621\n",
      "==============================================================================\n",
      "Omnibus:                      271.305   Durbin-Watson:                   1.982\n",
      "Prob(Omnibus):                  0.000   Jarque-Bera (JB):              164.359\n",
      "Skew:                           0.573   Prob(JB):                     2.04e-36\n",
      "Kurtosis:                       2.188   Cond. No.                         8.89\n",
      "==============================================================================\n",
      "\n",
      "Notes:\n",
      "[1] Standard Errors assume that the covariance matrix of the errors is correctly specified.\n"
     ]
    }
   ],
   "source": [
    "import statsmodels.api as sm\n",
    "\n",
    "X2 = sm.add_constant(X)\n",
    "est = sm.OLS(y, X2)\n",
    "est2 = est.fit()\n",
    "print(est2.summary())"
   ]
  },
  {
   "cell_type": "markdown",
   "id": "valued-hudson",
   "metadata": {},
   "source": [
    "Gender is not significant. Therefore, we can say that the algorithm is not bias. \n",
    "\n",
    "\n",
    "## Working with another dataset that has the 'quality' variable"
   ]
  },
  {
   "cell_type": "code",
   "execution_count": 43,
   "id": "primary-supplier",
   "metadata": {},
   "outputs": [
    {
     "name": "stdout",
     "output_type": "stream",
     "text": [
      "Coefficients: \n",
      " [[ 0.77139506 -0.45318828  0.1510726   0.38169653  0.53856704]]\n",
      "Mean squared error: 0.17\n",
      "Coefficient of determination: 0.27\n"
     ]
    }
   ],
   "source": [
    "X = df3.iloc[:,1:6]\n",
    "y = df3.iloc[:,6:7]\n",
    "\n",
    "model = LinearRegression()\n",
    "\n",
    "model.fit(X, y)\n",
    "\n",
    "y_pred = model.predict(X)\n",
    "\n",
    "# The coefficients\n",
    "print('Coefficients: \\n', model.coef_)\n",
    "# The mean squared error\n",
    "print('Mean squared error: %.2f'% mean_squared_error(y, y_pred))\n",
    "# The coefficient of determination: 1 is perfect prediction\n",
    "print('Coefficient of determination: %.2f' % r2_score(y,y_pred))"
   ]
  },
  {
   "cell_type": "code",
   "execution_count": 44,
   "id": "automated-phone",
   "metadata": {},
   "outputs": [
    {
     "data": {
      "text/html": [
       "<div>\n",
       "<style scoped>\n",
       "    .dataframe tbody tr th:only-of-type {\n",
       "        vertical-align: middle;\n",
       "    }\n",
       "\n",
       "    .dataframe tbody tr th {\n",
       "        vertical-align: top;\n",
       "    }\n",
       "\n",
       "    .dataframe thead th {\n",
       "        text-align: right;\n",
       "    }\n",
       "</style>\n",
       "<table border=\"1\" class=\"dataframe\">\n",
       "  <thead>\n",
       "    <tr style=\"text-align: right;\">\n",
       "      <th></th>\n",
       "      <th>actual</th>\n",
       "      <th>risk_score</th>\n",
       "      <th>group</th>\n",
       "    </tr>\n",
       "  </thead>\n",
       "  <tbody>\n",
       "    <tr>\n",
       "      <th>0</th>\n",
       "      <td>1</td>\n",
       "      <td>0.306890</td>\n",
       "      <td>0</td>\n",
       "    </tr>\n",
       "    <tr>\n",
       "      <th>1</th>\n",
       "      <td>0</td>\n",
       "      <td>0.306890</td>\n",
       "      <td>1</td>\n",
       "    </tr>\n",
       "    <tr>\n",
       "      <th>2</th>\n",
       "      <td>0</td>\n",
       "      <td>0.178584</td>\n",
       "      <td>0</td>\n",
       "    </tr>\n",
       "    <tr>\n",
       "      <th>3</th>\n",
       "      <td>1</td>\n",
       "      <td>0.455492</td>\n",
       "      <td>0</td>\n",
       "    </tr>\n",
       "    <tr>\n",
       "      <th>4</th>\n",
       "      <td>0</td>\n",
       "      <td>0.116454</td>\n",
       "      <td>1</td>\n",
       "    </tr>\n",
       "  </tbody>\n",
       "</table>\n",
       "</div>"
      ],
      "text/plain": [
       "   actual  risk_score  group\n",
       "0       1    0.306890      0\n",
       "1       0    0.306890      1\n",
       "2       0    0.178584      0\n",
       "3       1    0.455492      0\n",
       "4       0    0.116454      1"
      ]
     },
     "execution_count": 44,
     "metadata": {},
     "output_type": "execute_result"
    }
   ],
   "source": [
    "logist_pred = pd.DataFrame({'actual': y.values.reshape(-1,), 'risk_score': y_pred.reshape(-1,)})\n",
    "logist_pred['group'] = df3.group\n",
    "logist_pred.head()"
   ]
  },
  {
   "cell_type": "code",
   "execution_count": 45,
   "id": "expired-thickness",
   "metadata": {},
   "outputs": [
    {
     "data": {
      "text/plain": [
       "(2000, 9)"
      ]
     },
     "execution_count": 45,
     "metadata": {},
     "output_type": "execute_result"
    }
   ],
   "source": [
    "data = pd.read_csv('hiringDataWLatentVariable.csv')\n",
    "data.shape"
   ]
  },
  {
   "cell_type": "code",
   "execution_count": 46,
   "id": "outdoor-unemployment",
   "metadata": {},
   "outputs": [
    {
     "data": {
      "text/html": [
       "<div>\n",
       "<style scoped>\n",
       "    .dataframe tbody tr th:only-of-type {\n",
       "        vertical-align: middle;\n",
       "    }\n",
       "\n",
       "    .dataframe tbody tr th {\n",
       "        vertical-align: top;\n",
       "    }\n",
       "\n",
       "    .dataframe thead th {\n",
       "        text-align: right;\n",
       "    }\n",
       "</style>\n",
       "<table border=\"1\" class=\"dataframe\">\n",
       "  <thead>\n",
       "    <tr style=\"text-align: right;\">\n",
       "      <th></th>\n",
       "      <th>Unnamed: 0</th>\n",
       "      <th>group</th>\n",
       "      <th>A</th>\n",
       "      <th>B</th>\n",
       "      <th>C</th>\n",
       "      <th>D</th>\n",
       "      <th>E</th>\n",
       "      <th>hired</th>\n",
       "      <th>quality</th>\n",
       "    </tr>\n",
       "  </thead>\n",
       "  <tbody>\n",
       "    <tr>\n",
       "      <th>0</th>\n",
       "      <td>126</td>\n",
       "      <td>male</td>\n",
       "      <td>0.056369</td>\n",
       "      <td>0.0</td>\n",
       "      <td>1.000000</td>\n",
       "      <td>0.347826</td>\n",
       "      <td>0.406201</td>\n",
       "      <td>1</td>\n",
       "      <td>0.165853</td>\n",
       "    </tr>\n",
       "    <tr>\n",
       "      <th>1</th>\n",
       "      <td>1353</td>\n",
       "      <td>female</td>\n",
       "      <td>0.056369</td>\n",
       "      <td>0.0</td>\n",
       "      <td>1.000000</td>\n",
       "      <td>0.347826</td>\n",
       "      <td>0.406201</td>\n",
       "      <td>0</td>\n",
       "      <td>0.165752</td>\n",
       "    </tr>\n",
       "    <tr>\n",
       "      <th>2</th>\n",
       "      <td>83</td>\n",
       "      <td>male</td>\n",
       "      <td>1.000000</td>\n",
       "      <td>1.0</td>\n",
       "      <td>0.000000</td>\n",
       "      <td>0.260870</td>\n",
       "      <td>0.000000</td>\n",
       "      <td>0</td>\n",
       "      <td>0.608314</td>\n",
       "    </tr>\n",
       "    <tr>\n",
       "      <th>3</th>\n",
       "      <td>219</td>\n",
       "      <td>male</td>\n",
       "      <td>0.000000</td>\n",
       "      <td>0.0</td>\n",
       "      <td>0.813711</td>\n",
       "      <td>0.086957</td>\n",
       "      <td>1.000000</td>\n",
       "      <td>1</td>\n",
       "      <td>0.455447</td>\n",
       "    </tr>\n",
       "    <tr>\n",
       "      <th>4</th>\n",
       "      <td>1567</td>\n",
       "      <td>female</td>\n",
       "      <td>0.195270</td>\n",
       "      <td>0.5</td>\n",
       "      <td>0.934376</td>\n",
       "      <td>0.086957</td>\n",
       "      <td>0.477683</td>\n",
       "      <td>0</td>\n",
       "      <td>0.312300</td>\n",
       "    </tr>\n",
       "  </tbody>\n",
       "</table>\n",
       "</div>"
      ],
      "text/plain": [
       "   Unnamed: 0   group         A    B         C         D         E  hired  \\\n",
       "0         126    male  0.056369  0.0  1.000000  0.347826  0.406201      1   \n",
       "1        1353  female  0.056369  0.0  1.000000  0.347826  0.406201      0   \n",
       "2          83    male  1.000000  1.0  0.000000  0.260870  0.000000      0   \n",
       "3         219    male  0.000000  0.0  0.813711  0.086957  1.000000      1   \n",
       "4        1567  female  0.195270  0.5  0.934376  0.086957  0.477683      0   \n",
       "\n",
       "    quality  \n",
       "0  0.165853  \n",
       "1  0.165752  \n",
       "2  0.608314  \n",
       "3  0.455447  \n",
       "4  0.312300  "
      ]
     },
     "execution_count": 46,
     "metadata": {},
     "output_type": "execute_result"
    }
   ],
   "source": [
    "data.head()"
   ]
  },
  {
   "cell_type": "code",
   "execution_count": 47,
   "id": "religious-monitoring",
   "metadata": {},
   "outputs": [],
   "source": [
    "data.drop(columns='Unnamed: 0', inplace = True)"
   ]
  },
  {
   "cell_type": "code",
   "execution_count": 48,
   "id": "considered-article",
   "metadata": {},
   "outputs": [
    {
     "data": {
      "text/html": [
       "<div>\n",
       "<style scoped>\n",
       "    .dataframe tbody tr th:only-of-type {\n",
       "        vertical-align: middle;\n",
       "    }\n",
       "\n",
       "    .dataframe tbody tr th {\n",
       "        vertical-align: top;\n",
       "    }\n",
       "\n",
       "    .dataframe thead th {\n",
       "        text-align: right;\n",
       "    }\n",
       "</style>\n",
       "<table border=\"1\" class=\"dataframe\">\n",
       "  <thead>\n",
       "    <tr style=\"text-align: right;\">\n",
       "      <th></th>\n",
       "      <th>actual</th>\n",
       "      <th>risk_score</th>\n",
       "      <th>group</th>\n",
       "      <th>quality</th>\n",
       "    </tr>\n",
       "  </thead>\n",
       "  <tbody>\n",
       "    <tr>\n",
       "      <th>0</th>\n",
       "      <td>1</td>\n",
       "      <td>0.306890</td>\n",
       "      <td>0</td>\n",
       "      <td>0.165853</td>\n",
       "    </tr>\n",
       "    <tr>\n",
       "      <th>1</th>\n",
       "      <td>0</td>\n",
       "      <td>0.306890</td>\n",
       "      <td>1</td>\n",
       "      <td>0.165752</td>\n",
       "    </tr>\n",
       "    <tr>\n",
       "      <th>2</th>\n",
       "      <td>0</td>\n",
       "      <td>0.178584</td>\n",
       "      <td>0</td>\n",
       "      <td>0.608314</td>\n",
       "    </tr>\n",
       "    <tr>\n",
       "      <th>3</th>\n",
       "      <td>1</td>\n",
       "      <td>0.455492</td>\n",
       "      <td>0</td>\n",
       "      <td>0.455447</td>\n",
       "    </tr>\n",
       "    <tr>\n",
       "      <th>4</th>\n",
       "      <td>0</td>\n",
       "      <td>0.116454</td>\n",
       "      <td>1</td>\n",
       "      <td>0.312300</td>\n",
       "    </tr>\n",
       "  </tbody>\n",
       "</table>\n",
       "</div>"
      ],
      "text/plain": [
       "   actual  risk_score  group   quality\n",
       "0       1    0.306890      0  0.165853\n",
       "1       0    0.306890      1  0.165752\n",
       "2       0    0.178584      0  0.608314\n",
       "3       1    0.455492      0  0.455447\n",
       "4       0    0.116454      1  0.312300"
      ]
     },
     "execution_count": 48,
     "metadata": {},
     "output_type": "execute_result"
    }
   ],
   "source": [
    "logist_pred['quality'] = data.quality\n",
    "logist_pred.head()"
   ]
  },
  {
   "cell_type": "markdown",
   "id": "aboriginal-league",
   "metadata": {},
   "source": [
    "## Regression with quality only"
   ]
  },
  {
   "cell_type": "code",
   "execution_count": 49,
   "id": "gorgeous-disco",
   "metadata": {},
   "outputs": [],
   "source": [
    "df4 = logist_pred.copy()\n",
    "X = df4.iloc[:,3:4]\n",
    "y = df4.iloc[:,1:2].values"
   ]
  },
  {
   "cell_type": "code",
   "execution_count": 52,
   "id": "lesbian-furniture",
   "metadata": {},
   "outputs": [
    {
     "name": "stdout",
     "output_type": "stream",
     "text": [
      "Coefficients: \n",
      " [[0.44949318]]\n",
      "Mean squared error: 0.04\n",
      "Coefficient of determination: 0.31\n"
     ]
    }
   ],
   "source": [
    "model = LinearRegression()\n",
    "\n",
    "model.fit(X, y)\n",
    "\n",
    "y_pred = model.predict(X)\n",
    "\n",
    "# The coefficients\n",
    "print('Coefficients: \\n', model.coef_)\n",
    "# The mean squared error\n",
    "print('Mean squared error: %.2f'% mean_squared_error(y, y_pred))\n",
    "# The coefficient of determination: 1 is perfect prediction\n",
    "print('Coefficient of determination: %.2f' % r2_score(y,y_pred))"
   ]
  },
  {
   "cell_type": "code",
   "execution_count": 53,
   "id": "black-eagle",
   "metadata": {},
   "outputs": [
    {
     "name": "stdout",
     "output_type": "stream",
     "text": [
      "                            OLS Regression Results                            \n",
      "==============================================================================\n",
      "Dep. Variable:                      y   R-squared:                       0.307\n",
      "Model:                            OLS   Adj. R-squared:                  0.307\n",
      "Method:                 Least Squares   F-statistic:                     885.7\n",
      "Date:                Thu, 20 May 2021   Prob (F-statistic):          2.09e-161\n",
      "Time:                        07:53:00   Log-Likelihood:                 269.06\n",
      "No. Observations:                2000   AIC:                            -534.1\n",
      "Df Residuals:                    1998   BIC:                            -522.9\n",
      "Df Model:                           1                                         \n",
      "Covariance Type:            nonrobust                                         \n",
      "==============================================================================\n",
      "                 coef    std err          t      P>|t|      [0.025      0.975]\n",
      "------------------------------------------------------------------------------\n",
      "const          0.2067      0.008     26.108      0.000       0.191       0.222\n",
      "quality        0.4495      0.015     29.760      0.000       0.420       0.479\n",
      "==============================================================================\n",
      "Omnibus:                     1506.793   Durbin-Watson:                   1.990\n",
      "Prob(Omnibus):                  0.000   Jarque-Bera (JB):              121.308\n",
      "Skew:                          -0.093   Prob(JB):                     4.55e-27\n",
      "Kurtosis:                       1.808   Cond. No.                         3.81\n",
      "==============================================================================\n",
      "\n",
      "Notes:\n",
      "[1] Standard Errors assume that the covariance matrix of the errors is correctly specified.\n"
     ]
    }
   ],
   "source": [
    "X2 = sm.add_constant(X)\n",
    "est = sm.OLS(y, X2)\n",
    "est2 = est.fit()\n",
    "print(est2.summary())"
   ]
  },
  {
   "cell_type": "markdown",
   "id": "formal-negotiation",
   "metadata": {},
   "source": [
    "## Adding the group variable"
   ]
  },
  {
   "cell_type": "code",
   "execution_count": 54,
   "id": "athletic-hampton",
   "metadata": {},
   "outputs": [
    {
     "name": "stdout",
     "output_type": "stream",
     "text": [
      "Coefficients: \n",
      " [[-0.09798038  0.47103994]]\n",
      "Mean squared error: 0.04\n",
      "Coefficient of determination: 0.34\n"
     ]
    }
   ],
   "source": [
    "X = df4.iloc[:,2:4]\n",
    "y = df4.iloc[:,1:2].values\n",
    "\n",
    "\n",
    "model = LinearRegression()\n",
    "\n",
    "model.fit(X, y)\n",
    "\n",
    "y_pred = model.predict(X)\n",
    "\n",
    "# The coefficients\n",
    "print('Coefficients: \\n', model.coef_)\n",
    "# The mean squared error\n",
    "print('Mean squared error: %.2f'% mean_squared_error(y, y_pred))\n",
    "# The coefficient of determination: 1 is perfect prediction\n",
    "print('Coefficient of determination: %.2f' % r2_score(y,y_pred))"
   ]
  },
  {
   "cell_type": "code",
   "execution_count": 56,
   "id": "smoking-manitoba",
   "metadata": {},
   "outputs": [
    {
     "name": "stdout",
     "output_type": "stream",
     "text": [
      "                            OLS Regression Results                            \n",
      "==============================================================================\n",
      "Dep. Variable:                      y   R-squared:                       0.344\n",
      "Model:                            OLS   Adj. R-squared:                  0.343\n",
      "Method:                 Least Squares   F-statistic:                     522.7\n",
      "Date:                Thu, 20 May 2021   Prob (F-statistic):          2.80e-183\n",
      "Time:                        07:53:24   Log-Likelihood:                 323.12\n",
      "No. Observations:                2000   AIC:                            -640.2\n",
      "Df Residuals:                    1997   BIC:                            -623.4\n",
      "Df Model:                           2                                         \n",
      "Covariance Type:            nonrobust                                         \n",
      "==============================================================================\n",
      "                 coef    std err          t      P>|t|      [0.025      0.975]\n",
      "------------------------------------------------------------------------------\n",
      "const          0.2466      0.009     28.712      0.000       0.230       0.263\n",
      "group         -0.0980      0.009    -10.533      0.000      -0.116      -0.080\n",
      "quality        0.4710      0.015     31.727      0.000       0.442       0.500\n",
      "==============================================================================\n",
      "Omnibus:                      912.503   Durbin-Watson:                   1.978\n",
      "Prob(Omnibus):                  0.000   Jarque-Bera (JB):              113.482\n",
      "Skew:                          -0.159   Prob(JB):                     2.28e-25\n",
      "Kurtosis:                       1.877   Cond. No.                         4.27\n",
      "==============================================================================\n",
      "\n",
      "Notes:\n",
      "[1] Standard Errors assume that the covariance matrix of the errors is correctly specified.\n"
     ]
    }
   ],
   "source": [
    "X2 = sm.add_constant(X)\n",
    "est = sm.OLS(y, X2)\n",
    "est2 = est.fit()\n",
    "print(est2.summary())"
   ]
  },
  {
   "cell_type": "markdown",
   "id": "rough-warning",
   "metadata": {},
   "source": [
    "Group IS significant. Before, we thought it was fair but the risk score is actually affected by the gender. \n",
    "\n",
    "\n",
    "## Some EDA to explore why"
   ]
  },
  {
   "cell_type": "code",
   "execution_count": 57,
   "id": "unable-surveillance",
   "metadata": {},
   "outputs": [
    {
     "data": {
      "text/html": [
       "<div>\n",
       "<style scoped>\n",
       "    .dataframe tbody tr th:only-of-type {\n",
       "        vertical-align: middle;\n",
       "    }\n",
       "\n",
       "    .dataframe tbody tr th {\n",
       "        vertical-align: top;\n",
       "    }\n",
       "\n",
       "    .dataframe thead th {\n",
       "        text-align: right;\n",
       "    }\n",
       "</style>\n",
       "<table border=\"1\" class=\"dataframe\">\n",
       "  <thead>\n",
       "    <tr style=\"text-align: right;\">\n",
       "      <th></th>\n",
       "      <th>actual</th>\n",
       "      <th>risk_score</th>\n",
       "      <th>group</th>\n",
       "      <th>quality</th>\n",
       "    </tr>\n",
       "  </thead>\n",
       "  <tbody>\n",
       "    <tr>\n",
       "      <th>0</th>\n",
       "      <td>1</td>\n",
       "      <td>0.306890</td>\n",
       "      <td>0</td>\n",
       "      <td>0.165853</td>\n",
       "    </tr>\n",
       "    <tr>\n",
       "      <th>1</th>\n",
       "      <td>0</td>\n",
       "      <td>0.306890</td>\n",
       "      <td>1</td>\n",
       "      <td>0.165752</td>\n",
       "    </tr>\n",
       "    <tr>\n",
       "      <th>2</th>\n",
       "      <td>0</td>\n",
       "      <td>0.178584</td>\n",
       "      <td>0</td>\n",
       "      <td>0.608314</td>\n",
       "    </tr>\n",
       "    <tr>\n",
       "      <th>3</th>\n",
       "      <td>1</td>\n",
       "      <td>0.455492</td>\n",
       "      <td>0</td>\n",
       "      <td>0.455447</td>\n",
       "    </tr>\n",
       "    <tr>\n",
       "      <th>4</th>\n",
       "      <td>0</td>\n",
       "      <td>0.116454</td>\n",
       "      <td>1</td>\n",
       "      <td>0.312300</td>\n",
       "    </tr>\n",
       "  </tbody>\n",
       "</table>\n",
       "</div>"
      ],
      "text/plain": [
       "   actual  risk_score  group   quality\n",
       "0       1    0.306890      0  0.165853\n",
       "1       0    0.306890      1  0.165752\n",
       "2       0    0.178584      0  0.608314\n",
       "3       1    0.455492      0  0.455447\n",
       "4       0    0.116454      1  0.312300"
      ]
     },
     "execution_count": 57,
     "metadata": {},
     "output_type": "execute_result"
    }
   ],
   "source": [
    "df4.head()"
   ]
  },
  {
   "cell_type": "code",
   "execution_count": 58,
   "id": "about-porter",
   "metadata": {},
   "outputs": [
    {
     "name": "stdout",
     "output_type": "stream",
     "text": [
      "Gender      female    male\n",
      "Risk Score                \n",
      "0.116454    0.0800  0.0760\n",
      "0.156073    0.0280  0.0025\n",
      "0.178584    0.1140  0.0535\n",
      "0.306890    0.0615  0.0305\n",
      "0.396394    0.0060  0.0685\n",
      "0.407135    0.0310  0.0405\n",
      "0.445236    0.0370  0.0840\n",
      "0.455492    0.0465  0.0710\n",
      "0.758860    0.0745  0.0100\n",
      "0.991379    0.0215  0.0635\n"
     ]
    }
   ],
   "source": [
    "df4['gender'] = np.where(df4.group == 0 , 'male', 'female')\n",
    "confusion_matrix = pd.crosstab(df4['risk_score'], df4['gender'], rownames=['Risk Score'], colnames=['Gender'], normalize=True)\n",
    "print(confusion_matrix)"
   ]
  },
  {
   "cell_type": "code",
   "execution_count": 59,
   "id": "raised-vault",
   "metadata": {},
   "outputs": [
    {
     "data": {
      "image/png": "[encoded data removed]",
      "text/plain": [
       "<Figure size 432x288 with 1 Axes>"
      ]
     },
     "metadata": {
      "needs_background": "light"
     },
     "output_type": "display_data"
    }
   ],
   "source": [
    "sns.countplot(x='gender', data=df4);"
   ]
  },
  {
   "cell_type": "code",
   "execution_count": 60,
   "id": "electric-economy",
   "metadata": {},
   "outputs": [
    {
     "data": {
      "image/png": "[encoded data removed]",
      "text/plain": [
       "<Figure size 576x720 with 1 Axes>"
      ]
     },
     "metadata": {
      "needs_background": "light"
     },
     "output_type": "display_data"
    }
   ],
   "source": [
    "plt.figure(figsize=(8, 10))\n",
    "sns.lineplot(x='risk_score',y='quality', data=df4.loc[df4.group == 1,:], alpha = 0.10);"
   ]
  },
  {
   "cell_type": "code",
   "execution_count": 61,
   "id": "together-bailey",
   "metadata": {},
   "outputs": [
    {
     "data": {
      "image/png": "[encoded data removed]",
      "text/plain": [
       "<Figure size 576x720 with 1 Axes>"
      ]
     },
     "metadata": {
      "needs_background": "light"
     },
     "output_type": "display_data"
    }
   ],
   "source": [
    "plt.figure(figsize=(8, 10))\n",
    "sns.lineplot(x='risk_score',y='quality', data=df4.loc[df4.group == 0,:]);"
   ]
  },
  {
   "cell_type": "code",
   "execution_count": 62,
   "id": "demonstrated-uruguay",
   "metadata": {},
   "outputs": [
    {
     "data": {
      "image/png": "[encoded data removed]",
      "text/plain": [
       "<Figure size 432x288 with 1 Axes>"
      ]
     },
     "metadata": {
      "needs_background": "light"
     },
     "output_type": "display_data"
    }
   ],
   "source": [
    "sns.histplot(df4.risk_score);"
   ]
  },
  {
   "cell_type": "code",
   "execution_count": 63,
   "id": "fifty-principle",
   "metadata": {},
   "outputs": [
    {
     "name": "stdout",
     "output_type": "stream",
     "text": [
      "Gender     female   male\n",
      "High_Risk               \n",
      "0          0.2895  0.231\n",
      "1          0.2105  0.269\n"
     ]
    }
   ],
   "source": [
    "df4['High_Risk'] = np.where(df4.risk_score > .40, 1, 0)\n",
    "confusion_matrix2 = pd.crosstab(df4['High_Risk'], df4['gender'], rownames=['High_Risk'], colnames=['Gender'], normalize=True)\n",
    "print(confusion_matrix2)"
   ]
  },
  {
   "cell_type": "markdown",
   "id": "differential-headline",
   "metadata": {},
   "source": [
    "### Exploring using the original dataset"
   ]
  },
  {
   "cell_type": "code",
   "execution_count": 66,
   "id": "strategic-europe",
   "metadata": {},
   "outputs": [
    {
     "data": {
      "image/png": "[encoded data removed]",
      "text/plain": [
       "<Figure size 720x576 with 2 Axes>"
      ]
     },
     "metadata": {
      "needs_background": "light"
     },
     "output_type": "display_data"
    }
   ],
   "source": [
    "plt.figure(figsize=(10, 8))\n",
    "corrMatrix = df3.corr()\n",
    "sns.heatmap(corrMatrix, annot=True);"
   ]
  },
  {
   "cell_type": "markdown",
   "id": "outer-blocking",
   "metadata": {},
   "source": [
    " From the above we see that gender is slightly correlated to B (0.33) and even more slightly with A (0.13)\n",
    " \n",
    " \n",
    " #### We will check the statistical significance of the same i.e. A, B, C, D, E versus Gender"
   ]
  },
  {
   "cell_type": "code",
   "execution_count": 68,
   "id": "stock-truck",
   "metadata": {},
   "outputs": [
    {
     "name": "stdout",
     "output_type": "stream",
     "text": [
      "                            OLS Regression Results                            \n",
      "==============================================================================\n",
      "Dep. Variable:                      A   R-squared:                       0.016\n",
      "Model:                            OLS   Adj. R-squared:                  0.015\n",
      "Method:                 Least Squares   F-statistic:                     31.88\n",
      "Date:                Thu, 20 May 2021   Prob (F-statistic):           1.87e-08\n",
      "Time:                        07:57:02   Log-Likelihood:                -821.39\n",
      "No. Observations:                2000   AIC:                             1647.\n",
      "Df Residuals:                    1998   BIC:                             1658.\n",
      "Df Model:                           1                                         \n",
      "Covariance Type:            nonrobust                                         \n",
      "==============================================================================\n",
      "                 coef    std err          t      P>|t|      [0.025      0.975]\n",
      "------------------------------------------------------------------------------\n",
      "const          0.3851      0.012     33.360      0.000       0.362       0.408\n",
      "group          0.0922      0.016      5.647      0.000       0.060       0.124\n",
      "==============================================================================\n",
      "Omnibus:                    18610.101   Durbin-Watson:                   2.019\n",
      "Prob(Omnibus):                  0.000   Jarque-Bera (JB):              217.556\n",
      "Skew:                           0.384   Prob(JB):                     5.73e-48\n",
      "Kurtosis:                       1.579   Cond. No.                         2.62\n",
      "==============================================================================\n",
      "\n",
      "Notes:\n",
      "[1] Standard Errors assume that the covariance matrix of the errors is correctly specified.\n"
     ]
    }
   ],
   "source": [
    "X = df3[['group']]\n",
    "y = df3['A']\n",
    "X2 = sm.add_constant(X)\n",
    "est = sm.OLS(y, X2)\n",
    "est2 = est.fit()\n",
    "print(est2.summary())"
   ]
  },
  {
   "cell_type": "code",
   "execution_count": 69,
   "id": "grateful-spoke",
   "metadata": {},
   "outputs": [
    {
     "name": "stdout",
     "output_type": "stream",
     "text": [
      "                            OLS Regression Results                            \n",
      "==============================================================================\n",
      "Dep. Variable:                      B   R-squared:                       0.109\n",
      "Model:                            OLS   Adj. R-squared:                  0.108\n",
      "Method:                 Least Squares   F-statistic:                     244.0\n",
      "Date:                Thu, 20 May 2021   Prob (F-statistic):           5.42e-52\n",
      "Time:                        07:57:19   Log-Likelihood:                -1004.7\n",
      "No. Observations:                2000   AIC:                             2013.\n",
      "Df Residuals:                    1998   BIC:                             2025.\n",
      "Df Model:                           1                                         \n",
      "Covariance Type:            nonrobust                                         \n",
      "==============================================================================\n",
      "                 coef    std err          t      P>|t|      [0.025      0.975]\n",
      "------------------------------------------------------------------------------\n",
      "const          0.2055      0.013     16.243      0.000       0.181       0.230\n",
      "group          0.2795      0.018     15.622      0.000       0.244       0.315\n",
      "==============================================================================\n",
      "Omnibus:                      531.337   Durbin-Watson:                   2.017\n",
      "Prob(Omnibus):                  0.000   Jarque-Bera (JB):              174.166\n",
      "Skew:                           0.520   Prob(JB):                     1.51e-38\n",
      "Kurtosis:                       1.997   Cond. No.                         2.62\n",
      "==============================================================================\n",
      "\n",
      "Notes:\n",
      "[1] Standard Errors assume that the covariance matrix of the errors is correctly specified.\n"
     ]
    }
   ],
   "source": [
    "X = df3[['group']]\n",
    "y = df3['B']\n",
    "X2 = sm.add_constant(X)\n",
    "est = sm.OLS(y, X2)\n",
    "est2 = est.fit()\n",
    "print(est2.summary())"
   ]
  },
  {
   "cell_type": "code",
   "execution_count": 71,
   "id": "accompanied-repair",
   "metadata": {},
   "outputs": [
    {
     "name": "stdout",
     "output_type": "stream",
     "text": [
      "                            OLS Regression Results                            \n",
      "==============================================================================\n",
      "Dep. Variable:                      C   R-squared:                       0.000\n",
      "Model:                            OLS   Adj. R-squared:                 -0.000\n",
      "Method:                 Least Squares   F-statistic:                    0.4278\n",
      "Date:                Thu, 20 May 2021   Prob (F-statistic):              0.513\n",
      "Time:                        07:57:42   Log-Likelihood:                -802.03\n",
      "No. Observations:                2000   AIC:                             1608.\n",
      "Df Residuals:                    1998   BIC:                             1619.\n",
      "Df Model:                           1                                         \n",
      "Covariance Type:            nonrobust                                         \n",
      "==============================================================================\n",
      "                 coef    std err          t      P>|t|      [0.025      0.975]\n",
      "------------------------------------------------------------------------------\n",
      "const          0.6203      0.011     54.255      0.000       0.598       0.643\n",
      "group          0.0106      0.016      0.654      0.513      -0.021       0.042\n",
      "==============================================================================\n",
      "Omnibus:                      805.069   Durbin-Watson:                   2.008\n",
      "Prob(Omnibus):                  0.000   Jarque-Bera (JB):              262.763\n",
      "Skew:                          -0.707   Prob(JB):                     8.74e-58\n",
      "Kurtosis:                       1.926   Cond. No.                         2.62\n",
      "==============================================================================\n",
      "\n",
      "Notes:\n",
      "[1] Standard Errors assume that the covariance matrix of the errors is correctly specified.\n"
     ]
    }
   ],
   "source": [
    "X = df3[['group']]\n",
    "y = df3['C']\n",
    "X2 = sm.add_constant(X)\n",
    "est = sm.OLS(y, X2)\n",
    "est2 = est.fit()\n",
    "print(est2.summary())"
   ]
  },
  {
   "cell_type": "code",
   "execution_count": 72,
   "id": "latter-freedom",
   "metadata": {},
   "outputs": [
    {
     "name": "stdout",
     "output_type": "stream",
     "text": [
      "                            OLS Regression Results                            \n",
      "==============================================================================\n",
      "Dep. Variable:                      D   R-squared:                       0.001\n",
      "Model:                            OLS   Adj. R-squared:                  0.001\n",
      "Method:                 Least Squares   F-statistic:                     2.301\n",
      "Date:                Thu, 20 May 2021   Prob (F-statistic):              0.129\n",
      "Time:                        07:58:03   Log-Likelihood:                -516.47\n",
      "No. Observations:                2000   AIC:                             1037.\n",
      "Df Residuals:                    1998   BIC:                             1048.\n",
      "Df Model:                           1                                         \n",
      "Covariance Type:            nonrobust                                         \n",
      "==============================================================================\n",
      "                 coef    std err          t      P>|t|      [0.025      0.975]\n",
      "------------------------------------------------------------------------------\n",
      "const          0.3426      0.010     34.563      0.000       0.323       0.362\n",
      "group          0.0213      0.014      1.517      0.129      -0.006       0.049\n",
      "==============================================================================\n",
      "Omnibus:                      238.344   Durbin-Watson:                   1.983\n",
      "Prob(Omnibus):                  0.000   Jarque-Bera (JB):              322.770\n",
      "Skew:                           0.974   Prob(JB):                     8.16e-71\n",
      "Kurtosis:                       2.716   Cond. No.                         2.62\n",
      "==============================================================================\n",
      "\n",
      "Notes:\n",
      "[1] Standard Errors assume that the covariance matrix of the errors is correctly specified.\n"
     ]
    }
   ],
   "source": [
    "X = df3[['group']]\n",
    "y = df3['D']\n",
    "X2 = sm.add_constant(X)\n",
    "est = sm.OLS(y, X2)\n",
    "est2 = est.fit()\n",
    "print(est2.summary())"
   ]
  },
  {
   "cell_type": "code",
   "execution_count": 73,
   "id": "improving-latin",
   "metadata": {},
   "outputs": [
    {
     "name": "stdout",
     "output_type": "stream",
     "text": [
      "                            OLS Regression Results                            \n",
      "==============================================================================\n",
      "Dep. Variable:                      E   R-squared:                       0.001\n",
      "Model:                            OLS   Adj. R-squared:                  0.001\n",
      "Method:                 Least Squares   F-statistic:                     2.231\n",
      "Date:                Thu, 20 May 2021   Prob (F-statistic):              0.135\n",
      "Time:                        07:58:17   Log-Likelihood:                -550.19\n",
      "No. Observations:                2000   AIC:                             1104.\n",
      "Df Residuals:                    1998   BIC:                             1116.\n",
      "Df Model:                           1                                         \n",
      "Covariance Type:            nonrobust                                         \n",
      "==============================================================================\n",
      "                 coef    std err          t      P>|t|      [0.025      0.975]\n",
      "------------------------------------------------------------------------------\n",
      "const          0.4363      0.010     43.281      0.000       0.417       0.456\n",
      "group         -0.0213      0.014     -1.494      0.135      -0.049       0.007\n",
      "==============================================================================\n",
      "Omnibus:                      400.830   Durbin-Watson:                   1.986\n",
      "Prob(Omnibus):                  0.000   Jarque-Bera (JB):              102.386\n",
      "Skew:                           0.269   Prob(JB):                     5.85e-23\n",
      "Kurtosis:                       2.031   Cond. No.                         2.62\n",
      "==============================================================================\n",
      "\n",
      "Notes:\n",
      "[1] Standard Errors assume that the covariance matrix of the errors is correctly specified.\n"
     ]
    }
   ],
   "source": [
    "X = df3[['group']]\n",
    "y = df3['E']\n",
    "X2 = sm.add_constant(X)\n",
    "est = sm.OLS(y, X2)\n",
    "est2 = est.fit()\n",
    "print(est2.summary())"
   ]
  },
  {
   "cell_type": "markdown",
   "id": "increasing-consciousness",
   "metadata": {},
   "source": [
    "#### From the above we can conclude that gender affects A, B which caused our risk_score to be biased"
   ]
  }
 ],
 "metadata": {
  "kernelspec": {
   "display_name": "Python 3",
   "language": "python",
   "name": "python3"
  },
  "language_info": {
   "codemirror_mode": {
    "name": "ipython",
    "version": 3
   },
   "file_extension": ".py",
   "mimetype": "text/x-python",
   "name": "python",
   "nbconvert_exporter": "python",
   "pygments_lexer": "ipython3",
   "version": "3.8.8"
  }
 },
 "nbformat": 4,
 "nbformat_minor": 5
}
