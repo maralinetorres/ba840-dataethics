{
 "cells": [
  {
   "cell_type": "code",
   "execution_count": 15,
   "metadata": {},
   "outputs": [],
   "source": [
    "#FIRST STEP: DOWNLOAD THE DATA!\n",
    "#https://web.archive.org/web/20090926031123/http://archive.ics.uci.edu/ml/machine-learning-databases/netflix\n",
    "#download the nf_prize_dataset.tar.gz\n",
    "\n",
    "#SECOND: unpack the archive\n",
    "\n",
    "#AFTER THAT, then you can run the following:  \n",
    "import os\n",
    "import pandas as pd\n",
    "\n",
    "#edit the following line to point to the training_set folder on your computer\n",
    "#that you just made in the \"SECOND\" step, above\n",
    "os.chdir('/Users/maralinetorres/Desktop/data/download/training_set')\n",
    "ratingFiles = os.listdir()\n"
   ]
  },
  {
   "cell_type": "code",
   "execution_count": 17,
   "metadata": {},
   "outputs": [
    {
     "data": {
      "text/plain": [
       "'mv_0007405.txt'"
      ]
     },
     "execution_count": 17,
     "metadata": {},
     "output_type": "execute_result"
    }
   ],
   "source": [
    "ratingFiles[-1]"
   ]
  },
  {
   "cell_type": "code",
   "execution_count": 12,
   "metadata": {},
   "outputs": [],
   "source": [
    "#look up a movie that you watched and find its number in the file containing movie names.  \n",
    "#Insert the number below:\n",
    "\n",
    "#12338,2004,Harry Potter and the Prisoner of Azkaban\n",
    "#movieID = 471\n",
    "movieID = 12338\n",
    "\n",
    "#enter your rating (1, 2, 3, 4, or 5 stars)\n",
    "rat= 5"
   ]
  },
  {
   "cell_type": "code",
   "execution_count": 19,
   "metadata": {},
   "outputs": [
    {
     "data": {
      "text/plain": [
       "12"
      ]
     },
     "execution_count": 19,
     "metadata": {},
     "output_type": "execute_result"
    }
   ],
   "source": [
    "#first movie you watched\n",
    "usersWhoRatedFocalMovie = pd.read_csv(ratingFiles[movieID-1], sep=',', skiprows=1, names=['user','rating','date'])\n",
    "considerationSet = list(usersWhoRatedFocalMovie.user.loc[usersWhoRatedFocalMovie['rating'] ==rat ])\n",
    "\n",
    "#there are 480189 users in the data set.  \n",
    "#how many of them rated my movie the same as I did?\n",
    "len(considerationSet)"
   ]
  },
  {
   "cell_type": "code",
   "execution_count": 28,
   "metadata": {},
   "outputs": [
    {
     "data": {
      "text/plain": [
       "17"
      ]
     },
     "execution_count": 28,
     "metadata": {},
     "output_type": "execute_result"
    }
   ],
   "source": [
    "#for subsequent movies, copy and paste the next cell, inserting a new number for each additional movie you \n",
    "#watched, as well as a rating:\n",
    "#10820,1985,Back to the Future\n",
    "movieID = 10820\n",
    "rat = 5\n",
    "#first movie you watched\n",
    "usersWhoRatedFocalMovie = pd.read_csv(ratingFiles[movieID-1], sep=',', skiprows=1, names=['user','rating','date'])\n",
    "considerationSet = list(usersWhoRatedFocalMovie.user.loc[usersWhoRatedFocalMovie['rating'] ==rat ])\n",
    "\n",
    "#there are 480189 users in the data set.  \n",
    "#how many of them rated my movie the same as I did?\n",
    "len(considerationSet)"
   ]
  },
  {
   "cell_type": "code",
   "execution_count": 32,
   "metadata": {},
   "outputs": [
    {
     "data": {
      "text/plain": [
       "0"
      ]
     },
     "execution_count": 32,
     "metadata": {},
     "output_type": "execute_result"
    }
   ],
   "source": [
    "#look up movie name and find its number.  Insert the number below:\n",
    "movieID = 10921 #Just Married\n",
    "#enter your rating below\n",
    "rat = 3\n",
    "\n",
    "#load the file\n",
    "usersWhoRatedFocalMovie = pd.read_csv(ratingFiles[movieID-1], sep=',', skiprows=1, names=['user','rating','date'])\n",
    "#find the intersection of the existing considerationSet and the people who have rated this movie\n",
    "considerationSet = list(set(considerationSet) & set(list(usersWhoRatedFocalMovie.user.loc[usersWhoRatedFocalMovie['rating'] ==rat ]))) \n",
    "\n",
    "                        #\n",
    "#How many users are there in the data that have the same pair of ratings as you?    \n",
    "len(considerationSet)"
   ]
  },
  {
   "cell_type": "code",
   "execution_count": 81,
   "metadata": {},
   "outputs": [
    {
     "data": {
      "text/plain": [
       "15"
      ]
     },
     "execution_count": 81,
     "metadata": {},
     "output_type": "execute_result"
    }
   ],
   "source": [
    "#look up movie name and find its number.  Insert the number below:\n",
    "movieID = 16175\n",
    "#enter your rating below\n",
    "rat = 5\n",
    "\n",
    "#load the file\n",
    "usersWhoRatedFocalMovie = pd.read_csv(ratingFiles[movieID-1], sep=',', skiprows=1, names=['user','rating','date'])\n",
    "#find the intersection of the existing considerationSet and the people who have rated this movie\n",
    "considerationSet = list(set(considerationSet) & set(list(usersWhoRatedFocalMovie.user.loc[usersWhoRatedFocalMovie['rating'] ==rat ]))) \n",
    "\n",
    "                        #\n",
    "len(considerationSet)"
   ]
  },
  {
   "cell_type": "code",
   "execution_count": 82,
   "metadata": {},
   "outputs": [
    {
     "data": {
      "text/plain": [
       "2"
      ]
     },
     "execution_count": 82,
     "metadata": {},
     "output_type": "execute_result"
    }
   ],
   "source": [
    "#look up movie name and find its number.  Insert the number below:\n",
    "movieID = 5939\n",
    "#enter your rating below\n",
    "rat = 1\n",
    "\n",
    "#load the file\n",
    "usersWhoRatedFocalMovie = pd.read_csv(ratingFiles[movieID-1], sep=',', skiprows=1, names=['user','rating','date'])\n",
    "#find the intersection of the existing considerationSet and the people who have rated this movie\n",
    "considerationSet = list(set(considerationSet) & set(list(usersWhoRatedFocalMovie.user.loc[usersWhoRatedFocalMovie['rating'] ==rat ]))) \n",
    "\n",
    "                        #\n",
    "len(considerationSet)"
   ]
  },
  {
   "cell_type": "code",
   "execution_count": 83,
   "metadata": {},
   "outputs": [
    {
     "data": {
      "text/plain": [
       "0"
      ]
     },
     "execution_count": 83,
     "metadata": {},
     "output_type": "execute_result"
    }
   ],
   "source": [
    "#look up movie name and find its number.  Insert the number below:\n",
    "movieID = 2015\n",
    "#enter your rating below\n",
    "rat = 5\n",
    "\n",
    "#load the file\n",
    "usersWhoRatedFocalMovie = pd.read_csv(ratingFiles[movieID-1], sep=',', skiprows=1, names=['user','rating','date'])\n",
    "#find the intersection of the existing considerationSet and the people who have rated this movie\n",
    "considerationSet = list(set(considerationSet) & set(list(usersWhoRatedFocalMovie.user.loc[usersWhoRatedFocalMovie['rating'] ==rat ]))) \n",
    "\n",
    "                        #\n",
    "len(considerationSet)"
   ]
  }
 ],
 "metadata": {
  "kernelspec": {
   "display_name": "Python 3",
   "language": "python",
   "name": "python3"
  },
  "language_info": {
   "codemirror_mode": {
    "name": "ipython",
    "version": 3
   },
   "file_extension": ".py",
   "mimetype": "text/x-python",
   "name": "python",
   "nbconvert_exporter": "python",
   "pygments_lexer": "ipython3",
   "version": "3.8.8"
  }
 },
 "nbformat": 4,
 "nbformat_minor": 4
}
