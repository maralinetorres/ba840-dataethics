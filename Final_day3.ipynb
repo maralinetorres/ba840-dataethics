{
 "cells": [
  {
   "cell_type": "markdown",
   "id": "skilled-ready",
   "metadata": {},
   "source": [
    "Group members: Amber Wu, Maraline Torres, Shamika Kalwe, Xuanqi Liang"
   ]
  },
  {
   "cell_type": "code",
   "execution_count": 1,
   "id": "artistic-princeton",
   "metadata": {},
   "outputs": [],
   "source": [
    "import pandas as pd\n",
    "from sklearn.linear_model import LinearRegression, LogisticRegression\n",
    "from sklearn.model_selection import train_test_split\n",
    "from sklearn.metrics import r2_score , mean_squared_error, confusion_matrix\n",
    "import statsmodels.api as sm\n",
    "import seaborn as sns\n",
    "import matplotlib.pyplot as plt"
   ]
  },
  {
   "cell_type": "code",
   "execution_count": 2,
   "id": "honey-sudan",
   "metadata": {},
   "outputs": [],
   "source": [
    "df = pd.read_csv('hiringData.csv')"
   ]
  },
  {
   "cell_type": "code",
   "execution_count": 3,
   "id": "fuzzy-commission",
   "metadata": {},
   "outputs": [
    {
     "name": "stdout",
     "output_type": "stream",
     "text": [
      "<class 'pandas.core.frame.DataFrame'>\n",
      "RangeIndex: 2000 entries, 0 to 1999\n",
      "Data columns (total 8 columns):\n",
      " #   Column      Non-Null Count  Dtype  \n",
      "---  ------      --------------  -----  \n",
      " 0   Unnamed: 0  2000 non-null   int64  \n",
      " 1   group       2000 non-null   object \n",
      " 2   A           2000 non-null   float64\n",
      " 3   B           2000 non-null   float64\n",
      " 4   C           2000 non-null   float64\n",
      " 5   D           2000 non-null   float64\n",
      " 6   E           2000 non-null   float64\n",
      " 7   hired       2000 non-null   int64  \n",
      "dtypes: float64(5), int64(2), object(1)\n",
      "memory usage: 125.1+ KB\n"
     ]
    }
   ],
   "source": [
    "df.info()"
   ]
  },
  {
   "cell_type": "code",
   "execution_count": 4,
   "id": "spare-senate",
   "metadata": {},
   "outputs": [
    {
     "data": {
      "text/html": [
       "<div>\n",
       "<style scoped>\n",
       "    .dataframe tbody tr th:only-of-type {\n",
       "        vertical-align: middle;\n",
       "    }\n",
       "\n",
       "    .dataframe tbody tr th {\n",
       "        vertical-align: top;\n",
       "    }\n",
       "\n",
       "    .dataframe thead th {\n",
       "        text-align: right;\n",
       "    }\n",
       "</style>\n",
       "<table border=\"1\" class=\"dataframe\">\n",
       "  <thead>\n",
       "    <tr style=\"text-align: right;\">\n",
       "      <th></th>\n",
       "      <th>Unnamed: 0</th>\n",
       "      <th>group</th>\n",
       "      <th>A</th>\n",
       "      <th>B</th>\n",
       "      <th>C</th>\n",
       "      <th>D</th>\n",
       "      <th>E</th>\n",
       "      <th>hired</th>\n",
       "    </tr>\n",
       "  </thead>\n",
       "  <tbody>\n",
       "    <tr>\n",
       "      <th>0</th>\n",
       "      <td>126</td>\n",
       "      <td>male</td>\n",
       "      <td>0.056369</td>\n",
       "      <td>0.0</td>\n",
       "      <td>1.000000</td>\n",
       "      <td>0.347826</td>\n",
       "      <td>0.406201</td>\n",
       "      <td>1</td>\n",
       "    </tr>\n",
       "    <tr>\n",
       "      <th>1</th>\n",
       "      <td>1353</td>\n",
       "      <td>female</td>\n",
       "      <td>0.056369</td>\n",
       "      <td>0.0</td>\n",
       "      <td>1.000000</td>\n",
       "      <td>0.347826</td>\n",
       "      <td>0.406201</td>\n",
       "      <td>0</td>\n",
       "    </tr>\n",
       "    <tr>\n",
       "      <th>2</th>\n",
       "      <td>83</td>\n",
       "      <td>male</td>\n",
       "      <td>1.000000</td>\n",
       "      <td>1.0</td>\n",
       "      <td>0.000000</td>\n",
       "      <td>0.260870</td>\n",
       "      <td>0.000000</td>\n",
       "      <td>0</td>\n",
       "    </tr>\n",
       "    <tr>\n",
       "      <th>3</th>\n",
       "      <td>219</td>\n",
       "      <td>male</td>\n",
       "      <td>0.000000</td>\n",
       "      <td>0.0</td>\n",
       "      <td>0.813711</td>\n",
       "      <td>0.086957</td>\n",
       "      <td>1.000000</td>\n",
       "      <td>1</td>\n",
       "    </tr>\n",
       "    <tr>\n",
       "      <th>4</th>\n",
       "      <td>1567</td>\n",
       "      <td>female</td>\n",
       "      <td>0.195270</td>\n",
       "      <td>0.5</td>\n",
       "      <td>0.934376</td>\n",
       "      <td>0.086957</td>\n",
       "      <td>0.477683</td>\n",
       "      <td>0</td>\n",
       "    </tr>\n",
       "  </tbody>\n",
       "</table>\n",
       "</div>"
      ],
      "text/plain": [
       "   Unnamed: 0   group         A    B         C         D         E  hired\n",
       "0         126    male  0.056369  0.0  1.000000  0.347826  0.406201      1\n",
       "1        1353  female  0.056369  0.0  1.000000  0.347826  0.406201      0\n",
       "2          83    male  1.000000  1.0  0.000000  0.260870  0.000000      0\n",
       "3         219    male  0.000000  0.0  0.813711  0.086957  1.000000      1\n",
       "4        1567  female  0.195270  0.5  0.934376  0.086957  0.477683      0"
      ]
     },
     "execution_count": 4,
     "metadata": {},
     "output_type": "execute_result"
    }
   ],
   "source": [
    "df.head()"
   ]
  },
  {
   "cell_type": "code",
   "execution_count": 5,
   "id": "collect-genealogy",
   "metadata": {},
   "outputs": [
    {
     "data": {
      "text/plain": [
       "Unnamed: 0    2000\n",
       "group            2\n",
       "A               10\n",
       "B                3\n",
       "C               10\n",
       "D                9\n",
       "E               10\n",
       "hired            2\n",
       "dtype: int64"
      ]
     },
     "execution_count": 5,
     "metadata": {},
     "output_type": "execute_result"
    }
   ],
   "source": [
    "df.nunique()"
   ]
  },
  {
   "cell_type": "code",
   "execution_count": 6,
   "id": "accepted-hearing",
   "metadata": {},
   "outputs": [
    {
     "data": {
      "text/html": [
       "<div>\n",
       "<style scoped>\n",
       "    .dataframe tbody tr th:only-of-type {\n",
       "        vertical-align: middle;\n",
       "    }\n",
       "\n",
       "    .dataframe tbody tr th {\n",
       "        vertical-align: top;\n",
       "    }\n",
       "\n",
       "    .dataframe thead th {\n",
       "        text-align: right;\n",
       "    }\n",
       "</style>\n",
       "<table border=\"1\" class=\"dataframe\">\n",
       "  <thead>\n",
       "    <tr style=\"text-align: right;\">\n",
       "      <th></th>\n",
       "      <th>group</th>\n",
       "      <th>A</th>\n",
       "      <th>B</th>\n",
       "      <th>C</th>\n",
       "      <th>D</th>\n",
       "      <th>E</th>\n",
       "      <th>hired</th>\n",
       "    </tr>\n",
       "  </thead>\n",
       "  <tbody>\n",
       "    <tr>\n",
       "      <th>0</th>\n",
       "      <td>male</td>\n",
       "      <td>0.056369</td>\n",
       "      <td>0.0</td>\n",
       "      <td>1.000000</td>\n",
       "      <td>0.347826</td>\n",
       "      <td>0.406201</td>\n",
       "      <td>1</td>\n",
       "    </tr>\n",
       "    <tr>\n",
       "      <th>1</th>\n",
       "      <td>female</td>\n",
       "      <td>0.056369</td>\n",
       "      <td>0.0</td>\n",
       "      <td>1.000000</td>\n",
       "      <td>0.347826</td>\n",
       "      <td>0.406201</td>\n",
       "      <td>0</td>\n",
       "    </tr>\n",
       "    <tr>\n",
       "      <th>2</th>\n",
       "      <td>male</td>\n",
       "      <td>1.000000</td>\n",
       "      <td>1.0</td>\n",
       "      <td>0.000000</td>\n",
       "      <td>0.260870</td>\n",
       "      <td>0.000000</td>\n",
       "      <td>0</td>\n",
       "    </tr>\n",
       "    <tr>\n",
       "      <th>3</th>\n",
       "      <td>male</td>\n",
       "      <td>0.000000</td>\n",
       "      <td>0.0</td>\n",
       "      <td>0.813711</td>\n",
       "      <td>0.086957</td>\n",
       "      <td>1.000000</td>\n",
       "      <td>1</td>\n",
       "    </tr>\n",
       "    <tr>\n",
       "      <th>4</th>\n",
       "      <td>female</td>\n",
       "      <td>0.195270</td>\n",
       "      <td>0.5</td>\n",
       "      <td>0.934376</td>\n",
       "      <td>0.086957</td>\n",
       "      <td>0.477683</td>\n",
       "      <td>0</td>\n",
       "    </tr>\n",
       "  </tbody>\n",
       "</table>\n",
       "</div>"
      ],
      "text/plain": [
       "    group         A    B         C         D         E  hired\n",
       "0    male  0.056369  0.0  1.000000  0.347826  0.406201      1\n",
       "1  female  0.056369  0.0  1.000000  0.347826  0.406201      0\n",
       "2    male  1.000000  1.0  0.000000  0.260870  0.000000      0\n",
       "3    male  0.000000  0.0  0.813711  0.086957  1.000000      1\n",
       "4  female  0.195270  0.5  0.934376  0.086957  0.477683      0"
      ]
     },
     "execution_count": 6,
     "metadata": {},
     "output_type": "execute_result"
    }
   ],
   "source": [
    "df.drop('Unnamed: 0', axis=1, inplace=True)\n",
    "df.head()"
   ]
  },
  {
   "cell_type": "code",
   "execution_count": 7,
   "id": "lucky-dublin",
   "metadata": {},
   "outputs": [],
   "source": [
    "df['group'] = df['group'].apply(lambda x : 1 if x == 'female' else 0)"
   ]
  },
  {
   "cell_type": "code",
   "execution_count": 8,
   "id": "preceding-cigarette",
   "metadata": {},
   "outputs": [
    {
     "data": {
      "text/html": [
       "<div>\n",
       "<style scoped>\n",
       "    .dataframe tbody tr th:only-of-type {\n",
       "        vertical-align: middle;\n",
       "    }\n",
       "\n",
       "    .dataframe tbody tr th {\n",
       "        vertical-align: top;\n",
       "    }\n",
       "\n",
       "    .dataframe thead th {\n",
       "        text-align: right;\n",
       "    }\n",
       "</style>\n",
       "<table border=\"1\" class=\"dataframe\">\n",
       "  <thead>\n",
       "    <tr style=\"text-align: right;\">\n",
       "      <th></th>\n",
       "      <th>group</th>\n",
       "      <th>A</th>\n",
       "      <th>B</th>\n",
       "      <th>C</th>\n",
       "      <th>D</th>\n",
       "      <th>E</th>\n",
       "      <th>hired</th>\n",
       "    </tr>\n",
       "  </thead>\n",
       "  <tbody>\n",
       "    <tr>\n",
       "      <th>0</th>\n",
       "      <td>0</td>\n",
       "      <td>0.056369</td>\n",
       "      <td>0.0</td>\n",
       "      <td>1.000000</td>\n",
       "      <td>0.347826</td>\n",
       "      <td>0.406201</td>\n",
       "      <td>1</td>\n",
       "    </tr>\n",
       "    <tr>\n",
       "      <th>1</th>\n",
       "      <td>1</td>\n",
       "      <td>0.056369</td>\n",
       "      <td>0.0</td>\n",
       "      <td>1.000000</td>\n",
       "      <td>0.347826</td>\n",
       "      <td>0.406201</td>\n",
       "      <td>0</td>\n",
       "    </tr>\n",
       "    <tr>\n",
       "      <th>2</th>\n",
       "      <td>0</td>\n",
       "      <td>1.000000</td>\n",
       "      <td>1.0</td>\n",
       "      <td>0.000000</td>\n",
       "      <td>0.260870</td>\n",
       "      <td>0.000000</td>\n",
       "      <td>0</td>\n",
       "    </tr>\n",
       "    <tr>\n",
       "      <th>3</th>\n",
       "      <td>0</td>\n",
       "      <td>0.000000</td>\n",
       "      <td>0.0</td>\n",
       "      <td>0.813711</td>\n",
       "      <td>0.086957</td>\n",
       "      <td>1.000000</td>\n",
       "      <td>1</td>\n",
       "    </tr>\n",
       "    <tr>\n",
       "      <th>4</th>\n",
       "      <td>1</td>\n",
       "      <td>0.195270</td>\n",
       "      <td>0.5</td>\n",
       "      <td>0.934376</td>\n",
       "      <td>0.086957</td>\n",
       "      <td>0.477683</td>\n",
       "      <td>0</td>\n",
       "    </tr>\n",
       "  </tbody>\n",
       "</table>\n",
       "</div>"
      ],
      "text/plain": [
       "   group         A    B         C         D         E  hired\n",
       "0      0  0.056369  0.0  1.000000  0.347826  0.406201      1\n",
       "1      1  0.056369  0.0  1.000000  0.347826  0.406201      0\n",
       "2      0  1.000000  1.0  0.000000  0.260870  0.000000      0\n",
       "3      0  0.000000  0.0  0.813711  0.086957  1.000000      1\n",
       "4      1  0.195270  0.5  0.934376  0.086957  0.477683      0"
      ]
     },
     "execution_count": 8,
     "metadata": {},
     "output_type": "execute_result"
    }
   ],
   "source": [
    "df.head()"
   ]
  },
  {
   "cell_type": "code",
   "execution_count": 9,
   "id": "restricted-wonder",
   "metadata": {},
   "outputs": [],
   "source": [
    "X_train, X_test, y_train, y_test = train_test_split(df.drop('hired', axis=1), df['hired'], test_size=0.2, random_state=0)"
   ]
  },
  {
   "cell_type": "code",
   "execution_count": 10,
   "id": "swedish-parker",
   "metadata": {},
   "outputs": [
    {
     "data": {
      "text/html": [
       "<div>\n",
       "<style scoped>\n",
       "    .dataframe tbody tr th:only-of-type {\n",
       "        vertical-align: middle;\n",
       "    }\n",
       "\n",
       "    .dataframe tbody tr th {\n",
       "        vertical-align: top;\n",
       "    }\n",
       "\n",
       "    .dataframe thead th {\n",
       "        text-align: right;\n",
       "    }\n",
       "</style>\n",
       "<table border=\"1\" class=\"dataframe\">\n",
       "  <thead>\n",
       "    <tr style=\"text-align: right;\">\n",
       "      <th></th>\n",
       "      <th>group</th>\n",
       "      <th>A</th>\n",
       "      <th>B</th>\n",
       "      <th>C</th>\n",
       "      <th>D</th>\n",
       "      <th>E</th>\n",
       "    </tr>\n",
       "  </thead>\n",
       "  <tbody>\n",
       "    <tr>\n",
       "      <th>582</th>\n",
       "      <td>1</td>\n",
       "      <td>0.355261</td>\n",
       "      <td>0.0</td>\n",
       "      <td>0.770183</td>\n",
       "      <td>0.565217</td>\n",
       "      <td>0.074623</td>\n",
       "    </tr>\n",
       "    <tr>\n",
       "      <th>159</th>\n",
       "      <td>0</td>\n",
       "      <td>0.355261</td>\n",
       "      <td>0.0</td>\n",
       "      <td>0.770183</td>\n",
       "      <td>0.565217</td>\n",
       "      <td>0.074623</td>\n",
       "    </tr>\n",
       "    <tr>\n",
       "      <th>1827</th>\n",
       "      <td>1</td>\n",
       "      <td>0.000000</td>\n",
       "      <td>0.0</td>\n",
       "      <td>0.813711</td>\n",
       "      <td>0.086957</td>\n",
       "      <td>1.000000</td>\n",
       "    </tr>\n",
       "    <tr>\n",
       "      <th>318</th>\n",
       "      <td>1</td>\n",
       "      <td>0.104900</td>\n",
       "      <td>0.5</td>\n",
       "      <td>0.484753</td>\n",
       "      <td>0.130435</td>\n",
       "      <td>0.775994</td>\n",
       "    </tr>\n",
       "    <tr>\n",
       "      <th>708</th>\n",
       "      <td>1</td>\n",
       "      <td>0.056369</td>\n",
       "      <td>0.0</td>\n",
       "      <td>1.000000</td>\n",
       "      <td>0.347826</td>\n",
       "      <td>0.406201</td>\n",
       "    </tr>\n",
       "  </tbody>\n",
       "</table>\n",
       "</div>"
      ],
      "text/plain": [
       "      group         A    B         C         D         E\n",
       "582       1  0.355261  0.0  0.770183  0.565217  0.074623\n",
       "159       0  0.355261  0.0  0.770183  0.565217  0.074623\n",
       "1827      1  0.000000  0.0  0.813711  0.086957  1.000000\n",
       "318       1  0.104900  0.5  0.484753  0.130435  0.775994\n",
       "708       1  0.056369  0.0  1.000000  0.347826  0.406201"
      ]
     },
     "execution_count": 10,
     "metadata": {},
     "output_type": "execute_result"
    }
   ],
   "source": [
    "X_train.head()"
   ]
  },
  {
   "cell_type": "markdown",
   "id": "forty-rings",
   "metadata": {},
   "source": [
    "### Linear Regression using A, B, C, D, E as predictors"
   ]
  },
  {
   "cell_type": "code",
   "execution_count": 11,
   "id": "marked-reverse",
   "metadata": {},
   "outputs": [
    {
     "name": "stdout",
     "output_type": "stream",
     "text": [
      "Coefficeints: [ 0.7994783  -0.46244255  0.15988539  0.34557552  0.52045821]\n",
      "r2_score: 0.26866278886281625\n",
      "mean_squared_error: 0.17723500226152689\n"
     ]
    }
   ],
   "source": [
    "model = LinearRegression()\n",
    "model.fit(X_train.drop('group', axis=1), y_train)\n",
    "y_pred = model.predict(X_test.drop('group', axis=1))\n",
    "\n",
    "print(f'Coefficeints: {model.coef_}')\n",
    "print(f'r2_score: {r2_score(y_test, y_pred)}')\n",
    "print(f'mean_squared_error: {mean_squared_error(y_test, y_pred)}')"
   ]
  },
  {
   "cell_type": "code",
   "execution_count": 12,
   "id": "passing-burton",
   "metadata": {},
   "outputs": [
    {
     "name": "stdout",
     "output_type": "stream",
     "text": [
      "                            OLS Regression Results                            \n",
      "==============================================================================\n",
      "Dep. Variable:                  hired   R-squared:                       0.269\n",
      "Model:                            OLS   Adj. R-squared:                  0.267\n",
      "Method:                 Least Squares   F-statistic:                     117.5\n",
      "Date:                Thu, 20 May 2021   Prob (F-statistic):          6.44e-106\n",
      "Time:                        07:43:37   Log-Likelihood:                -871.57\n",
      "No. Observations:                1600   AIC:                             1755.\n",
      "Df Residuals:                    1594   BIC:                             1787.\n",
      "Df Model:                           5                                         \n",
      "Covariance Type:            nonrobust                                         \n",
      "==============================================================================\n",
      "                 coef    std err          t      P>|t|      [0.025      0.975]\n",
      "------------------------------------------------------------------------------\n",
      "const         -0.2372      0.036     -6.522      0.000      -0.308      -0.166\n",
      "A              0.7995      0.044     18.207      0.000       0.713       0.886\n",
      "B             -0.4624      0.035    -13.219      0.000      -0.531      -0.394\n",
      "C              0.1599      0.042      3.808      0.000       0.078       0.242\n",
      "D              0.3456      0.037      9.383      0.000       0.273       0.418\n",
      "E              0.5205      0.047     11.008      0.000       0.428       0.613\n",
      "==============================================================================\n",
      "Omnibus:                      222.177   Durbin-Watson:                   2.059\n",
      "Prob(Omnibus):                  0.000   Jarque-Bera (JB):              139.276\n",
      "Skew:                           0.598   Prob(JB):                     5.71e-31\n",
      "Kurtosis:                       2.189   Cond. No.                         8.38\n",
      "==============================================================================\n",
      "\n",
      "Notes:\n",
      "[1] Standard Errors assume that the covariance matrix of the errors is correctly specified.\n"
     ]
    }
   ],
   "source": [
    "X = X_train.drop('group', axis=1)\n",
    "y = y_train\n",
    "X2 = sm.add_constant(X)\n",
    "est = sm.OLS(y, X2)\n",
    "est2 = est.fit()\n",
    "print(est2.summary())"
   ]
  },
  {
   "cell_type": "markdown",
   "id": "corrected-spoke",
   "metadata": {},
   "source": [
    "### Linear Regression using A, B, C, D, E and group as predictors"
   ]
  },
  {
   "cell_type": "code",
   "execution_count": 13,
   "id": "convinced-adams",
   "metadata": {},
   "outputs": [
    {
     "name": "stdout",
     "output_type": "stream",
     "text": [
      "Coefficeints: [ 0.02250163  0.80565059 -0.47664166  0.15712464  0.34304165  0.52051166]\n",
      "r2_score: 0.2703253865861287\n",
      "mean_squared_error: 0.17683208209451787\n"
     ]
    }
   ],
   "source": [
    "model = LinearRegression()\n",
    "model.fit(X_train, y_train)\n",
    "y_pred = model.predict(X_test)\n",
    "\n",
    "print(f'Coefficeints: {model.coef_}')\n",
    "print(f'r2_score: {r2_score(y_test, y_pred)}')\n",
    "print(f'mean_squared_error: {mean_squared_error(y_test, y_pred)}')"
   ]
  },
  {
   "cell_type": "code",
   "execution_count": 14,
   "id": "colored-garlic",
   "metadata": {},
   "outputs": [
    {
     "name": "stdout",
     "output_type": "stream",
     "text": [
      "                            OLS Regression Results                            \n",
      "==============================================================================\n",
      "Dep. Variable:                  hired   R-squared:                       0.270\n",
      "Model:                            OLS   Adj. R-squared:                  0.267\n",
      "Method:                 Least Squares   F-statistic:                     98.04\n",
      "Date:                Thu, 20 May 2021   Prob (F-statistic):          4.55e-105\n",
      "Time:                        07:43:37   Log-Likelihood:                -871.08\n",
      "No. Observations:                1600   AIC:                             1756.\n",
      "Df Residuals:                    1593   BIC:                             1794.\n",
      "Df Model:                           6                                         \n",
      "Covariance Type:            nonrobust                                         \n",
      "==============================================================================\n",
      "                 coef    std err          t      P>|t|      [0.025      0.975]\n",
      "------------------------------------------------------------------------------\n",
      "const         -0.2437      0.037     -6.592      0.000      -0.316      -0.171\n",
      "group          0.0225      0.023      0.983      0.326      -0.022       0.067\n",
      "A              0.8057      0.044     18.163      0.000       0.719       0.893\n",
      "B             -0.4766      0.038    -12.593      0.000      -0.551      -0.402\n",
      "C              0.1571      0.042      3.734      0.000       0.075       0.240\n",
      "D              0.3430      0.037      9.291      0.000       0.271       0.415\n",
      "E              0.5205      0.047     11.009      0.000       0.428       0.613\n",
      "==============================================================================\n",
      "Omnibus:                      221.508   Durbin-Watson:                   2.062\n",
      "Prob(Omnibus):                  0.000   Jarque-Bera (JB):              138.614\n",
      "Skew:                           0.596   Prob(JB):                     7.95e-31\n",
      "Kurtosis:                       2.189   Cond. No.                         9.03\n",
      "==============================================================================\n",
      "\n",
      "Notes:\n",
      "[1] Standard Errors assume that the covariance matrix of the errors is correctly specified.\n"
     ]
    }
   ],
   "source": [
    "X = X_train\n",
    "y = y_train\n",
    "X2 = sm.add_constant(X)\n",
    "est = sm.OLS(y, X2)\n",
    "est2 = est.fit()\n",
    "print(est2.summary())"
   ]
  },
  {
   "cell_type": "markdown",
   "id": "material-hospital",
   "metadata": {},
   "source": [
    "### We see that the p-value for the group variable is high and thus it is not statistically significant.\n",
    "### Thus we conclude that our models is not biased"
   ]
  },
  {
   "cell_type": "markdown",
   "id": "accomplished-helen",
   "metadata": {},
   "source": [
    "### Logistic Regression using A, B, C, D, E as predictors"
   ]
  },
  {
   "cell_type": "code",
   "execution_count": 15,
   "id": "judicial-zambia",
   "metadata": {},
   "outputs": [
    {
     "name": "stdout",
     "output_type": "stream",
     "text": [
      "Coefficeints: [[ 4.06235507 -2.49659152  0.84991274  1.55722626  2.38792551]]\n",
      "r2_score: -0.19664732430689869\n",
      "mean_squared_error: 0.29\n",
      "Confusion Matrix (tn, fp): [0.5725 0.015 ]\n",
      "Confusion Matrix (fn, tp): [0.275  0.1375]\n"
     ]
    }
   ],
   "source": [
    "model = LogisticRegression()\n",
    "model.fit(X_train.drop('group', axis=1), y_train)\n",
    "y_pred = model.predict(X_test.drop('group', axis=1))\n",
    "\n",
    "print(f'Coefficeints: {model.coef_}')\n",
    "print(f'r2_score: {r2_score(y_test, y_pred)}')\n",
    "print(f'mean_squared_error: {mean_squared_error(y_test, y_pred)}')\n",
    "print(f'Confusion Matrix (tn, fp): {confusion_matrix(y_test, y_pred, normalize=\"all\")[0]}')\n",
    "print(f'Confusion Matrix (fn, tp): {confusion_matrix(y_test, y_pred, normalize=\"all\")[1]}')"
   ]
  },
  {
   "cell_type": "markdown",
   "id": "historical-console",
   "metadata": {},
   "source": [
    "### Logistic Regression using A, B, C, D, E and group as predictors"
   ]
  },
  {
   "cell_type": "code",
   "execution_count": 16,
   "id": "gentle-column",
   "metadata": {},
   "outputs": [
    {
     "name": "stdout",
     "output_type": "stream",
     "text": [
      "Coefficeints: [[ 0.09451805  4.08306824 -2.55325222  0.82748114  1.55252562  2.39519354]]\n",
      "r2_score: -0.19664732430689869\n",
      "mean_squared_error: 0.29\n",
      "Confusion Matrix (tn, fp): [0.5725 0.015 ]\n",
      "Confusion Matrix (fn, tp): [0.275  0.1375]\n"
     ]
    }
   ],
   "source": [
    "model = LogisticRegression()\n",
    "model.fit(X_train, y_train)\n",
    "y_pred_g = model.predict(X_test)\n",
    "\n",
    "print(f'Coefficeints: {model.coef_}')\n",
    "print(f'r2_score: {r2_score(y_test, y_pred_g)}')\n",
    "print(f'mean_squared_error: {mean_squared_error(y_test, y_pred_g)}')\n",
    "print(f'Confusion Matrix (tn, fp): {confusion_matrix(y_test, y_pred_g, normalize=\"all\")[0]}')\n",
    "print(f'Confusion Matrix (fn, tp): {confusion_matrix(y_test, y_pred_g, normalize=\"all\")[1]}')"
   ]
  },
  {
   "cell_type": "code",
   "execution_count": 17,
   "id": "comparative-hurricane",
   "metadata": {},
   "outputs": [
    {
     "data": {
      "text/plain": [
       "array([0, 0, 0, 1, 0, 0, 0, 0, 0, 0, 0, 0, 0, 0, 0, 0, 0, 0, 0, 0, 1, 0,\n",
       "       1, 0, 0, 0, 0, 0, 0, 1, 0, 0, 0, 1, 0, 0, 0, 0, 0, 0, 0, 0, 0, 0,\n",
       "       1, 0, 0, 0, 0, 1, 0, 0, 0, 0, 0, 0, 0, 0, 1, 1, 0, 0, 1, 0, 0, 0,\n",
       "       0, 0, 0, 0, 0, 0, 0, 0, 0, 0, 0, 1, 0, 1, 0, 0, 0, 0, 1, 0, 1, 0,\n",
       "       1, 0, 0, 0, 0, 0, 0, 0, 0, 0, 0, 0, 0, 0, 0, 0, 1, 0, 0, 0, 0, 0,\n",
       "       0, 0, 0, 0, 0, 0, 0, 0, 0, 0, 0, 0, 0, 0, 0, 0, 0, 0, 0, 0, 0, 0,\n",
       "       0, 0, 0, 0, 0, 1, 0, 0, 0, 0, 0, 0, 0, 0, 0, 0, 0, 0, 0, 0, 0, 0,\n",
       "       0, 0, 0, 1, 0, 0, 0, 0, 1, 0, 0, 0, 0, 1, 1, 1, 0, 0, 0, 0, 0, 0,\n",
       "       1, 0, 0, 0, 0, 0, 1, 0, 0, 0, 0, 0, 0, 1, 0, 0, 1, 1, 1, 1, 0, 0,\n",
       "       1, 0, 0, 0, 1, 0, 0, 0, 0, 0, 0, 0, 1, 0, 0, 0, 0, 0, 0, 0, 0, 0,\n",
       "       0, 0, 0, 1, 0, 0, 0, 0, 0, 0, 1, 0, 1, 0, 0, 0, 0, 1, 0, 1, 1, 1,\n",
       "       1, 0, 1, 0, 0, 1, 0, 0, 0, 1, 1, 0, 0, 1, 0, 0, 0, 0, 0, 1, 0, 0,\n",
       "       0, 0, 0, 0, 0, 0, 0, 0, 0, 1, 0, 0, 0, 0, 0, 0, 0, 0, 0, 1, 0, 1,\n",
       "       0, 0, 0, 0, 0, 0, 0, 0, 0, 1, 0, 1, 0, 0, 0, 0, 0, 0, 0, 0, 0, 0,\n",
       "       1, 0, 0, 1, 0, 0, 1, 1, 0, 0, 0, 0, 0, 0, 0, 0, 0, 0, 0, 1, 0, 0,\n",
       "       0, 0, 0, 0, 0, 0, 0, 0, 0, 1, 0, 1, 0, 0, 0, 0, 0, 0, 0, 0, 0, 0,\n",
       "       0, 0, 0, 0, 0, 1, 0, 0, 0, 0, 0, 0, 0, 0, 0, 0, 0, 0, 0, 0, 0, 0,\n",
       "       0, 1, 1, 0, 0, 0, 0, 0, 0, 0, 0, 0, 0, 0, 0, 0, 0, 0, 0, 0, 0, 0,\n",
       "       0, 0, 0, 0])"
      ]
     },
     "execution_count": 17,
     "metadata": {},
     "output_type": "execute_result"
    }
   ],
   "source": [
    "y_pred_g"
   ]
  },
  {
   "cell_type": "markdown",
   "id": "authentic-weekly",
   "metadata": {},
   "source": [
    "New data"
   ]
  },
  {
   "cell_type": "code",
   "execution_count": 18,
   "id": "quiet-venture",
   "metadata": {},
   "outputs": [],
   "source": [
    "df_lw = pd.read_csv('hiringDataWLatentVariable.csv')"
   ]
  },
  {
   "cell_type": "code",
   "execution_count": 19,
   "id": "alive-projector",
   "metadata": {},
   "outputs": [
    {
     "name": "stdout",
     "output_type": "stream",
     "text": [
      "<class 'pandas.core.frame.DataFrame'>\n",
      "RangeIndex: 2000 entries, 0 to 1999\n",
      "Data columns (total 9 columns):\n",
      " #   Column      Non-Null Count  Dtype  \n",
      "---  ------      --------------  -----  \n",
      " 0   Unnamed: 0  2000 non-null   int64  \n",
      " 1   group       2000 non-null   object \n",
      " 2   A           2000 non-null   float64\n",
      " 3   B           2000 non-null   float64\n",
      " 4   C           2000 non-null   float64\n",
      " 5   D           2000 non-null   float64\n",
      " 6   E           2000 non-null   float64\n",
      " 7   hired       2000 non-null   int64  \n",
      " 8   quality     2000 non-null   float64\n",
      "dtypes: float64(6), int64(2), object(1)\n",
      "memory usage: 140.8+ KB\n"
     ]
    }
   ],
   "source": [
    "df_lw.info()"
   ]
  },
  {
   "cell_type": "code",
   "execution_count": 20,
   "id": "specified-shoot",
   "metadata": {},
   "outputs": [
    {
     "data": {
      "text/html": [
       "<div>\n",
       "<style scoped>\n",
       "    .dataframe tbody tr th:only-of-type {\n",
       "        vertical-align: middle;\n",
       "    }\n",
       "\n",
       "    .dataframe tbody tr th {\n",
       "        vertical-align: top;\n",
       "    }\n",
       "\n",
       "    .dataframe thead th {\n",
       "        text-align: right;\n",
       "    }\n",
       "</style>\n",
       "<table border=\"1\" class=\"dataframe\">\n",
       "  <thead>\n",
       "    <tr style=\"text-align: right;\">\n",
       "      <th></th>\n",
       "      <th>group</th>\n",
       "      <th>A</th>\n",
       "      <th>B</th>\n",
       "      <th>C</th>\n",
       "      <th>D</th>\n",
       "      <th>E</th>\n",
       "      <th>hired</th>\n",
       "      <th>quality</th>\n",
       "    </tr>\n",
       "  </thead>\n",
       "  <tbody>\n",
       "    <tr>\n",
       "      <th>0</th>\n",
       "      <td>0</td>\n",
       "      <td>0.056369</td>\n",
       "      <td>0.0</td>\n",
       "      <td>1.000000</td>\n",
       "      <td>0.347826</td>\n",
       "      <td>0.406201</td>\n",
       "      <td>1</td>\n",
       "      <td>0.165853</td>\n",
       "    </tr>\n",
       "    <tr>\n",
       "      <th>1</th>\n",
       "      <td>1</td>\n",
       "      <td>0.056369</td>\n",
       "      <td>0.0</td>\n",
       "      <td>1.000000</td>\n",
       "      <td>0.347826</td>\n",
       "      <td>0.406201</td>\n",
       "      <td>0</td>\n",
       "      <td>0.165752</td>\n",
       "    </tr>\n",
       "    <tr>\n",
       "      <th>2</th>\n",
       "      <td>0</td>\n",
       "      <td>1.000000</td>\n",
       "      <td>1.0</td>\n",
       "      <td>0.000000</td>\n",
       "      <td>0.260870</td>\n",
       "      <td>0.000000</td>\n",
       "      <td>0</td>\n",
       "      <td>0.608314</td>\n",
       "    </tr>\n",
       "    <tr>\n",
       "      <th>3</th>\n",
       "      <td>0</td>\n",
       "      <td>0.000000</td>\n",
       "      <td>0.0</td>\n",
       "      <td>0.813711</td>\n",
       "      <td>0.086957</td>\n",
       "      <td>1.000000</td>\n",
       "      <td>1</td>\n",
       "      <td>0.455447</td>\n",
       "    </tr>\n",
       "    <tr>\n",
       "      <th>4</th>\n",
       "      <td>1</td>\n",
       "      <td>0.195270</td>\n",
       "      <td>0.5</td>\n",
       "      <td>0.934376</td>\n",
       "      <td>0.086957</td>\n",
       "      <td>0.477683</td>\n",
       "      <td>0</td>\n",
       "      <td>0.312300</td>\n",
       "    </tr>\n",
       "  </tbody>\n",
       "</table>\n",
       "</div>"
      ],
      "text/plain": [
       "   group         A    B         C         D         E  hired   quality\n",
       "0      0  0.056369  0.0  1.000000  0.347826  0.406201      1  0.165853\n",
       "1      1  0.056369  0.0  1.000000  0.347826  0.406201      0  0.165752\n",
       "2      0  1.000000  1.0  0.000000  0.260870  0.000000      0  0.608314\n",
       "3      0  0.000000  0.0  0.813711  0.086957  1.000000      1  0.455447\n",
       "4      1  0.195270  0.5  0.934376  0.086957  0.477683      0  0.312300"
      ]
     },
     "execution_count": 20,
     "metadata": {},
     "output_type": "execute_result"
    }
   ],
   "source": [
    "df_lw.drop('Unnamed: 0', axis=1, inplace=True)\n",
    "df_lw['group'] = df_lw['group'].apply(lambda x : 1 if x == 'female' else 0)\n",
    "df_lw.head()"
   ]
  },
  {
   "cell_type": "code",
   "execution_count": 21,
   "id": "seasonal-citation",
   "metadata": {},
   "outputs": [],
   "source": [
    "X_train, X_test, y_train, y_test = train_test_split(df_lw.drop('hired', axis=1), df['hired'], test_size=0.2, random_state=0)"
   ]
  },
  {
   "cell_type": "code",
   "execution_count": 22,
   "id": "mature-emergency",
   "metadata": {},
   "outputs": [
    {
     "data": {
      "text/html": [
       "<div>\n",
       "<style scoped>\n",
       "    .dataframe tbody tr th:only-of-type {\n",
       "        vertical-align: middle;\n",
       "    }\n",
       "\n",
       "    .dataframe tbody tr th {\n",
       "        vertical-align: top;\n",
       "    }\n",
       "\n",
       "    .dataframe thead th {\n",
       "        text-align: right;\n",
       "    }\n",
       "</style>\n",
       "<table border=\"1\" class=\"dataframe\">\n",
       "  <thead>\n",
       "    <tr style=\"text-align: right;\">\n",
       "      <th></th>\n",
       "      <th>group</th>\n",
       "      <th>A</th>\n",
       "      <th>B</th>\n",
       "      <th>C</th>\n",
       "      <th>D</th>\n",
       "      <th>E</th>\n",
       "      <th>quality</th>\n",
       "    </tr>\n",
       "  </thead>\n",
       "  <tbody>\n",
       "    <tr>\n",
       "      <th>582</th>\n",
       "      <td>1</td>\n",
       "      <td>0.355261</td>\n",
       "      <td>0.0</td>\n",
       "      <td>0.770183</td>\n",
       "      <td>0.565217</td>\n",
       "      <td>0.074623</td>\n",
       "      <td>0.124097</td>\n",
       "    </tr>\n",
       "    <tr>\n",
       "      <th>159</th>\n",
       "      <td>0</td>\n",
       "      <td>0.355261</td>\n",
       "      <td>0.0</td>\n",
       "      <td>0.770183</td>\n",
       "      <td>0.565217</td>\n",
       "      <td>0.074623</td>\n",
       "      <td>0.121927</td>\n",
       "    </tr>\n",
       "    <tr>\n",
       "      <th>1827</th>\n",
       "      <td>1</td>\n",
       "      <td>0.000000</td>\n",
       "      <td>0.0</td>\n",
       "      <td>0.813711</td>\n",
       "      <td>0.086957</td>\n",
       "      <td>1.000000</td>\n",
       "      <td>0.457618</td>\n",
       "    </tr>\n",
       "    <tr>\n",
       "      <th>318</th>\n",
       "      <td>1</td>\n",
       "      <td>0.104900</td>\n",
       "      <td>0.5</td>\n",
       "      <td>0.484753</td>\n",
       "      <td>0.130435</td>\n",
       "      <td>0.775994</td>\n",
       "      <td>0.179874</td>\n",
       "    </tr>\n",
       "    <tr>\n",
       "      <th>708</th>\n",
       "      <td>1</td>\n",
       "      <td>0.056369</td>\n",
       "      <td>0.0</td>\n",
       "      <td>1.000000</td>\n",
       "      <td>0.347826</td>\n",
       "      <td>0.406201</td>\n",
       "      <td>0.165902</td>\n",
       "    </tr>\n",
       "  </tbody>\n",
       "</table>\n",
       "</div>"
      ],
      "text/plain": [
       "      group         A    B         C         D         E   quality\n",
       "582       1  0.355261  0.0  0.770183  0.565217  0.074623  0.124097\n",
       "159       0  0.355261  0.0  0.770183  0.565217  0.074623  0.121927\n",
       "1827      1  0.000000  0.0  0.813711  0.086957  1.000000  0.457618\n",
       "318       1  0.104900  0.5  0.484753  0.130435  0.775994  0.179874\n",
       "708       1  0.056369  0.0  1.000000  0.347826  0.406201  0.165902"
      ]
     },
     "execution_count": 22,
     "metadata": {},
     "output_type": "execute_result"
    }
   ],
   "source": [
    "X_train.head()"
   ]
  },
  {
   "cell_type": "code",
   "execution_count": 23,
   "id": "scenic-charles",
   "metadata": {},
   "outputs": [
    {
     "name": "stdout",
     "output_type": "stream",
     "text": [
      "Coefficeints: [ 0.77139506 -0.45318828  0.1510726   0.38169653  0.53856704]\n",
      "r2_score: 0.2700728331979495\n",
      "mean_squared_error: 0.17451080455724258\n"
     ]
    }
   ],
   "source": [
    "# Linear without group, quality and with A to E predictors to get our risk score\n",
    "X = df_lw.drop('hired',axis=1)\n",
    "y = df_lw['hired']\n",
    "model = LinearRegression()\n",
    "model.fit(X.drop(['quality','group'],axis=1), y)\n",
    "y_pred = model.predict(X.drop(['quality','group'], axis=1))\n",
    "\n",
    "print(f'Coefficeints: {model.coef_}')\n",
    "print(f'r2_score: {r2_score(y, y_pred)}')\n",
    "print(f'mean_squared_error: {mean_squared_error(y, y_pred)}')"
   ]
  },
  {
   "cell_type": "code",
   "execution_count": 24,
   "id": "filled-myrtle",
   "metadata": {},
   "outputs": [
    {
     "data": {
      "text/html": [
       "<div>\n",
       "<style scoped>\n",
       "    .dataframe tbody tr th:only-of-type {\n",
       "        vertical-align: middle;\n",
       "    }\n",
       "\n",
       "    .dataframe tbody tr th {\n",
       "        vertical-align: top;\n",
       "    }\n",
       "\n",
       "    .dataframe thead th {\n",
       "        text-align: right;\n",
       "    }\n",
       "</style>\n",
       "<table border=\"1\" class=\"dataframe\">\n",
       "  <thead>\n",
       "    <tr style=\"text-align: right;\">\n",
       "      <th></th>\n",
       "      <th>actual</th>\n",
       "      <th>risk_score</th>\n",
       "      <th>female</th>\n",
       "      <th>quality</th>\n",
       "    </tr>\n",
       "  </thead>\n",
       "  <tbody>\n",
       "    <tr>\n",
       "      <th>0</th>\n",
       "      <td>1</td>\n",
       "      <td>0.306890</td>\n",
       "      <td>0</td>\n",
       "      <td>0.165853</td>\n",
       "    </tr>\n",
       "    <tr>\n",
       "      <th>1</th>\n",
       "      <td>0</td>\n",
       "      <td>0.306890</td>\n",
       "      <td>1</td>\n",
       "      <td>0.165752</td>\n",
       "    </tr>\n",
       "    <tr>\n",
       "      <th>2</th>\n",
       "      <td>0</td>\n",
       "      <td>0.178584</td>\n",
       "      <td>0</td>\n",
       "      <td>0.608314</td>\n",
       "    </tr>\n",
       "    <tr>\n",
       "      <th>3</th>\n",
       "      <td>1</td>\n",
       "      <td>0.455492</td>\n",
       "      <td>0</td>\n",
       "      <td>0.455447</td>\n",
       "    </tr>\n",
       "    <tr>\n",
       "      <th>4</th>\n",
       "      <td>0</td>\n",
       "      <td>0.116454</td>\n",
       "      <td>1</td>\n",
       "      <td>0.312300</td>\n",
       "    </tr>\n",
       "  </tbody>\n",
       "</table>\n",
       "</div>"
      ],
      "text/plain": [
       "   actual  risk_score  female   quality\n",
       "0       1    0.306890       0  0.165853\n",
       "1       0    0.306890       1  0.165752\n",
       "2       0    0.178584       0  0.608314\n",
       "3       1    0.455492       0  0.455447\n",
       "4       0    0.116454       1  0.312300"
      ]
     },
     "execution_count": 24,
     "metadata": {},
     "output_type": "execute_result"
    }
   ],
   "source": [
    "df_final = pd.DataFrame({'actual': y.values.reshape(-1,), 'risk_score': y_pred,\n",
    "                      'female':X['group'], 'quality':X['quality']\n",
    "                      })\n",
    "df_final.head()"
   ]
  },
  {
   "cell_type": "code",
   "execution_count": 25,
   "id": "administrative-blowing",
   "metadata": {},
   "outputs": [
    {
     "name": "stdout",
     "output_type": "stream",
     "text": [
      "Coefficeints: [0.44949318]\n",
      "r2_score: 0.3071289268902123\n",
      "mean_squared_error: 0.044737954518490664\n"
     ]
    }
   ],
   "source": [
    "# Linear with quality\n",
    "X = df_final[['quality']]\n",
    "y = df_final['risk_score']\n",
    "model = LinearRegression()\n",
    "model.fit(X, y)\n",
    "y_pred = model.predict(X)\n",
    "\n",
    "print(f'Coefficeints: {model.coef_}')\n",
    "print(f'r2_score: {r2_score(y, y_pred)}')\n",
    "print(f'mean_squared_error: {mean_squared_error(y, y_pred)}')"
   ]
  },
  {
   "cell_type": "code",
   "execution_count": 26,
   "id": "patent-celebrity",
   "metadata": {},
   "outputs": [
    {
     "name": "stdout",
     "output_type": "stream",
     "text": [
      "                            OLS Regression Results                            \n",
      "==============================================================================\n",
      "Dep. Variable:             risk_score   R-squared:                       0.307\n",
      "Model:                            OLS   Adj. R-squared:                  0.307\n",
      "Method:                 Least Squares   F-statistic:                     885.7\n",
      "Date:                Thu, 20 May 2021   Prob (F-statistic):          2.09e-161\n",
      "Time:                        07:43:37   Log-Likelihood:                 269.06\n",
      "No. Observations:                2000   AIC:                            -534.1\n",
      "Df Residuals:                    1998   BIC:                            -522.9\n",
      "Df Model:                           1                                         \n",
      "Covariance Type:            nonrobust                                         \n",
      "==============================================================================\n",
      "                 coef    std err          t      P>|t|      [0.025      0.975]\n",
      "------------------------------------------------------------------------------\n",
      "const          0.2067      0.008     26.108      0.000       0.191       0.222\n",
      "quality        0.4495      0.015     29.760      0.000       0.420       0.479\n",
      "==============================================================================\n",
      "Omnibus:                     1506.793   Durbin-Watson:                   1.990\n",
      "Prob(Omnibus):                  0.000   Jarque-Bera (JB):              121.308\n",
      "Skew:                          -0.093   Prob(JB):                     4.55e-27\n",
      "Kurtosis:                       1.808   Cond. No.                         3.81\n",
      "==============================================================================\n",
      "\n",
      "Notes:\n",
      "[1] Standard Errors assume that the covariance matrix of the errors is correctly specified.\n"
     ]
    }
   ],
   "source": [
    "X2 = sm.add_constant(X)\n",
    "est = sm.OLS(y, X2)\n",
    "est2 = est.fit()\n",
    "print(est2.summary())"
   ]
  },
  {
   "cell_type": "code",
   "execution_count": 27,
   "id": "extensive-directory",
   "metadata": {},
   "outputs": [
    {
     "name": "stdout",
     "output_type": "stream",
     "text": [
      "Coefficeints: [ 0.47103994 -0.09798038]\n",
      "r2_score: 0.34359337144545343\n",
      "mean_squared_error: 0.042383483787402844\n"
     ]
    }
   ],
   "source": [
    "# Linear with quality and gender\n",
    "X = df_final[['quality', 'female']]\n",
    "y = df_final['risk_score']\n",
    "model = LinearRegression()\n",
    "model.fit(X, y)\n",
    "y_pred = model.predict(X)\n",
    "\n",
    "print(f'Coefficeints: {model.coef_}')\n",
    "print(f'r2_score: {r2_score(y, y_pred)}')\n",
    "print(f'mean_squared_error: {mean_squared_error(y, y_pred)}')"
   ]
  },
  {
   "cell_type": "code",
   "execution_count": 28,
   "id": "entitled-brake",
   "metadata": {},
   "outputs": [
    {
     "name": "stdout",
     "output_type": "stream",
     "text": [
      "                            OLS Regression Results                            \n",
      "==============================================================================\n",
      "Dep. Variable:             risk_score   R-squared:                       0.344\n",
      "Model:                            OLS   Adj. R-squared:                  0.343\n",
      "Method:                 Least Squares   F-statistic:                     522.7\n",
      "Date:                Thu, 20 May 2021   Prob (F-statistic):          2.80e-183\n",
      "Time:                        07:43:37   Log-Likelihood:                 323.12\n",
      "No. Observations:                2000   AIC:                            -640.2\n",
      "Df Residuals:                    1997   BIC:                            -623.4\n",
      "Df Model:                           2                                         \n",
      "Covariance Type:            nonrobust                                         \n",
      "==============================================================================\n",
      "                 coef    std err          t      P>|t|      [0.025      0.975]\n",
      "------------------------------------------------------------------------------\n",
      "const          0.2466      0.009     28.712      0.000       0.230       0.263\n",
      "quality        0.4710      0.015     31.727      0.000       0.442       0.500\n",
      "female        -0.0980      0.009    -10.533      0.000      -0.116      -0.080\n",
      "==============================================================================\n",
      "Omnibus:                      912.503   Durbin-Watson:                   1.978\n",
      "Prob(Omnibus):                  0.000   Jarque-Bera (JB):              113.482\n",
      "Skew:                          -0.159   Prob(JB):                     2.28e-25\n",
      "Kurtosis:                       1.877   Cond. No.                         4.27\n",
      "==============================================================================\n",
      "\n",
      "Notes:\n",
      "[1] Standard Errors assume that the covariance matrix of the errors is correctly specified.\n"
     ]
    }
   ],
   "source": [
    "X2 = sm.add_constant(X)\n",
    "est = sm.OLS(y, X2)\n",
    "est2 = est.fit()\n",
    "print(est2.summary())"
   ]
  },
  {
   "cell_type": "markdown",
   "id": "wrong-corrections",
   "metadata": {},
   "source": [
    "#### We see that there is negative coefficient of female gender and it is significant\n",
    "#### Even without using gender (group) we see that the risk_score we predicted using variables A,B,C,D,E is biased against females\n",
    "#### Now we try and explore the possible reason, i.e. see if and how gender affects A,B,C,D,E,"
   ]
  },
  {
   "cell_type": "code",
   "execution_count": 29,
   "id": "aerial-lightweight",
   "metadata": {},
   "outputs": [
    {
     "data": {
      "text/html": [
       "<div>\n",
       "<style scoped>\n",
       "    .dataframe tbody tr th:only-of-type {\n",
       "        vertical-align: middle;\n",
       "    }\n",
       "\n",
       "    .dataframe tbody tr th {\n",
       "        vertical-align: top;\n",
       "    }\n",
       "\n",
       "    .dataframe thead th {\n",
       "        text-align: right;\n",
       "    }\n",
       "</style>\n",
       "<table border=\"1\" class=\"dataframe\">\n",
       "  <thead>\n",
       "    <tr style=\"text-align: right;\">\n",
       "      <th></th>\n",
       "      <th>A</th>\n",
       "      <th>B</th>\n",
       "      <th>C</th>\n",
       "      <th>D</th>\n",
       "      <th>E</th>\n",
       "      <th>hired</th>\n",
       "      <th>quality</th>\n",
       "    </tr>\n",
       "    <tr>\n",
       "      <th>group</th>\n",
       "      <th></th>\n",
       "      <th></th>\n",
       "      <th></th>\n",
       "      <th></th>\n",
       "      <th></th>\n",
       "      <th></th>\n",
       "      <th></th>\n",
       "    </tr>\n",
       "  </thead>\n",
       "  <tbody>\n",
       "    <tr>\n",
       "      <th>0</th>\n",
       "      <td>0.385096</td>\n",
       "      <td>0.2055</td>\n",
       "      <td>0.620267</td>\n",
       "      <td>0.342565</td>\n",
       "      <td>0.436268</td>\n",
       "      <td>0.412</td>\n",
       "      <td>0.376947</td>\n",
       "    </tr>\n",
       "    <tr>\n",
       "      <th>1</th>\n",
       "      <td>0.477277</td>\n",
       "      <td>0.4850</td>\n",
       "      <td>0.630841</td>\n",
       "      <td>0.363826</td>\n",
       "      <td>0.414978</td>\n",
       "      <td>0.379</td>\n",
       "      <td>0.463285</td>\n",
       "    </tr>\n",
       "  </tbody>\n",
       "</table>\n",
       "</div>"
      ],
      "text/plain": [
       "              A       B         C         D         E  hired   quality\n",
       "group                                                                 \n",
       "0      0.385096  0.2055  0.620267  0.342565  0.436268  0.412  0.376947\n",
       "1      0.477277  0.4850  0.630841  0.363826  0.414978  0.379  0.463285"
      ]
     },
     "execution_count": 29,
     "metadata": {},
     "output_type": "execute_result"
    }
   ],
   "source": [
    "df_lw.groupby('group').mean()"
   ]
  },
  {
   "cell_type": "code",
   "execution_count": 30,
   "id": "negative-sacramento",
   "metadata": {},
   "outputs": [
    {
     "data": {
      "text/html": [
       "<div>\n",
       "<style scoped>\n",
       "    .dataframe tbody tr th:only-of-type {\n",
       "        vertical-align: middle;\n",
       "    }\n",
       "\n",
       "    .dataframe tbody tr th {\n",
       "        vertical-align: top;\n",
       "    }\n",
       "\n",
       "    .dataframe thead th {\n",
       "        text-align: right;\n",
       "    }\n",
       "</style>\n",
       "<table border=\"1\" class=\"dataframe\">\n",
       "  <thead>\n",
       "    <tr style=\"text-align: right;\">\n",
       "      <th></th>\n",
       "      <th>group</th>\n",
       "      <th>A</th>\n",
       "      <th>B</th>\n",
       "      <th>C</th>\n",
       "      <th>D</th>\n",
       "      <th>E</th>\n",
       "      <th>hired</th>\n",
       "      <th>quality</th>\n",
       "    </tr>\n",
       "  </thead>\n",
       "  <tbody>\n",
       "    <tr>\n",
       "      <th>count</th>\n",
       "      <td>2000.000000</td>\n",
       "      <td>2000.000000</td>\n",
       "      <td>2000.000000</td>\n",
       "      <td>2000.000000</td>\n",
       "      <td>2000.000000</td>\n",
       "      <td>2000.000000</td>\n",
       "      <td>2000.00000</td>\n",
       "      <td>2000.000000</td>\n",
       "    </tr>\n",
       "    <tr>\n",
       "      <th>mean</th>\n",
       "      <td>0.500000</td>\n",
       "      <td>0.431186</td>\n",
       "      <td>0.345250</td>\n",
       "      <td>0.625554</td>\n",
       "      <td>0.353196</td>\n",
       "      <td>0.425623</td>\n",
       "      <td>0.39550</td>\n",
       "      <td>0.420116</td>\n",
       "    </tr>\n",
       "    <tr>\n",
       "      <th>std</th>\n",
       "      <td>0.500125</td>\n",
       "      <td>0.367851</td>\n",
       "      <td>0.423695</td>\n",
       "      <td>0.361473</td>\n",
       "      <td>0.313524</td>\n",
       "      <td>0.318849</td>\n",
       "      <td>0.48908</td>\n",
       "      <td>0.313370</td>\n",
       "    </tr>\n",
       "    <tr>\n",
       "      <th>min</th>\n",
       "      <td>0.000000</td>\n",
       "      <td>0.000000</td>\n",
       "      <td>0.000000</td>\n",
       "      <td>0.000000</td>\n",
       "      <td>0.000000</td>\n",
       "      <td>0.000000</td>\n",
       "      <td>0.00000</td>\n",
       "      <td>-0.002508</td>\n",
       "    </tr>\n",
       "    <tr>\n",
       "      <th>25%</th>\n",
       "      <td>0.000000</td>\n",
       "      <td>0.187807</td>\n",
       "      <td>0.000000</td>\n",
       "      <td>0.438060</td>\n",
       "      <td>0.086957</td>\n",
       "      <td>0.170236</td>\n",
       "      <td>0.00000</td>\n",
       "      <td>0.166008</td>\n",
       "    </tr>\n",
       "    <tr>\n",
       "      <th>50%</th>\n",
       "      <td>0.500000</td>\n",
       "      <td>0.195270</td>\n",
       "      <td>0.000000</td>\n",
       "      <td>0.813711</td>\n",
       "      <td>0.260870</td>\n",
       "      <td>0.406459</td>\n",
       "      <td>0.00000</td>\n",
       "      <td>0.314163</td>\n",
       "    </tr>\n",
       "    <tr>\n",
       "      <th>75%</th>\n",
       "      <td>1.000000</td>\n",
       "      <td>0.872898</td>\n",
       "      <td>1.000000</td>\n",
       "      <td>0.923288</td>\n",
       "      <td>0.565217</td>\n",
       "      <td>0.669803</td>\n",
       "      <td>1.00000</td>\n",
       "      <td>0.610094</td>\n",
       "    </tr>\n",
       "    <tr>\n",
       "      <th>max</th>\n",
       "      <td>1.000000</td>\n",
       "      <td>1.000000</td>\n",
       "      <td>1.000000</td>\n",
       "      <td>1.000000</td>\n",
       "      <td>1.000000</td>\n",
       "      <td>1.000000</td>\n",
       "      <td>1.00000</td>\n",
       "      <td>1.002386</td>\n",
       "    </tr>\n",
       "  </tbody>\n",
       "</table>\n",
       "</div>"
      ],
      "text/plain": [
       "             group            A            B            C            D  \\\n",
       "count  2000.000000  2000.000000  2000.000000  2000.000000  2000.000000   \n",
       "mean      0.500000     0.431186     0.345250     0.625554     0.353196   \n",
       "std       0.500125     0.367851     0.423695     0.361473     0.313524   \n",
       "min       0.000000     0.000000     0.000000     0.000000     0.000000   \n",
       "25%       0.000000     0.187807     0.000000     0.438060     0.086957   \n",
       "50%       0.500000     0.195270     0.000000     0.813711     0.260870   \n",
       "75%       1.000000     0.872898     1.000000     0.923288     0.565217   \n",
       "max       1.000000     1.000000     1.000000     1.000000     1.000000   \n",
       "\n",
       "                 E       hired      quality  \n",
       "count  2000.000000  2000.00000  2000.000000  \n",
       "mean      0.425623     0.39550     0.420116  \n",
       "std       0.318849     0.48908     0.313370  \n",
       "min       0.000000     0.00000    -0.002508  \n",
       "25%       0.170236     0.00000     0.166008  \n",
       "50%       0.406459     0.00000     0.314163  \n",
       "75%       0.669803     1.00000     0.610094  \n",
       "max       1.000000     1.00000     1.002386  "
      ]
     },
     "execution_count": 30,
     "metadata": {},
     "output_type": "execute_result"
    }
   ],
   "source": [
    "df_lw.describe()"
   ]
  },
  {
   "cell_type": "code",
   "execution_count": 31,
   "id": "suited-provider",
   "metadata": {},
   "outputs": [
    {
     "data": {
      "text/html": [
       "<div>\n",
       "<style scoped>\n",
       "    .dataframe tbody tr th:only-of-type {\n",
       "        vertical-align: middle;\n",
       "    }\n",
       "\n",
       "    .dataframe tbody tr th {\n",
       "        vertical-align: top;\n",
       "    }\n",
       "\n",
       "    .dataframe thead th {\n",
       "        text-align: right;\n",
       "    }\n",
       "</style>\n",
       "<table border=\"1\" class=\"dataframe\">\n",
       "  <thead>\n",
       "    <tr style=\"text-align: right;\">\n",
       "      <th></th>\n",
       "      <th>A</th>\n",
       "      <th>B</th>\n",
       "      <th>C</th>\n",
       "      <th>D</th>\n",
       "      <th>E</th>\n",
       "      <th>hired</th>\n",
       "      <th>quality</th>\n",
       "    </tr>\n",
       "    <tr>\n",
       "      <th>group</th>\n",
       "      <th></th>\n",
       "      <th></th>\n",
       "      <th></th>\n",
       "      <th></th>\n",
       "      <th></th>\n",
       "      <th></th>\n",
       "      <th></th>\n",
       "    </tr>\n",
       "  </thead>\n",
       "  <tbody>\n",
       "    <tr>\n",
       "      <th>0</th>\n",
       "      <td>1000</td>\n",
       "      <td>1000</td>\n",
       "      <td>1000</td>\n",
       "      <td>1000</td>\n",
       "      <td>1000</td>\n",
       "      <td>1000</td>\n",
       "      <td>1000</td>\n",
       "    </tr>\n",
       "    <tr>\n",
       "      <th>1</th>\n",
       "      <td>1000</td>\n",
       "      <td>1000</td>\n",
       "      <td>1000</td>\n",
       "      <td>1000</td>\n",
       "      <td>1000</td>\n",
       "      <td>1000</td>\n",
       "      <td>1000</td>\n",
       "    </tr>\n",
       "  </tbody>\n",
       "</table>\n",
       "</div>"
      ],
      "text/plain": [
       "          A     B     C     D     E  hired  quality\n",
       "group                                              \n",
       "0      1000  1000  1000  1000  1000   1000     1000\n",
       "1      1000  1000  1000  1000  1000   1000     1000"
      ]
     },
     "execution_count": 31,
     "metadata": {},
     "output_type": "execute_result"
    }
   ],
   "source": [
    "df_lw.groupby('group').count()"
   ]
  },
  {
   "cell_type": "code",
   "execution_count": 32,
   "id": "pharmaceutical-bankruptcy",
   "metadata": {},
   "outputs": [
    {
     "data": {
      "image/png": "[encoded data removed]",
      "text/plain": [
       "<Figure size 720x360 with 2 Axes>"
      ]
     },
     "metadata": {
      "needs_background": "light"
     },
     "output_type": "display_data"
    }
   ],
   "source": [
    "plt.figure(figsize=(10,5))\n",
    "sns.heatmap(df_lw.corr(), annot=True)\n",
    "plt.show()"
   ]
  },
  {
   "cell_type": "markdown",
   "id": "correct-allen",
   "metadata": {},
   "source": [
    "#### From the above we see that gender is slightly correlated to B (0.33) and even more slightly with A (0.13)"
   ]
  },
  {
   "cell_type": "markdown",
   "id": "behavioral-florence",
   "metadata": {},
   "source": [
    "#### We will check the statistical significance of the same i.e. A, B, C, D, E versus Gender"
   ]
  },
  {
   "cell_type": "code",
   "execution_count": 33,
   "id": "hydraulic-cycling",
   "metadata": {},
   "outputs": [
    {
     "name": "stdout",
     "output_type": "stream",
     "text": [
      "                            OLS Regression Results                            \n",
      "==============================================================================\n",
      "Dep. Variable:                      A   R-squared:                       0.016\n",
      "Model:                            OLS   Adj. R-squared:                  0.015\n",
      "Method:                 Least Squares   F-statistic:                     31.88\n",
      "Date:                Thu, 20 May 2021   Prob (F-statistic):           1.87e-08\n",
      "Time:                        07:43:38   Log-Likelihood:                -821.39\n",
      "No. Observations:                2000   AIC:                             1647.\n",
      "Df Residuals:                    1998   BIC:                             1658.\n",
      "Df Model:                           1                                         \n",
      "Covariance Type:            nonrobust                                         \n",
      "==============================================================================\n",
      "                 coef    std err          t      P>|t|      [0.025      0.975]\n",
      "------------------------------------------------------------------------------\n",
      "const          0.3851      0.012     33.360      0.000       0.362       0.408\n",
      "group          0.0922      0.016      5.647      0.000       0.060       0.124\n",
      "==============================================================================\n",
      "Omnibus:                    18610.101   Durbin-Watson:                   2.019\n",
      "Prob(Omnibus):                  0.000   Jarque-Bera (JB):              217.556\n",
      "Skew:                           0.384   Prob(JB):                     5.73e-48\n",
      "Kurtosis:                       1.579   Cond. No.                         2.62\n",
      "==============================================================================\n",
      "\n",
      "Notes:\n",
      "[1] Standard Errors assume that the covariance matrix of the errors is correctly specified.\n"
     ]
    }
   ],
   "source": [
    "X = df_lw[['group']]\n",
    "y = df_lw['A']\n",
    "X2 = sm.add_constant(X)\n",
    "est = sm.OLS(y, X2)\n",
    "est2 = est.fit()\n",
    "print(est2.summary())"
   ]
  },
  {
   "cell_type": "markdown",
   "id": "other-ethics",
   "metadata": {},
   "source": [
    "#### Gender significantly affects A"
   ]
  },
  {
   "cell_type": "code",
   "execution_count": 34,
   "id": "burning-mission",
   "metadata": {},
   "outputs": [
    {
     "name": "stdout",
     "output_type": "stream",
     "text": [
      "                            OLS Regression Results                            \n",
      "==============================================================================\n",
      "Dep. Variable:                      B   R-squared:                       0.109\n",
      "Model:                            OLS   Adj. R-squared:                  0.108\n",
      "Method:                 Least Squares   F-statistic:                     244.0\n",
      "Date:                Thu, 20 May 2021   Prob (F-statistic):           5.42e-52\n",
      "Time:                        07:43:38   Log-Likelihood:                -1004.7\n",
      "No. Observations:                2000   AIC:                             2013.\n",
      "Df Residuals:                    1998   BIC:                             2025.\n",
      "Df Model:                           1                                         \n",
      "Covariance Type:            nonrobust                                         \n",
      "==============================================================================\n",
      "                 coef    std err          t      P>|t|      [0.025      0.975]\n",
      "------------------------------------------------------------------------------\n",
      "const          0.2055      0.013     16.243      0.000       0.181       0.230\n",
      "group          0.2795      0.018     15.622      0.000       0.244       0.315\n",
      "==============================================================================\n",
      "Omnibus:                      531.337   Durbin-Watson:                   2.017\n",
      "Prob(Omnibus):                  0.000   Jarque-Bera (JB):              174.166\n",
      "Skew:                           0.520   Prob(JB):                     1.51e-38\n",
      "Kurtosis:                       1.997   Cond. No.                         2.62\n",
      "==============================================================================\n",
      "\n",
      "Notes:\n",
      "[1] Standard Errors assume that the covariance matrix of the errors is correctly specified.\n"
     ]
    }
   ],
   "source": [
    "X = df_lw[['group']]\n",
    "y = df_lw['B']\n",
    "X2 = sm.add_constant(X)\n",
    "est = sm.OLS(y, X2)\n",
    "est2 = est.fit()\n",
    "print(est2.summary())"
   ]
  },
  {
   "cell_type": "markdown",
   "id": "referenced-programming",
   "metadata": {},
   "source": [
    "#### Gender significantly affects B"
   ]
  },
  {
   "cell_type": "code",
   "execution_count": 35,
   "id": "covered-crime",
   "metadata": {},
   "outputs": [
    {
     "name": "stdout",
     "output_type": "stream",
     "text": [
      "                            OLS Regression Results                            \n",
      "==============================================================================\n",
      "Dep. Variable:                      C   R-squared:                       0.000\n",
      "Model:                            OLS   Adj. R-squared:                 -0.000\n",
      "Method:                 Least Squares   F-statistic:                    0.4278\n",
      "Date:                Thu, 20 May 2021   Prob (F-statistic):              0.513\n",
      "Time:                        07:43:38   Log-Likelihood:                -802.03\n",
      "No. Observations:                2000   AIC:                             1608.\n",
      "Df Residuals:                    1998   BIC:                             1619.\n",
      "Df Model:                           1                                         \n",
      "Covariance Type:            nonrobust                                         \n",
      "==============================================================================\n",
      "                 coef    std err          t      P>|t|      [0.025      0.975]\n",
      "------------------------------------------------------------------------------\n",
      "const          0.6203      0.011     54.255      0.000       0.598       0.643\n",
      "group          0.0106      0.016      0.654      0.513      -0.021       0.042\n",
      "==============================================================================\n",
      "Omnibus:                      805.069   Durbin-Watson:                   2.008\n",
      "Prob(Omnibus):                  0.000   Jarque-Bera (JB):              262.763\n",
      "Skew:                          -0.707   Prob(JB):                     8.74e-58\n",
      "Kurtosis:                       1.926   Cond. No.                         2.62\n",
      "==============================================================================\n",
      "\n",
      "Notes:\n",
      "[1] Standard Errors assume that the covariance matrix of the errors is correctly specified.\n"
     ]
    }
   ],
   "source": [
    "X = df_lw[['group']]\n",
    "y = df_lw['C']\n",
    "X2 = sm.add_constant(X)\n",
    "est = sm.OLS(y, X2)\n",
    "est2 = est.fit()\n",
    "print(est2.summary())"
   ]
  },
  {
   "cell_type": "markdown",
   "id": "reported-semiconductor",
   "metadata": {},
   "source": [
    "#### Gender does not significantly affect C"
   ]
  },
  {
   "cell_type": "code",
   "execution_count": 36,
   "id": "sunrise-covering",
   "metadata": {},
   "outputs": [
    {
     "name": "stdout",
     "output_type": "stream",
     "text": [
      "                            OLS Regression Results                            \n",
      "==============================================================================\n",
      "Dep. Variable:                      D   R-squared:                       0.001\n",
      "Model:                            OLS   Adj. R-squared:                  0.001\n",
      "Method:                 Least Squares   F-statistic:                     2.301\n",
      "Date:                Thu, 20 May 2021   Prob (F-statistic):              0.129\n",
      "Time:                        07:43:38   Log-Likelihood:                -516.47\n",
      "No. Observations:                2000   AIC:                             1037.\n",
      "Df Residuals:                    1998   BIC:                             1048.\n",
      "Df Model:                           1                                         \n",
      "Covariance Type:            nonrobust                                         \n",
      "==============================================================================\n",
      "                 coef    std err          t      P>|t|      [0.025      0.975]\n",
      "------------------------------------------------------------------------------\n",
      "const          0.3426      0.010     34.563      0.000       0.323       0.362\n",
      "group          0.0213      0.014      1.517      0.129      -0.006       0.049\n",
      "==============================================================================\n",
      "Omnibus:                      238.344   Durbin-Watson:                   1.983\n",
      "Prob(Omnibus):                  0.000   Jarque-Bera (JB):              322.770\n",
      "Skew:                           0.974   Prob(JB):                     8.16e-71\n",
      "Kurtosis:                       2.716   Cond. No.                         2.62\n",
      "==============================================================================\n",
      "\n",
      "Notes:\n",
      "[1] Standard Errors assume that the covariance matrix of the errors is correctly specified.\n"
     ]
    }
   ],
   "source": [
    "X = df_lw[['group']]\n",
    "y = df_lw['D']\n",
    "X2 = sm.add_constant(X)\n",
    "est = sm.OLS(y, X2)\n",
    "est2 = est.fit()\n",
    "print(est2.summary())"
   ]
  },
  {
   "cell_type": "markdown",
   "id": "excellent-archive",
   "metadata": {},
   "source": [
    "#### Gender does not significantly affect D"
   ]
  },
  {
   "cell_type": "code",
   "execution_count": 37,
   "id": "promotional-watts",
   "metadata": {},
   "outputs": [
    {
     "name": "stdout",
     "output_type": "stream",
     "text": [
      "                            OLS Regression Results                            \n",
      "==============================================================================\n",
      "Dep. Variable:                      E   R-squared:                       0.001\n",
      "Model:                            OLS   Adj. R-squared:                  0.001\n",
      "Method:                 Least Squares   F-statistic:                     2.231\n",
      "Date:                Thu, 20 May 2021   Prob (F-statistic):              0.135\n",
      "Time:                        07:43:38   Log-Likelihood:                -550.19\n",
      "No. Observations:                2000   AIC:                             1104.\n",
      "Df Residuals:                    1998   BIC:                             1116.\n",
      "Df Model:                           1                                         \n",
      "Covariance Type:            nonrobust                                         \n",
      "==============================================================================\n",
      "                 coef    std err          t      P>|t|      [0.025      0.975]\n",
      "------------------------------------------------------------------------------\n",
      "const          0.4363      0.010     43.281      0.000       0.417       0.456\n",
      "group         -0.0213      0.014     -1.494      0.135      -0.049       0.007\n",
      "==============================================================================\n",
      "Omnibus:                      400.830   Durbin-Watson:                   1.986\n",
      "Prob(Omnibus):                  0.000   Jarque-Bera (JB):              102.386\n",
      "Skew:                           0.269   Prob(JB):                     5.85e-23\n",
      "Kurtosis:                       2.031   Cond. No.                         2.62\n",
      "==============================================================================\n",
      "\n",
      "Notes:\n",
      "[1] Standard Errors assume that the covariance matrix of the errors is correctly specified.\n"
     ]
    }
   ],
   "source": [
    "X = df_lw[['group']]\n",
    "y = df_lw['E']\n",
    "X2 = sm.add_constant(X)\n",
    "est = sm.OLS(y, X2)\n",
    "est2 = est.fit()\n",
    "print(est2.summary())"
   ]
  },
  {
   "cell_type": "markdown",
   "id": "present-detective",
   "metadata": {},
   "source": [
    "#### Gender does not significantly affect E"
   ]
  },
  {
   "cell_type": "markdown",
   "id": "worth-latvia",
   "metadata": {},
   "source": [
    "#### From the above we can conclude that gender affects A, B which caused our risk_score to be biased"
   ]
  }
 ],
 "metadata": {
  "kernelspec": {
   "display_name": "Python 3",
   "language": "python",
   "name": "python3"
  },
  "language_info": {
   "codemirror_mode": {
    "name": "ipython",
    "version": 3
   },
   "file_extension": ".py",
   "mimetype": "text/x-python",
   "name": "python",
   "nbconvert_exporter": "python",
   "pygments_lexer": "ipython3",
   "version": "3.8.8"
  }
 },
 "nbformat": 4,
 "nbformat_minor": 5
}
