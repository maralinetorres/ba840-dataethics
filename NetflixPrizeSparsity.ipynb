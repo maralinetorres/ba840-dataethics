{
 "cells": [
  {
   "cell_type": "code",
   "execution_count": 1,
   "metadata": {},
   "outputs": [],
   "source": [
    "#FIRST STEP: DOWNLOAD THE DATA!\n",
    "#https://web.archive.org/web/20090926031123/http://archive.ics.uci.edu/ml/machine-learning-databases/netflix\n",
    "#download the nf_prize_dataset.tar.gz\n",
    "\n",
    "#SECOND: unpack the archive\n",
    "\n",
    "#AFTER THAT, then you can run the following:  \n",
    "import os\n",
    "import pandas as pd\n",
    "\n",
    "#edit the following line to point to the training_set folder on your computer\n",
    "#that you just made in the \"SECOND\" step, above\n",
    "os.chdir('/Users/maralinetorres/Desktop/data/download/training_set')\n",
    "ratingFiles = os.listdir()\n"
   ]
  },
  {
   "cell_type": "code",
   "execution_count": null,
   "metadata": {},
   "outputs": [],
   "source": [
    "ratingFiles[-1]"
   ]
  },
  {
   "cell_type": "code",
   "execution_count": null,
   "metadata": {},
   "outputs": [],
   "source": [
    "#look up a movie that you watched and find its number in the file containing movie names.  \n",
    "#Insert the number below:\n",
    "\n",
    "#12338,2004,Harry Potter and the Prisoner of Azkaban\n",
    "#movieID = 471\n",
    "movieID = 12338\n",
    "\n",
    "#enter your rating (1, 2, 3, 4, or 5 stars)\n",
    "rat= 5"
   ]
  },
  {
   "cell_type": "code",
   "execution_count": null,
   "metadata": {},
   "outputs": [],
   "source": [
    "#first movie you watched\n",
    "usersWhoRatedFocalMovie = pd.read_csv(ratingFiles[movieID-1], sep=',', skiprows=1, names=['user','rating','date'])\n",
    "considerationSet = list(usersWhoRatedFocalMovie.user.loc[usersWhoRatedFocalMovie['rating'] ==rat ])\n",
    "\n",
    "#there are 480189 users in the data set.  \n",
    "#how many of them rated my movie the same as I did?\n",
    "len(considerationSet)"
   ]
  },
  {
   "cell_type": "code",
   "execution_count": 2,
   "metadata": {},
   "outputs": [
    {
     "data": {
      "text/plain": [
       "17"
      ]
     },
     "execution_count": 2,
     "metadata": {},
     "output_type": "execute_result"
    }
   ],
   "source": [
    "#for subsequent movies, copy and paste the next cell, inserting a new number for each additional movie you \n",
    "#watched, as well as a rating:\n",
    "#10820,1985,Back to the Future\n",
    "movieID = 10820\n",
    "rat = 5\n",
    "#first movie you watched\n",
    "usersWhoRatedFocalMovie = pd.read_csv(ratingFiles[movieID-1], sep=',', skiprows=1, names=['user','rating','date'])\n",
    "#considerationSet = list(set(considerationSet) & set(list(usersWhoRatedFocalMovie.user.loc[usersWhoRatedFocalMovie['rating'] ==rat ]))) \n",
    "considerationSet = list(usersWhoRatedFocalMovie.user.loc[usersWhoRatedFocalMovie['rating'] ==rat ])\n",
    "\n",
    "#there are 480189 users in the data set.  \n",
    "#how many of them rated my movie the same as I did?\n",
    "len(considerationSet)"
   ]
  },
  {
   "cell_type": "code",
   "execution_count": 3,
   "metadata": {},
   "outputs": [
    {
     "data": {
      "text/html": [
       "<div>\n",
       "<style scoped>\n",
       "    .dataframe tbody tr th:only-of-type {\n",
       "        vertical-align: middle;\n",
       "    }\n",
       "\n",
       "    .dataframe tbody tr th {\n",
       "        vertical-align: top;\n",
       "    }\n",
       "\n",
       "    .dataframe thead th {\n",
       "        text-align: right;\n",
       "    }\n",
       "</style>\n",
       "<table border=\"1\" class=\"dataframe\">\n",
       "  <thead>\n",
       "    <tr style=\"text-align: right;\">\n",
       "      <th></th>\n",
       "      <th>user</th>\n",
       "      <th>rating</th>\n",
       "      <th>date</th>\n",
       "    </tr>\n",
       "  </thead>\n",
       "  <tbody>\n",
       "    <tr>\n",
       "      <th>0</th>\n",
       "      <td>205345</td>\n",
       "      <td>5</td>\n",
       "      <td>2005-08-28</td>\n",
       "    </tr>\n",
       "    <tr>\n",
       "      <th>1</th>\n",
       "      <td>2625420</td>\n",
       "      <td>2</td>\n",
       "      <td>2004-06-04</td>\n",
       "    </tr>\n",
       "    <tr>\n",
       "      <th>2</th>\n",
       "      <td>2095755</td>\n",
       "      <td>2</td>\n",
       "      <td>2004-10-25</td>\n",
       "    </tr>\n",
       "    <tr>\n",
       "      <th>3</th>\n",
       "      <td>1573993</td>\n",
       "      <td>4</td>\n",
       "      <td>2004-07-21</td>\n",
       "    </tr>\n",
       "    <tr>\n",
       "      <th>4</th>\n",
       "      <td>1060536</td>\n",
       "      <td>3</td>\n",
       "      <td>2004-11-01</td>\n",
       "    </tr>\n",
       "    <tr>\n",
       "      <th>...</th>\n",
       "      <td>...</td>\n",
       "      <td>...</td>\n",
       "      <td>...</td>\n",
       "    </tr>\n",
       "    <tr>\n",
       "      <th>102</th>\n",
       "      <td>953533</td>\n",
       "      <td>4</td>\n",
       "      <td>2004-05-27</td>\n",
       "    </tr>\n",
       "    <tr>\n",
       "      <th>103</th>\n",
       "      <td>2581848</td>\n",
       "      <td>4</td>\n",
       "      <td>2005-05-16</td>\n",
       "    </tr>\n",
       "    <tr>\n",
       "      <th>104</th>\n",
       "      <td>1476849</td>\n",
       "      <td>5</td>\n",
       "      <td>2005-01-19</td>\n",
       "    </tr>\n",
       "    <tr>\n",
       "      <th>105</th>\n",
       "      <td>245254</td>\n",
       "      <td>5</td>\n",
       "      <td>2005-02-23</td>\n",
       "    </tr>\n",
       "    <tr>\n",
       "      <th>106</th>\n",
       "      <td>1404074</td>\n",
       "      <td>5</td>\n",
       "      <td>2005-10-25</td>\n",
       "    </tr>\n",
       "  </tbody>\n",
       "</table>\n",
       "<p>107 rows × 3 columns</p>\n",
       "</div>"
      ],
      "text/plain": [
       "        user  rating        date\n",
       "0     205345       5  2005-08-28\n",
       "1    2625420       2  2004-06-04\n",
       "2    2095755       2  2004-10-25\n",
       "3    1573993       4  2004-07-21\n",
       "4    1060536       3  2004-11-01\n",
       "..       ...     ...         ...\n",
       "102   953533       4  2004-05-27\n",
       "103  2581848       4  2005-05-16\n",
       "104  1476849       5  2005-01-19\n",
       "105   245254       5  2005-02-23\n",
       "106  1404074       5  2005-10-25\n",
       "\n",
       "[107 rows x 3 columns]"
      ]
     },
     "execution_count": 3,
     "metadata": {},
     "output_type": "execute_result"
    }
   ],
   "source": [
    "usersWhoRatedFocalMovie"
   ]
  },
  {
   "cell_type": "code",
   "execution_count": null,
   "metadata": {},
   "outputs": [],
   "source": [
    "#look up movie name and find its number.  Insert the number below:\n",
    "movieID = 10921 #Just Married\n",
    "#enter your rating below\n",
    "rat = 2\n",
    "\n",
    "#load the file\n",
    "usersWhoRatedFocalMovie = pd.read_csv(ratingFiles[movieID-1], sep=',', skiprows=1, names=['user','rating','date'])\n",
    "#find the intersection of the existing considerationSet and the people who have rated this movie\n",
    "considerationSet = list(set(considerationSet) & set(list(usersWhoRatedFocalMovie.user.loc[usersWhoRatedFocalMovie['rating'] ==rat ]))) \n",
    "#considerationSet = list(usersWhoRatedFocalMovie.user.loc[usersWhoRatedFocalMovie['rating'] ==rat ])\n",
    "                        #\n",
    "#How many users are there in the data that have the same pair of ratings as you?    \n",
    "len(considerationSet)"
   ]
  },
  {
   "cell_type": "code",
   "execution_count": null,
   "metadata": {},
   "outputs": [],
   "source": [
    "#look up movie name and find its number.  Insert the number below:\n",
    "#11607,2005,Hotel Rwanda\n",
    "movieID = 11607\n",
    "#enter your rating below\n",
    "rat = 4\n",
    "\n",
    "#load the file\n",
    "usersWhoRatedFocalMovie = pd.read_csv(ratingFiles[movieID-1], sep=',', skiprows=1, names=['user','rating','date'])\n",
    "#find the intersection of the existing considerationSet and the people who have rated this movie\n",
    "#considerationSet = list(set(considerationSet) & set(list(usersWhoRatedFocalMovie.user.loc[usersWhoRatedFocalMovie['rating'] ==rat ]))) \n",
    "considerationSet = list(usersWhoRatedFocalMovie.user.loc[usersWhoRatedFocalMovie['rating'] ==rat ])\n",
    "    #\n",
    "len(considerationSet)"
   ]
  },
  {
   "cell_type": "code",
   "execution_count": null,
   "metadata": {},
   "outputs": [],
   "source": [
    "#look up movie name and find its number.  Insert the number below:\n",
    "#3875,2004,The Motorcycle Diaries\n",
    "movieID = 3875\n",
    "#enter your rating below\n",
    "rat = 5\n",
    "\n",
    "#load the file\n",
    "usersWhoRatedFocalMovie = pd.read_csv(ratingFiles[movieID-1], sep=',', skiprows=1, names=['user','rating','date'])\n",
    "#find the intersection of the existing considerationSet and the people who have rated this movie\n",
    "considerationSet = list(set(considerationSet) & set(list(usersWhoRatedFocalMovie.user.loc[usersWhoRatedFocalMovie['rating'] ==rat ]))) \n",
    "\n",
    "                        #\n",
    "len(considerationSet)"
   ]
  },
  {
   "cell_type": "code",
   "execution_count": null,
   "metadata": {},
   "outputs": [],
   "source": [
    "#look up movie name and find its number.  Insert the number below:\n",
    "#3864,2005,Batman Begins\n",
    "movieID = 3864\n",
    "#enter your rating below\n",
    "rat = 4\n",
    "\n",
    "#load the file\n",
    "usersWhoRatedFocalMovie = pd.read_csv(ratingFiles[movieID-1], sep=',', skiprows=1, names=['user','rating','date'])\n",
    "#find the intersection of the existing considerationSet and the people who have rated this movie\n",
    "#considerationSet = list(set(considerationSet) & set(list(usersWhoRatedFocalMovie.user.loc[usersWhoRatedFocalMovie['rating'] ==rat ]))) \n",
    "considerationSet = list(usersWhoRatedFocalMovie.user.loc[usersWhoRatedFocalMovie['rating'] ==rat ])\n",
    "                        #\n",
    "len(considerationSet)"
   ]
  },
  {
   "cell_type": "code",
   "execution_count": null,
   "metadata": {},
   "outputs": [],
   "source": []
  }
 ],
 "metadata": {
  "kernelspec": {
   "display_name": "Python 3",
   "language": "python",
   "name": "python3"
  },
  "language_info": {
   "codemirror_mode": {
    "name": "ipython",
    "version": 3
   },
   "file_extension": ".py",
   "mimetype": "text/x-python",
   "name": "python",
   "nbconvert_exporter": "python",
   "pygments_lexer": "ipython3",
   "version": "3.8.8"
  }
 },
 "nbformat": 4,
 "nbformat_minor": 4
}
